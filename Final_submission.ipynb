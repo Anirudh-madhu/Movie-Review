{
 "cells": [
  {
   "cell_type": "markdown",
   "metadata": {},
   "source": [
    "\n",
    "\n",
    "   \n",
    "   \n",
    "   \n",
    "   \n",
    "   \n",
    " "
   ]
  },
  {
   "cell_type": "markdown",
   "metadata": {},
   "source": [
    "#### Importing required Libraries."
   ]
  },
  {
   "cell_type": "code",
   "execution_count": 108,
   "metadata": {},
   "outputs": [],
   "source": [
    "import pandas as pd\n",
    "import numpy as np\n",
    "from sklearn.model_selection import train_test_split\n",
    "from sklearn.preprocessing import MinMaxScaler,LabelEncoder,OneHotEncoder\n",
    "from sklearn.metrics import confusion_matrix\n",
    "\n",
    "from keras.preprocessing.text import Tokenizer\n",
    "from keras.preprocessing.sequence import pad_sequences\n",
    "\n",
    "from keras.layers import Input,Embedding,Dense,Flatten,concatenate\n",
    "from keras.models import Model\n",
    "from sklearn.metrics import f1_score\n",
    "import nltk\n",
    "from nltk import word_tokenize\n",
    "import re\n",
    "import spacy\n",
    "from sklearn import tree\n",
    "from sklearn.ensemble import RandomForestClassifier\n",
    "from sklearn.neighbors import KNeighborsClassifier"
   ]
  },
  {
   "cell_type": "markdown",
   "metadata": {},
   "source": [
    "### Web scraping by using Request"
   ]
  },
  {
   "cell_type": "code",
   "execution_count": 359,
   "metadata": {},
   "outputs": [
    {
     "ename": "IndentationError",
     "evalue": "unexpected indent (<ipython-input-359-101317dc4ea7>, line 4)",
     "output_type": "error",
     "traceback": [
      "\u001b[1;36m  File \u001b[1;32m\"<ipython-input-359-101317dc4ea7>\"\u001b[1;36m, line \u001b[1;32m4\u001b[0m\n\u001b[1;33m    'Referer': 'https://www.rottentomatoes.com/m/the_lion_king_2019/reviews?type=user',\u001b[0m\n\u001b[1;37m    ^\u001b[0m\n\u001b[1;31mIndentationError\u001b[0m\u001b[1;31m:\u001b[0m unexpected indent\n"
     ]
    }
   ],
   "source": [
    "#import requests\n",
    "#df1=pd.DataFrame()\n",
    "#headers = {\n",
    "    'Referer': 'https://www.rottentomatoes.com/m/the_lion_king_2019/reviews?type=user',\n",
    "    'User-Agent': 'Chrome/74.0.3729.108',\n",
    "    'X-Requested-With': 'XMLHttpRequest',\n",
    "#}\n",
    "\n",
    "#url = 'https://www.rottentomatoes.com/napi/movie/9057c2cf-7cab-317f-876f-e50b245ca76e/reviews/user'\n",
    "\n",
    "#payload = {\n",
    "    'direction': 'next',\n",
    "    'endCursor': '',\n",
    "    'startCursor': '',\n",
    "#}\n",
    "\n",
    "#sess = requests.Session()\n",
    "\n",
    "#i=0\n",
    "\n",
    "#while i<300:\n",
    "   # r = sess.get(url, headers=headers, params=payload)\n",
    "    #data = r.json()\n",
    "\n",
    "    #if not data['pageInfo']['hasNextPage']:\n",
    "        #break\n",
    "    #payload['endCursor'] = data['pageInfo']['endCursor']\n",
    "    #payload['startCursor'] = data['pageInfo']['startCursor']\n",
    "        \n",
    "    #df=pd.DataFrame.from_dict(data['reviews'], orient='columns')\n",
    "    #df1=df1.append(df, ignore_index=True)\n",
    "    #i=i+1\n",
    "    #time.sleep(5)"
   ]
  },
  {
   "cell_type": "markdown",
   "metadata": {},
   "source": [
    "## Importing the data"
   ]
  },
  {
   "cell_type": "code",
   "execution_count": 114,
   "metadata": {},
   "outputs": [
    {
     "data": {
      "text/html": [
       "<div>\n",
       "<style scoped>\n",
       "    .dataframe tbody tr th:only-of-type {\n",
       "        vertical-align: middle;\n",
       "    }\n",
       "\n",
       "    .dataframe tbody tr th {\n",
       "        vertical-align: top;\n",
       "    }\n",
       "\n",
       "    .dataframe thead th {\n",
       "        text-align: right;\n",
       "    }\n",
       "</style>\n",
       "<table border=\"1\" class=\"dataframe\">\n",
       "  <thead>\n",
       "    <tr style=\"text-align: right;\">\n",
       "      <th></th>\n",
       "      <th>Unnamed: 0</th>\n",
       "      <th>createDate</th>\n",
       "      <th>displayImageUrl</th>\n",
       "      <th>displayName</th>\n",
       "      <th>hasProfanity</th>\n",
       "      <th>hasSpoilers</th>\n",
       "      <th>isSuperReviewer</th>\n",
       "      <th>isVerified</th>\n",
       "      <th>rating</th>\n",
       "      <th>review</th>\n",
       "      <th>score</th>\n",
       "      <th>timeFromCreation</th>\n",
       "      <th>updateDate</th>\n",
       "      <th>user</th>\n",
       "    </tr>\n",
       "  </thead>\n",
       "  <tbody>\n",
       "    <tr>\n",
       "      <th>0</th>\n",
       "      <td>0</td>\n",
       "      <td>2019-08-19T09:35:03.174Z</td>\n",
       "      <td>NaN</td>\n",
       "      <td>kara</td>\n",
       "      <td>False</td>\n",
       "      <td>False</td>\n",
       "      <td>False</td>\n",
       "      <td>True</td>\n",
       "      <td>STAR_5</td>\n",
       "      <td>Amazing! Music , animals, scenery!</td>\n",
       "      <td>5.0</td>\n",
       "      <td>15m ago</td>\n",
       "      <td>2019-08-19T09:35:03.174Z</td>\n",
       "      <td>{'userId': '04c1f858-a9b2-4ceb-befb-8a32d168af...</td>\n",
       "    </tr>\n",
       "    <tr>\n",
       "      <th>1</th>\n",
       "      <td>1</td>\n",
       "      <td>2019-08-19T09:32:29.179Z</td>\n",
       "      <td>NaN</td>\n",
       "      <td>Octa Z</td>\n",
       "      <td>False</td>\n",
       "      <td>False</td>\n",
       "      <td>False</td>\n",
       "      <td>False</td>\n",
       "      <td>STAR_1_5</td>\n",
       "      <td>I don't even know why the director was needed ...</td>\n",
       "      <td>1.5</td>\n",
       "      <td>17m ago</td>\n",
       "      <td>2019-08-19T09:32:29.179Z</td>\n",
       "      <td>{'userId': '978204858', 'realm': 'RT', 'displa...</td>\n",
       "    </tr>\n",
       "    <tr>\n",
       "      <th>2</th>\n",
       "      <td>2</td>\n",
       "      <td>2019-08-19T09:11:38.339Z</td>\n",
       "      <td>NaN</td>\n",
       "      <td>Nancy B</td>\n",
       "      <td>False</td>\n",
       "      <td>False</td>\n",
       "      <td>False</td>\n",
       "      <td>True</td>\n",
       "      <td>STAR_5</td>\n",
       "      <td>The graphics were amazing. The story was just ...</td>\n",
       "      <td>5.0</td>\n",
       "      <td>38m ago</td>\n",
       "      <td>2019-08-19T09:11:38.339Z</td>\n",
       "      <td>{'userId': '747297bd-5ef5-4b05-8a70-ebdb6e8209...</td>\n",
       "    </tr>\n",
       "    <tr>\n",
       "      <th>3</th>\n",
       "      <td>3</td>\n",
       "      <td>2019-08-19T08:44:42.582Z</td>\n",
       "      <td>NaN</td>\n",
       "      <td>Rose S</td>\n",
       "      <td>False</td>\n",
       "      <td>False</td>\n",
       "      <td>False</td>\n",
       "      <td>True</td>\n",
       "      <td>STAR_5</td>\n",
       "      <td>A beautifully done movie!  Loved it!</td>\n",
       "      <td>5.0</td>\n",
       "      <td>1h ago</td>\n",
       "      <td>2019-08-19T08:44:42.582Z</td>\n",
       "      <td>{'userId': '96F00C05-83F7-43D1-B2A0-C7F5C8361C...</td>\n",
       "    </tr>\n",
       "    <tr>\n",
       "      <th>4</th>\n",
       "      <td>4</td>\n",
       "      <td>2019-08-19T08:04:27.267Z</td>\n",
       "      <td>NaN</td>\n",
       "      <td>mom</td>\n",
       "      <td>False</td>\n",
       "      <td>False</td>\n",
       "      <td>False</td>\n",
       "      <td>True</td>\n",
       "      <td>STAR_5</td>\n",
       "      <td>Pretty good. Really enjoyed closed caption so ...</td>\n",
       "      <td>5.0</td>\n",
       "      <td>2h ago</td>\n",
       "      <td>2019-08-19T08:04:27.267Z</td>\n",
       "      <td>{'userId': 'A2A39790-5E98-421B-8B12-BD23517085...</td>\n",
       "    </tr>\n",
       "  </tbody>\n",
       "</table>\n",
       "</div>"
      ],
      "text/plain": [
       "   Unnamed: 0                createDate displayImageUrl displayName  \\\n",
       "0           0  2019-08-19T09:35:03.174Z             NaN        kara   \n",
       "1           1  2019-08-19T09:32:29.179Z             NaN      Octa Z   \n",
       "2           2  2019-08-19T09:11:38.339Z             NaN     Nancy B   \n",
       "3           3  2019-08-19T08:44:42.582Z             NaN      Rose S   \n",
       "4           4  2019-08-19T08:04:27.267Z             NaN         mom   \n",
       "\n",
       "   hasProfanity  hasSpoilers  isSuperReviewer  isVerified    rating  \\\n",
       "0         False        False            False        True    STAR_5   \n",
       "1         False        False            False       False  STAR_1_5   \n",
       "2         False        False            False        True    STAR_5   \n",
       "3         False        False            False        True    STAR_5   \n",
       "4         False        False            False        True    STAR_5   \n",
       "\n",
       "                                              review  score timeFromCreation  \\\n",
       "0                 Amazing! Music , animals, scenery!    5.0          15m ago   \n",
       "1  I don't even know why the director was needed ...    1.5          17m ago   \n",
       "2  The graphics were amazing. The story was just ...    5.0          38m ago   \n",
       "3               A beautifully done movie!  Loved it!    5.0           1h ago   \n",
       "4  Pretty good. Really enjoyed closed caption so ...    5.0           2h ago   \n",
       "\n",
       "                 updateDate                                               user  \n",
       "0  2019-08-19T09:35:03.174Z  {'userId': '04c1f858-a9b2-4ceb-befb-8a32d168af...  \n",
       "1  2019-08-19T09:32:29.179Z  {'userId': '978204858', 'realm': 'RT', 'displa...  \n",
       "2  2019-08-19T09:11:38.339Z  {'userId': '747297bd-5ef5-4b05-8a70-ebdb6e8209...  \n",
       "3  2019-08-19T08:44:42.582Z  {'userId': '96F00C05-83F7-43D1-B2A0-C7F5C8361C...  \n",
       "4  2019-08-19T08:04:27.267Z  {'userId': 'A2A39790-5E98-421B-8B12-BD23517085...  "
      ]
     },
     "execution_count": 114,
     "metadata": {},
     "output_type": "execute_result"
    }
   ],
   "source": [
    "data=pd.read_csv(\"Text.csv\", header=0, sep=',')\n",
    "data.head()"
   ]
  },
  {
   "cell_type": "markdown",
   "metadata": {},
   "source": [
    "##  Undestanding the data"
   ]
  },
  {
   "cell_type": "code",
   "execution_count": 115,
   "metadata": {},
   "outputs": [
    {
     "data": {
      "text/plain": [
       "'C:\\\\Users\\\\aniru\\\\Downloads'"
      ]
     },
     "execution_count": 115,
     "metadata": {},
     "output_type": "execute_result"
    }
   ],
   "source": [
    "import os\n",
    "sh=os.getcwd()\n",
    "sh"
   ]
  },
  {
   "cell_type": "code",
   "execution_count": 116,
   "metadata": {},
   "outputs": [
    {
     "data": {
      "text/plain": [
       "(3000, 14)"
      ]
     },
     "execution_count": 116,
     "metadata": {},
     "output_type": "execute_result"
    }
   ],
   "source": [
    "data.shape # Checking rows and Columns"
   ]
  },
  {
   "cell_type": "code",
   "execution_count": 117,
   "metadata": {},
   "outputs": [
    {
     "data": {
      "text/plain": [
       "Index(['Unnamed: 0', 'createDate', 'displayImageUrl', 'displayName',\n",
       "       'hasProfanity', 'hasSpoilers', 'isSuperReviewer', 'isVerified',\n",
       "       'rating', 'review', 'score', 'timeFromCreation', 'updateDate', 'user'],\n",
       "      dtype='object')"
      ]
     },
     "execution_count": 117,
     "metadata": {},
     "output_type": "execute_result"
    }
   ],
   "source": [
    "data.columns # Checking Columns"
   ]
  },
  {
   "cell_type": "markdown",
   "metadata": {},
   "source": [
    "#### Remove the column Unnamed:0 since it has sequence of unique numbers"
   ]
  },
  {
   "cell_type": "code",
   "execution_count": 118,
   "metadata": {},
   "outputs": [],
   "source": [
    "data=data.drop('Unnamed: 0', axis=1) # Dropping the unwanted column."
   ]
  },
  {
   "cell_type": "code",
   "execution_count": 119,
   "metadata": {},
   "outputs": [
    {
     "data": {
      "text/plain": [
       "RangeIndex(start=0, stop=3000, step=1)"
      ]
     },
     "execution_count": 119,
     "metadata": {},
     "output_type": "execute_result"
    }
   ],
   "source": [
    "data.index"
   ]
  },
  {
   "cell_type": "code",
   "execution_count": 120,
   "metadata": {},
   "outputs": [
    {
     "data": {
      "text/plain": [
       "Index(['createDate', 'displayImageUrl', 'displayName', 'hasProfanity',\n",
       "       'hasSpoilers', 'isSuperReviewer', 'isVerified', 'rating', 'review',\n",
       "       'score', 'timeFromCreation', 'updateDate', 'user'],\n",
       "      dtype='object')"
      ]
     },
     "execution_count": 120,
     "metadata": {},
     "output_type": "execute_result"
    }
   ],
   "source": [
    "data.columns"
   ]
  },
  {
   "cell_type": "markdown",
   "metadata": {},
   "source": [
    "### Get the unique levels in User"
   ]
  },
  {
   "cell_type": "code",
   "execution_count": 121,
   "metadata": {},
   "outputs": [],
   "source": [
    "data_1=  np.size(np.unique(data['user'], return_counts=True)[0])# Unique values of user."
   ]
  },
  {
   "cell_type": "code",
   "execution_count": 122,
   "metadata": {},
   "outputs": [
    {
     "data": {
      "text/plain": [
       "3000"
      ]
     },
     "execution_count": 122,
     "metadata": {},
     "output_type": "execute_result"
    }
   ],
   "source": [
    "data_1"
   ]
  },
  {
   "cell_type": "code",
   "execution_count": 123,
   "metadata": {},
   "outputs": [
    {
     "name": "stdout",
     "output_type": "stream",
     "text": [
      "<class 'pandas.core.frame.DataFrame'>\n",
      "RangeIndex: 3000 entries, 0 to 2999\n",
      "Data columns (total 13 columns):\n",
      "createDate          3000 non-null object\n",
      "displayImageUrl     226 non-null object\n",
      "displayName         2858 non-null object\n",
      "hasProfanity        3000 non-null bool\n",
      "hasSpoilers         3000 non-null bool\n",
      "isSuperReviewer     3000 non-null bool\n",
      "isVerified          3000 non-null bool\n",
      "rating              3000 non-null object\n",
      "review              3000 non-null object\n",
      "score               3000 non-null float64\n",
      "timeFromCreation    3000 non-null object\n",
      "updateDate          3000 non-null object\n",
      "user                3000 non-null object\n",
      "dtypes: bool(4), float64(1), object(8)\n",
      "memory usage: 222.7+ KB\n"
     ]
    }
   ],
   "source": [
    "data.info()"
   ]
  },
  {
   "cell_type": "code",
   "execution_count": 124,
   "metadata": {},
   "outputs": [
    {
     "data": {
      "text/plain": [
       "createDate             0\n",
       "displayImageUrl     2774\n",
       "displayName          142\n",
       "hasProfanity           0\n",
       "hasSpoilers            0\n",
       "isSuperReviewer        0\n",
       "isVerified             0\n",
       "rating                 0\n",
       "review                 0\n",
       "score                  0\n",
       "timeFromCreation       0\n",
       "updateDate             0\n",
       "user                   0\n",
       "dtype: int64"
      ]
     },
     "execution_count": 124,
     "metadata": {},
     "output_type": "execute_result"
    }
   ],
   "source": [
    "data.isnull().sum()"
   ]
  },
  {
   "cell_type": "markdown",
   "metadata": {},
   "source": [
    "### Dropping the null values"
   ]
  },
  {
   "cell_type": "code",
   "execution_count": 125,
   "metadata": {},
   "outputs": [],
   "source": [
    "data=data.dropna(axis=1)  ##Removing null values"
   ]
  },
  {
   "cell_type": "code",
   "execution_count": 126,
   "metadata": {},
   "outputs": [
    {
     "data": {
      "text/plain": [
       "createDate           object\n",
       "hasProfanity           bool\n",
       "hasSpoilers            bool\n",
       "isSuperReviewer        bool\n",
       "isVerified             bool\n",
       "rating               object\n",
       "review               object\n",
       "score               float64\n",
       "timeFromCreation     object\n",
       "updateDate           object\n",
       "user                 object\n",
       "dtype: object"
      ]
     },
     "execution_count": 126,
     "metadata": {},
     "output_type": "execute_result"
    }
   ],
   "source": [
    "data.dtypes"
   ]
  },
  {
   "cell_type": "markdown",
   "metadata": {},
   "source": [
    "### Defining a function"
   ]
  },
  {
   "cell_type": "code",
   "execution_count": 127,
   "metadata": {},
   "outputs": [],
   "source": [
    "def scores(score):\n",
    "    if score>3.0:\n",
    "        return 0\n",
    "    else: \n",
    "        return 1   ## Writing the function for scores"
   ]
  },
  {
   "cell_type": "code",
   "execution_count": 129,
   "metadata": {},
   "outputs": [
    {
     "data": {
      "text/plain": [
       "0    0\n",
       "1    1\n",
       "2    0\n",
       "3    0\n",
       "4    0\n",
       "Name: sentiment, dtype: int64"
      ]
     },
     "execution_count": 129,
     "metadata": {},
     "output_type": "execute_result"
    }
   ],
   "source": [
    "data['sentiment']= data.loc[:,'score'].apply(scores)\n",
    "data['sentiment'].head()"
   ]
  },
  {
   "cell_type": "code",
   "execution_count": 130,
   "metadata": {},
   "outputs": [],
   "source": [
    "review_data=data['review']"
   ]
  },
  {
   "cell_type": "markdown",
   "metadata": {},
   "source": [
    "### Using Regular expression for removing non-Letters "
   ]
  },
  {
   "cell_type": "code",
   "execution_count": 133,
   "metadata": {},
   "outputs": [
    {
     "data": {
      "text/plain": [
       "'                      Amazing  Music   animals  scenery          I don t even know why the director'"
      ]
     },
     "execution_count": 133,
     "metadata": {},
     "output_type": "execute_result"
    }
   ],
   "source": [
    "letters_only = re.sub(\"[^a-zA-Z]\",  # Search for all non-letters\n",
    "                          \" \",          # Replace all non-letters with spaces\n",
    "                          str(review_data))\n",
    "letters_only[1:100]"
   ]
  },
  {
   "cell_type": "code",
   "execution_count": 134,
   "metadata": {},
   "outputs": [
    {
     "data": {
      "text/plain": [
       "'don'"
      ]
     },
     "execution_count": 134,
     "metadata": {},
     "output_type": "execute_result"
    }
   ],
   "source": [
    "tokens=word_tokenize(letters_only)\n",
    "tokens[5]"
   ]
  },
  {
   "cell_type": "code",
   "execution_count": 135,
   "metadata": {},
   "outputs": [
    {
     "data": {
      "text/plain": [
       "['needed',\n",
       " 'Loved',\n",
       " 'enjoyed',\n",
       " 'closed',\n",
       " 'loved',\n",
       " 'enjoyed',\n",
       " 'Loved',\n",
       " 'loved',\n",
       " 'stayed',\n",
       " 'Loved',\n",
       " 'enjoyed',\n",
       " 'need',\n",
       " 'uninspired',\n",
       " 'expected',\n",
       " 'loved',\n",
       " 'created',\n",
       " 'loved',\n",
       " 'lacked',\n",
       " 'Loved',\n",
       " 'animated',\n",
       " 'animated',\n",
       " 'Mixed',\n",
       " 'loved',\n",
       " 'enjoyed',\n",
       " 'wanted',\n",
       " 'loved']"
      ]
     },
     "execution_count": 135,
     "metadata": {},
     "output_type": "execute_result"
    }
   ],
   "source": [
    " [w for w in tokens if re.search('ed$',w)]"
   ]
  },
  {
   "cell_type": "code",
   "execution_count": 136,
   "metadata": {},
   "outputs": [
    {
     "data": {
      "text/plain": [
       "['grandkids']"
      ]
     },
     "execution_count": 136,
     "metadata": {},
     "output_type": "execute_result"
    }
   ],
   "source": [
    "[w for w in tokens if re.search('[mno][def][ijk]', w)]"
   ]
  },
  {
   "cell_type": "code",
   "execution_count": 137,
   "metadata": {},
   "outputs": [],
   "source": [
    "nlp = spacy.load('en_core_web_sm')"
   ]
  },
  {
   "cell_type": "code",
   "execution_count": 138,
   "metadata": {},
   "outputs": [],
   "source": [
    "doc=nlp(letters_only)"
   ]
  },
  {
   "cell_type": "code",
   "execution_count": 139,
   "metadata": {},
   "outputs": [
    {
     "name": "stdout",
     "output_type": "stream",
     "text": [
      "Index:    [0, 1, 2, 3, 4, 5, 6, 7, 8, 9, 10, 11, 12, 13, 14, 15, 16, 17, 18, 19, 20, 21, 22, 23, 24, 25, 26, 27, 28, 29, 30, 31, 32, 33, 34, 35, 36, 37, 38, 39, 40, 41, 42, 43, 44, 45, 46, 47, 48, 49, 50, 51, 52, 53, 54, 55, 56, 57, 58, 59, 60, 61, 62, 63, 64, 65, 66, 67, 68, 69, 70, 71, 72, 73, 74, 75, 76, 77, 78, 79, 80, 81, 82, 83, 84, 85, 86, 87, 88, 89, 90, 91, 92, 93, 94, 95, 96, 97, 98, 99, 100, 101, 102, 103, 104, 105, 106, 107, 108, 109, 110, 111, 112, 113, 114, 115, 116, 117, 118, 119, 120, 121, 122, 123, 124, 125, 126, 127, 128, 129, 130, 131, 132, 133, 134, 135, 136, 137, 138, 139, 140, 141, 142, 143, 144, 145, 146, 147, 148, 149, 150, 151, 152, 153, 154, 155, 156, 157, 158, 159, 160, 161, 162, 163, 164, 165, 166, 167, 168, 169, 170, 171, 172, 173, 174, 175, 176, 177, 178, 179, 180, 181, 182, 183, 184, 185, 186, 187, 188, 189, 190, 191, 192, 193, 194, 195, 196, 197, 198, 199, 200, 201, 202, 203, 204, 205, 206, 207, 208, 209, 210, 211, 212, 213, 214, 215, 216, 217, 218, 219, 220, 221, 222, 223, 224, 225, 226, 227, 228, 229, 230, 231, 232, 233, 234, 235, 236, 237, 238, 239, 240, 241, 242, 243, 244, 245, 246, 247, 248, 249, 250, 251, 252, 253, 254, 255, 256, 257, 258, 259, 260, 261, 262, 263, 264, 265, 266, 267, 268, 269, 270, 271, 272, 273, 274, 275, 276, 277, 278, 279, 280, 281, 282, 283, 284, 285, 286, 287, 288, 289, 290, 291, 292, 293, 294, 295, 296, 297, 298, 299, 300, 301, 302, 303, 304, 305, 306, 307, 308, 309, 310, 311, 312, 313, 314, 315, 316, 317, 318, 319, 320, 321, 322, 323, 324, 325, 326, 327, 328, 329, 330, 331, 332, 333, 334, 335, 336, 337, 338, 339, 340, 341, 342, 343, 344, 345, 346, 347, 348, 349, 350, 351, 352, 353, 354, 355, 356, 357, 358, 359, 360, 361, 362, 363, 364, 365, 366, 367, 368, 369, 370, 371, 372, 373, 374, 375, 376, 377, 378, 379, 380, 381, 382, 383, 384, 385, 386, 387, 388, 389, 390, 391, 392, 393, 394, 395, 396, 397, 398, 399, 400, 401, 402, 403, 404, 405, 406, 407, 408, 409, 410, 411, 412, 413, 414, 415, 416, 417, 418, 419, 420, 421, 422, 423, 424, 425, 426, 427, 428, 429, 430, 431, 432, 433, 434, 435, 436, 437, 438, 439, 440, 441, 442, 443, 444, 445, 446, 447, 448, 449, 450, 451, 452, 453, 454, 455, 456, 457, 458, 459, 460, 461, 462, 463, 464, 465, 466, 467, 468, 469, 470, 471, 472, 473, 474, 475, 476, 477, 478, 479, 480, 481, 482, 483, 484, 485, 486, 487, 488, 489, 490, 491, 492, 493, 494, 495, 496, 497, 498, 499, 500, 501, 502, 503, 504, 505, 506, 507, 508, 509, 510, 511, 512, 513, 514, 515, 516, 517, 518, 519, 520, 521, 522, 523, 524, 525, 526, 527, 528, 529, 530, 531, 532, 533, 534, 535, 536, 537, 538, 539, 540, 541, 542, 543, 544, 545, 546, 547, 548, 549, 550, 551, 552, 553, 554, 555, 556, 557, 558, 559, 560, 561, 562, 563, 564, 565, 566, 567, 568, 569, 570, 571, 572, 573, 574, 575, 576, 577, 578, 579, 580, 581, 582, 583, 584, 585, 586, 587, 588, 589, 590, 591, 592, 593, 594, 595, 596, 597, 598, 599, 600, 601, 602, 603]\n",
      "Text:     ['                       ', 'Amazing', ' ', 'Music', '  ', 'animals', ' ', 'scenery', '         ', 'I', 'don', 't', 'even', 'know', 'why', 'the', 'director', 'was', 'needed', '            ', 'The', 'graphics', 'were', 'amazing', ' ', 'The', 'story', 'was', 'just', '                         ', 'A', 'beautifully', 'done', 'movie', '  ', 'Loved', 'it', '         ', 'Pretty', 'good', ' ', 'Really', 'enjoyed', 'closed', 'caption', 'so', '            ', 'I', 'love', 'everything', ' ', 'I', 'm', 'glad', 'they', 'kept', 'to', 'the', 'o', '                                        ', 'Great', 'film', 'loved', 'it', '         ', 'It', 'only', 'gets', 'two', 'stars', ' ', 'rather', 'than', 'one', ' ', 'becau', '           ', 'Really', 'enjoyed', 'it', ' ', 'The', 'songs', 'were', 'amazing', 'and', '            ', 'Realky', 'enjoyable', ' ', 'We', 've', 'seen', 'the', 'original', 'anim', '                                        ', 'Beautiful', ' ', 'Loved', 'it', '         ', 'Absolutely', 'loved', 'the', 'movie', ' ', 'it', 'had', 'my', 'emotions', '                                    ', 'Tha', 'movie', 'was', 'phenomenal', '        ', 'Was', 'a', 'complete', 'copy', 'of', 'the', 'original', 'movie', '  ', 'I', '            ', 'Very', 'good', 'movie', 'and', 'stayed', 'with', 'the', 'original', 's', '           ', 'Ahhhmazing', '  ', 'Loved', 'it', '  ', 'So', 'much', 'creativity', 'and', '           ', 'Very', 'heartwarming', ' ', 'character', 'animals', 'personali', '           ', 'Amazing', 'and', 'i', 'love', 'that', 'they', 'didn', 't', 'change', 'the', '           ', 'Greatly', 'enjoyed', 'it', '  ', 'No', 'need', 'to', 'compare', 'to', 'ori', '             ', 'Every', 'dog', 'lover', 'will', 'absolutely', 'love', 'this', 'movie', '                 ', 'Nothing', 'like', 'the', 'original', 'but', 'still', 'good', '        ', 'Pretty', 'much', 'a', 'faithful', 'retelling', 'on', 'the', 'animat', '           ', 'The', 'original', 'story', 'line', 'was', 'there', 'and', 'the', 'movi', '           ', 'there', 'is', 'nothing', 'bad', 'about', 'the', 'movie', ' ', 'I', 'just', 'f', '           ', 'did', 'a', 'great', 'job', 'on', 'the', 'animation', 'and', 'following', '           ', 'Soulless', 'and', 'uninspired', ' ', 'I', 'expected', 'at', 'least', 'a', '           ', 'Grandma', 'and', 'I', 'took', '  ', 'grandkids', 'age', '   ', 'to', '                                   ', 'I', 'loved', 'it', ' ', 'great', 'family', 'movie', '         ', 'It', 'was', 'just', 'okay', ' ', 'Had', 'to', 'leave', '   ', 'year', 'old', 'cou', '           ', 'movie', 'did', 'nt', 'flow', 'well', ' ', 'could', 'have', 'been', 'more', 'di', '                                                                                          ', 'I', 'love', 'the', 'music', 'and', 'Pumba', '          ', 'My', 'kids', 'are', 'avid', 'Lion', 'King', 'watchers', 'and', 'they', 'L', '                            ', 'wonderful', 'job', 'on', 'being', 'life', 'like', '        ', 'As', 'a', 'kid', 'from', 'the', '  ', 's', 'its', 'so', 'exciting', 'to', 'final', '           ', 'Unique', '  ', 'Awesome', '  ', 'How', 'was', 'it', 'created', ' ', 'A', 'new', 'c', '                                    ', 'Love', 'it', 'super', 'cool', 'Movie', '        ', 'It', 'was', 'exactly', 'the', 'story', 'line', '  ', 'I', 'didn', 't', 'think', '                      ', 'great', 'movie', ' ', 'worth', 'the', 'IMAX', 'experience', '        ', 'I', 'loved', 'the', 'animals', 'in', 'true', 'form', 'instead', 'of', 'ca', '           ', 'it', 'was', 'alright', 'it', 'is', 'more', 'boring', 'then', 'i', 'rememb', '                                        ', 'movie', 'was', 'excellent', '         ', 'It', 'was', 'great', ' ', 'but', 'not', 'so', 'sure', 'it', 'is', 'OK', 'for', 'you', '               ', 'It', 'lacked', 'the', 'magic', 'of', 'the', 'original', 'lion', 'king', '        ', 'Loved', 'it', '  ', 'The', 'special', 'effects', ' ', 'characters', '  ', 's', '           ', 'We', 'didn', 't', 'like', 'that', 'it', 'was', 'the', 'same', 'movie', 'as', 't', '           ', 'its', 'a', 'lot', 'to', 'live', 'up', 'to', 'the', 'animated', 'classic', 'o', '           ', 'This', 'movie', 'was', 'so', 'NOT', 'visually', 'appealing', ' ', 'I', 'wa', '           ', 'Was', 'good', 'but', 'I', 'find', 'the', 'animated', 'characters', 'fo', '           ', 'The', 'hard', 'part', 'about', 'seeing', 'a', 'remake', 'is', 'that', 'th', '           ', 'Mixed', 'feelings', 'about', 'this', 'one', ' ', 'Applause', 'to', 'Dis', '           ', 'My', 'Grand', 'daughter', '  ', 'I', 'loved', 'the', 'movie', '   ', 'Every', '           ', 'It', 'didn', 't', 'have', 'every', 'scene', 'from', 'the', 'original', 'm', '                 ', 'I', 'totally', 'enjoyed', 'the', 'entire', 'movie', '  ', 'stars', '         ', 'The', 'storyline', 'we', 'knew', 'already', 'so', 'I', 'guess', 'maybe', '           ', 'The', 'voice', 'acting', 'was', 'HORRIBLE', '  ', 'I', 'wish', 'they', 'wo', '           ', 'The', 'graphics', 'were', 'beautiful', ' ', 'but', 'the', 'realism', 'm', '           ', 'I', 'do', 'understand', 'the', 'realistic', 'feel', 'they', 'wanted', '                      ', 'great', 'movie', ' ', 'loved', 'the', 'visual', 'effects', '         ', 'I', 'thought', 'it', 'was', 'fabulous', ' ', 'It', 'did', 'a', 'good', 'job', 'c', '           ', 'There', 'is', 'nothing', 'different', ' ', 'Cartoon', 'was', 'way', 'be', '   ', 'Name', ' ', 'review', ' ', 'Length', '       ', 'dtype', ' ', 'object']\n"
     ]
    },
    {
     "name": "stdout",
     "output_type": "stream",
     "text": [
      "is_alpha: [False, True, False, True, False, True, False, True, False, True, True, True, True, True, True, True, True, True, True, False, True, True, True, True, False, True, True, True, True, False, True, True, True, True, False, True, True, False, True, True, False, True, True, True, True, True, False, True, True, True, False, True, True, True, True, True, True, True, True, False, True, True, True, True, False, True, True, True, True, True, False, True, True, True, False, True, False, True, True, True, False, True, True, True, True, True, False, True, True, False, True, True, True, True, True, True, False, True, False, True, True, False, True, True, True, True, False, True, True, True, True, False, True, True, True, True, False, True, True, True, True, True, True, True, True, False, True, False, True, True, True, True, True, True, True, True, True, False, True, False, True, True, False, True, True, True, True, False, True, True, False, True, True, True, False, True, True, True, True, True, True, True, True, True, True, False, True, True, True, False, True, True, True, True, True, True, False, True, True, True, True, True, True, True, True, False, True, True, True, True, True, True, True, False, True, True, True, True, True, True, True, True, False, True, True, True, True, True, True, True, True, True, False, True, True, True, True, True, True, True, False, True, True, True, False, True, True, True, True, True, True, True, True, True, False, True, True, True, False, True, True, True, True, True, False, True, True, True, True, False, True, True, False, True, False, True, True, True, False, True, True, True, False, True, True, True, True, False, True, True, True, False, True, True, True, False, True, True, True, True, True, False, True, True, True, True, True, False, True, True, True, True, True, True, False, True, True, True, True, True, True, True, True, True, True, False, True, True, True, True, True, True, False, True, True, True, True, True, False, True, True, True, True, True, True, False, True, False, True, False, True, True, True, True, False, True, True, True, False, True, True, True, True, True, False, True, True, True, True, True, True, False, True, True, True, True, False, True, True, False, True, True, True, True, False, True, True, True, True, True, True, True, True, True, True, False, True, True, True, True, True, True, True, True, True, True, False, True, True, True, False, True, True, True, False, True, True, True, True, True, True, True, True, True, False, True, True, True, True, True, True, True, True, True, False, True, True, False, True, True, True, False, True, False, True, False, True, True, True, True, True, True, True, True, True, True, True, True, False, True, True, True, True, True, True, True, True, True, True, True, False, True, True, True, True, True, True, True, False, True, True, False, True, True, True, True, True, True, True, True, True, False, True, True, True, True, True, True, True, True, True, True, False, True, True, True, True, True, False, True, True, True, False, True, True, True, False, True, True, True, True, False, True, False, True, True, True, True, True, True, True, True, True, True, False, True, True, True, True, True, True, False, True, False, True, True, True, True, True, True, True, True, True, False, True, True, True, True, True, False, True, True, True, True, False, True, True, True, True, False, True, True, True, True, False, True, True, True, True, True, True, True, True, False, True, True, False, True, True, True, True, False, True, True, True, True, True, False, True, True, True, True, True, True, False, True, True, True, True, False, True, True, True, True, False, True, False, True, False, True, False, True, False, True]\n",
      "is_punct: [False, False, False, False, False, False, False, False, False, False, False, False, False, False, False, False, False, False, False, False, False, False, False, False, False, False, False, False, False, False, False, False, False, False, False, False, False, False, False, False, False, False, False, False, False, False, False, False, False, False, False, False, False, False, False, False, False, False, False, False, False, False, False, False, False, False, False, False, False, False, False, False, False, False, False, False, False, False, False, False, False, False, False, False, False, False, False, False, False, False, False, False, False, False, False, False, False, False, False, False, False, False, False, False, False, False, False, False, False, False, False, False, False, False, False, False, False, False, False, False, False, False, False, False, False, False, False, False, False, False, False, False, False, False, False, False, False, False, False, False, False, False, False, False, False, False, False, False, False, False, False, False, False, False, False, False, False, False, False, False, False, False, False, False, False, False, False, False, False, False, False, False, False, False, False, False, False, False, False, False, False, False, False, False, False, False, False, False, False, False, False, False, False, False, False, False, False, False, False, False, False, False, False, False, False, False, False, False, False, False, False, False, False, False, False, False, False, False, False, False, False, False, False, False, False, False, False, False, False, False, False, False, False, False, False, False, False, False, False, False, False, False, False, False, False, False, False, False, False, False, False, False, False, False, False, False, False, False, False, False, False, False, False, False, False, False, False, False, False, False, False, False, False, False, False, False, False, False, False, False, False, False, False, False, False, False, False, False, False, False, False, False, False, False, False, False, False, False, False, False, False, False, False, False, False, False, False, False, False, False, False, False, False, False, False, False, False, False, False, False, False, False, False, False, False, False, False, False, False, False, False, False, False, False, False, False, False, False, False, False, False, False, False, False, False, False, False, False, False, False, False, False, False, False, False, False, False, False, False, False, False, False, False, False, False, False, False, False, False, False, False, False, False, False, False, False, False, False, False, False, False, False, False, False, False, False, False, False, False, False, False, False, False, False, False, False, False, False, False, False, False, False, False, False, False, False, False, False, False, False, False, False, False, False, False, False, False, False, False, False, False, False, False, False, False, False, False, False, False, False, False, False, False, False, False, False, False, False, False, False, False, False, False, False, False, False, False, False, False, False, False, False, False, False, False, False, False, False, False, False, False, False, False, False, False, False, False, False, False, False, False, False, False, False, False, False, False, False, False, False, False, False, False, False, False, False, False, False, False, False, False, False, False, False, False, False, False, False, False, False, False, False, False, False, False, False, False, False, False, False, False, False, False, False, False, False, False, False, False, False, False, False, False, False, False, False, False, False, False, False, False, False, False, False, False, False, False, False, False, False, False, False, False, False, False, False, False, False, False, False, False, False, False, False, False, False, False, False, False, False, False, False, False, False, False, False, False, False, False, False, False, False, False, False, False, False, False, False, False, False, False, False, False, False, False, False, False, False, False, False, False, False, False, False, False, False, False, False, False, False, False, False, False, False]\n",
      "like_num: [False, False, False, False, False, False, False, False, False, False, False, False, False, False, False, False, False, False, False, False, False, False, False, False, False, False, False, False, False, False, False, False, False, False, False, False, False, False, False, False, False, False, False, False, False, False, False, False, False, False, False, False, False, False, False, False, False, False, False, False, False, False, False, False, False, False, False, False, True, False, False, False, False, True, False, False, False, False, False, False, False, False, False, False, False, False, False, False, False, False, False, False, False, False, False, False, False, False, False, False, False, False, False, False, False, False, False, False, False, False, False, False, False, False, False, False, False, False, False, False, False, False, False, False, False, False, False, False, False, False, False, False, False, False, False, False, False, False, False, False, False, False, False, False, False, False, False, False, False, False, False, False, False, False, False, False, False, False, False, False, False, False, False, False, False, False, False, False, False, False, False, False, False, False, False, False, False, False, False, False, False, False, False, False, False, False, False, False, False, False, False, False, False, False, False, False, False, False, False, False, False, False, False, False, False, False, False, False, False, False, False, False, False, False, False, False, False, False, False, False, False, False, False, False, False, False, False, False, False, False, False, False, False, False, False, False, False, False, False, False, False, False, False, False, False, False, False, False, False, False, False, False, False, False, False, False, False, False, False, False, False, False, False, False, False, False, False, False, False, False, False, False, False, False, False, False, False, False, False, False, False, False, False, False, False, False, False, False, False, False, False, False, False, False, False, False, False, False, False, False, False, False, False, False, False, False, False, False, False, False, False, False, False, False, False, False, False, False, False, False, False, False, False, False, False, False, False, False, False, False, False, False, False, False, False, False, False, False, False, False, False, False, False, False, False, False, False, False, False, False, False, False, False, False, False, False, False, False, False, False, False, False, False, False, False, False, False, False, False, False, False, False, False, False, False, False, False, False, False, False, False, False, False, False, False, False, False, False, False, False, False, False, False, False, False, False, False, False, False, False, False, False, False, False, False, False, False, False, False, False, False, False, False, False, False, False, False, False, False, False, False, False, False, False, False, False, False, False, False, False, False, False, False, False, False, False, False, False, False, False, False, False, False, False, False, False, False, False, False, False, False, False, False, False, False, False, False, False, False, False, False, False, False, False, False, False, False, False, False, False, False, False, False, False, False, False, False, False, False, False, False, False, False, False, False, False, False, True, False, False, False, False, False, False, False, False, False, False, False, False, False, False, False, False, False, False, False, False, False, False, False, False, False, False, False, False, False, False, False, False, False, False, False, False, False, False, False, False, False, False, False, False, False, False, False, False, False, False, False, False, False, False, False, False, False, False, False, False, False, False, False, False, False, False, False, False, False, False, False, False, False, False, False, False, False, False, False, False, False, False, False, False, False, False, False, False, False, False, False, False, False, False, False, False, False, False, False, False, False, False, False, False, False, False, False, False, False, False, False, False, False, False, False, False]\n"
     ]
    }
   ],
   "source": [
    "print('Index:   ', [token.i for token in doc])\n",
    "print('Text:    ', [token.text for token in doc])\n",
    "print('is_alpha:', [token.is_alpha for token in doc])\n",
    "print('is_punct:', [token.is_punct for token in doc])\n",
    "print('like_num:', [token.like_num for token in doc])"
   ]
  },
  {
   "cell_type": "markdown",
   "metadata": {},
   "source": [
    "### Lemmatization"
   ]
  },
  {
   "cell_type": "code",
   "execution_count": 140,
   "metadata": {
    "scrolled": true
   },
   "outputs": [
    {
     "name": "stdout",
     "output_type": "stream",
     "text": [
      "[('                       ', '                       '), ('Amazing', 'Amazing'), (' ', ' '), ('Music', 'Music'), ('  ', '  '), ('animals', 'animal'), (' ', ' '), ('scenery', 'scenery'), ('         ', '         '), ('I', '-PRON-'), ('don', 'don'), ('t', 't'), ('even', 'even'), ('know', 'know'), ('why', 'why'), ('the', 'the'), ('director', 'director'), ('was', 'be'), ('needed', 'need'), ('            ', '            '), ('The', 'the'), ('graphics', 'graphic'), ('were', 'be'), ('amazing', 'amazing'), (' ', ' '), ('The', 'the'), ('story', 'story'), ('was', 'be'), ('just', 'just'), ('                         ', '                         '), ('A', 'A'), ('beautifully', 'beautifully'), ('done', 'do'), ('movie', 'movie'), ('  ', '  '), ('Loved', 'love'), ('it', '-PRON-'), ('         ', '         '), ('Pretty', 'pretty'), ('good', 'good'), (' ', ' '), ('Really', 'really'), ('enjoyed', 'enjoy'), ('closed', 'closed'), ('caption', 'caption'), ('so', 'so'), ('            ', '            '), ('I', '-PRON-'), ('love', 'love'), ('everything', 'everything'), (' ', ' '), ('I', 'i'), ('m', 'm'), ('glad', 'glad'), ('they', '-PRON-'), ('kept', 'keep'), ('to', 'to'), ('the', 'the'), ('o', 'o'), ('                                        ', '                                        '), ('Great', 'great'), ('film', 'film'), ('loved', 'love'), ('it', '-PRON-'), ('         ', '         '), ('It', '-PRON-'), ('only', 'only'), ('gets', 'get'), ('two', 'two'), ('stars', 'star'), (' ', ' '), ('rather', 'rather'), ('than', 'than'), ('one', 'one'), (' ', ' '), ('becau', 'becau'), ('           ', '           '), ('Really', 'really'), ('enjoyed', 'enjoy'), ('it', '-PRON-'), (' ', ' '), ('The', 'the'), ('songs', 'song'), ('were', 'be'), ('amazing', 'amazing'), ('and', 'and'), ('            ', '            '), ('Realky', 'Realky'), ('enjoyable', 'enjoyable'), (' ', ' '), ('We', '-PRON-'), ('ve', 've'), ('seen', 'see'), ('the', 'the'), ('original', 'original'), ('anim', 'anim'), ('                                        ', '                                        '), ('Beautiful', 'beautiful'), (' ', ' '), ('Loved', 'love'), ('it', '-PRON-'), ('         ', '         '), ('Absolutely', 'absolutely'), ('loved', 'love'), ('the', 'the'), ('movie', 'movie'), (' ', ' '), ('it', '-PRON-'), ('had', 'have'), ('my', '-PRON-'), ('emotions', 'emotion'), ('                                    ', '                                    '), ('Tha', 'Tha'), ('movie', 'movie'), ('was', 'be'), ('phenomenal', 'phenomenal'), ('        ', '        '), ('Was', 'be'), ('a', 'a'), ('complete', 'complete'), ('copy', 'copy'), ('of', 'of'), ('the', 'the'), ('original', 'original'), ('movie', 'movie'), ('  ', '  '), ('I', '-PRON-'), ('            ', '            '), ('Very', 'very'), ('good', 'good'), ('movie', 'movie'), ('and', 'and'), ('stayed', 'stay'), ('with', 'with'), ('the', 'the'), ('original', 'original'), ('s', 's'), ('           ', '           '), ('Ahhhmazing', 'Ahhhmazing'), ('  ', '  '), ('Loved', 'love'), ('it', '-PRON-'), ('  ', '  '), ('So', 'so'), ('much', 'much'), ('creativity', 'creativity'), ('and', 'and'), ('           ', '           '), ('Very', 'very'), ('heartwarming', 'heartwarme'), (' ', ' '), ('character', 'character'), ('animals', 'animal'), ('personali', 'personali'), ('           ', '           '), ('Amazing', 'amazing'), ('and', 'and'), ('i', 'i'), ('love', 'love'), ('that', 'that'), ('they', '-PRON-'), ('didn', 'didn'), ('t', 't'), ('change', 'change'), ('the', 'the'), ('           ', '           '), ('Greatly', 'greatly'), ('enjoyed', 'enjoy'), ('it', '-PRON-'), ('  ', '  '), ('No', 'no'), ('need', 'need'), ('to', 'to'), ('compare', 'compare'), ('to', 'to'), ('ori', 'ori'), ('             ', '             '), ('Every', 'every'), ('dog', 'dog'), ('lover', 'lover'), ('will', 'will'), ('absolutely', 'absolutely'), ('love', 'love'), ('this', 'this'), ('movie', 'movie'), ('                 ', '                 '), ('Nothing', 'Nothing'), ('like', 'like'), ('the', 'the'), ('original', 'original'), ('but', 'but'), ('still', 'still'), ('good', 'good'), ('        ', '        '), ('Pretty', 'pretty'), ('much', 'much'), ('a', 'a'), ('faithful', 'faithful'), ('retelling', 'retelling'), ('on', 'on'), ('the', 'the'), ('animat', 'animat'), ('           ', '           '), ('The', 'the'), ('original', 'original'), ('story', 'story'), ('line', 'line'), ('was', 'be'), ('there', 'there'), ('and', 'and'), ('the', 'the'), ('movi', 'movi'), ('           ', '           '), ('there', 'there'), ('is', 'be'), ('nothing', 'nothing'), ('bad', 'bad'), ('about', 'about'), ('the', 'the'), ('movie', 'movie'), (' ', ' '), ('I', '-PRON-'), ('just', 'just'), ('f', 'f'), ('           ', '           '), ('did', 'do'), ('a', 'a'), ('great', 'great'), ('job', 'job'), ('on', 'on'), ('the', 'the'), ('animation', 'animation'), ('and', 'and'), ('following', 'follow'), ('           ', '           '), ('Soulless', 'Soulless'), ('and', 'and'), ('uninspired', 'uninspired'), (' ', ' '), ('I', '-PRON-'), ('expected', 'expect'), ('at', 'at'), ('least', 'least'), ('a', 'a'), ('           ', '           '), ('Grandma', 'Grandma'), ('and', 'and'), ('I', '-PRON-'), ('took', 'take'), ('  ', '  '), ('grandkids', 'grandkid'), ('age', 'age'), ('   ', '   '), ('to', 'to'), ('                                   ', '                                   '), ('I', '-PRON-'), ('loved', 'love'), ('it', '-PRON-'), (' ', ' '), ('great', 'great'), ('family', 'family'), ('movie', 'movie'), ('         ', '         '), ('It', '-PRON-'), ('was', 'be'), ('just', 'just'), ('okay', 'okay'), (' ', ' '), ('Had', 'have'), ('to', 'to'), ('leave', 'leave'), ('   ', '   '), ('year', 'year'), ('old', 'old'), ('cou', 'cou'), ('           ', '           '), ('movie', 'movie'), ('did', 'do'), ('nt', 'not'), ('flow', 'flow'), ('well', 'well'), (' ', ' '), ('could', 'could'), ('have', 'have'), ('been', 'be'), ('more', 'more'), ('di', 'di'), ('                                                                                          ', '                                                                                          '), ('I', '-PRON-'), ('love', 'love'), ('the', 'the'), ('music', 'music'), ('and', 'and'), ('Pumba', 'Pumba'), ('          ', '          '), ('My', '-PRON-'), ('kids', 'kid'), ('are', 'be'), ('avid', 'avid'), ('Lion', 'Lion'), ('King', 'King'), ('watchers', 'watcher'), ('and', 'and'), ('they', '-PRON-'), ('L', 'L'), ('                            ', '                            '), ('wonderful', 'wonderful'), ('job', 'job'), ('on', 'on'), ('being', 'be'), ('life', 'life'), ('like', 'like'), ('        ', '        '), ('As', 'as'), ('a', 'a'), ('kid', 'kid'), ('from', 'from'), ('the', 'the'), ('  ', '  '), ('s', 's'), ('its', '-PRON-'), ('so', 'so'), ('exciting', 'exciting'), ('to', 'to'), ('final', 'final'), ('           ', '           '), ('Unique', 'Unique'), ('  ', '  '), ('Awesome', 'awesome'), ('  ', '  '), ('How', 'how'), ('was', 'be'), ('it', '-PRON-'), ('created', 'create'), (' ', ' '), ('A', 'a'), ('new', 'new'), ('c', 'c'), ('                                    ', '                                    '), ('Love', 'love'), ('it', '-PRON-'), ('super', 'super'), ('cool', 'cool'), ('Movie', 'Movie'), ('        ', '        '), ('It', '-PRON-'), ('was', 'be'), ('exactly', 'exactly'), ('the', 'the'), ('story', 'story'), ('line', 'line'), ('  ', '  '), ('I', '-PRON-'), ('didn', 'didn'), ('t', 't'), ('think', 'think'), ('                      ', '                      '), ('great', 'great'), ('movie', 'movie'), (' ', ' '), ('worth', 'worth'), ('the', 'the'), ('IMAX', 'imax'), ('experience', 'experience'), ('        ', '        '), ('I', '-PRON-'), ('loved', 'love'), ('the', 'the'), ('animals', 'animal'), ('in', 'in'), ('true', 'true'), ('form', 'form'), ('instead', 'instead'), ('of', 'of'), ('ca', 'ca'), ('           ', '           '), ('it', '-PRON-'), ('was', 'be'), ('alright', 'alright'), ('it', '-PRON-'), ('is', 'be'), ('more', 'more'), ('boring', 'boring'), ('then', 'then'), ('i', 'i'), ('rememb', 'rememb'), ('                                        ', '                                        '), ('movie', 'movie'), ('was', 'be'), ('excellent', 'excellent'), ('         ', '         '), ('It', '-PRON-'), ('was', 'be'), ('great', 'great'), (' ', ' '), ('but', 'but'), ('not', 'not'), ('so', 'so'), ('sure', 'sure'), ('it', '-PRON-'), ('is', 'be'), ('OK', 'ok'), ('for', 'for'), ('you', '-PRON-'), ('               ', '               '), ('It', '-PRON-'), ('lacked', 'lack'), ('the', 'the'), ('magic', 'magic'), ('of', 'of'), ('the', 'the'), ('original', 'original'), ('lion', 'lion'), ('king', 'king'), ('        ', '        '), ('Loved', 'love'), ('it', '-PRON-'), ('  ', '  '), ('The', 'the'), ('special', 'special'), ('effects', 'effect'), (' ', ' '), ('characters', 'character'), ('  ', '  '), ('s', 's'), ('           ', '           '), ('We', '-PRON-'), ('didn', 'didn'), ('t', 't'), ('like', 'like'), ('that', 'that'), ('it', '-PRON-'), ('was', 'be'), ('the', 'the'), ('same', 'same'), ('movie', 'movie'), ('as', 'as'), ('t', 't'), ('           ', '           '), ('its', '-PRON-'), ('a', 'a'), ('lot', 'lot'), ('to', 'to'), ('live', 'live'), ('up', 'up'), ('to', 'to'), ('the', 'the'), ('animated', 'animate'), ('classic', 'classic'), ('o', 'o'), ('           ', '           '), ('This', 'this'), ('movie', 'movie'), ('was', 'be'), ('so', 'so'), ('NOT', 'not'), ('visually', 'visually'), ('appealing', 'appealing'), (' ', ' '), ('I', '-PRON-'), ('wa', 'wa'), ('           ', '           '), ('Was', 'be'), ('good', 'good'), ('but', 'but'), ('I', '-PRON-'), ('find', 'find'), ('the', 'the'), ('animated', 'animate'), ('characters', 'character'), ('fo', 'fo'), ('           ', '           '), ('The', 'the'), ('hard', 'hard'), ('part', 'part'), ('about', 'about'), ('seeing', 'see'), ('a', 'a'), ('remake', 'remake'), ('is', 'be'), ('that', 'that'), ('th', 'th'), ('           ', '           '), ('Mixed', 'mixed'), ('feelings', 'feeling'), ('about', 'about'), ('this', 'this'), ('one', 'one'), (' ', ' '), ('Applause', 'applause'), ('to', 'to'), ('Dis', 'Dis'), ('           ', '           '), ('My', '-PRON-'), ('Grand', 'Grand'), ('daughter', 'daughter'), ('  ', '  '), ('I', '-PRON-'), ('loved', 'love'), ('the', 'the'), ('movie', 'movie'), ('   ', '   '), ('Every', 'every'), ('           ', '           '), ('It', '-PRON-'), ('didn', 'didn'), ('t', 't'), ('have', 'have'), ('every', 'every'), ('scene', 'scene'), ('from', 'from'), ('the', 'the'), ('original', 'original'), ('m', 'm'), ('                 ', '                 '), ('I', '-PRON-'), ('totally', 'totally'), ('enjoyed', 'enjoy'), ('the', 'the'), ('entire', 'entire'), ('movie', 'movie'), ('  ', '  '), ('stars', 'star'), ('         ', '         '), ('The', 'the'), ('storyline', 'storyline'), ('we', '-PRON-'), ('knew', 'know'), ('already', 'already'), ('so', 'so'), ('I', '-PRON-'), ('guess', 'guess'), ('maybe', 'maybe'), ('           ', '           '), ('The', 'the'), ('voice', 'voice'), ('acting', 'acting'), ('was', 'be'), ('HORRIBLE', 'HORRIBLE'), ('  ', '  '), ('I', '-PRON-'), ('wish', 'wish'), ('they', '-PRON-'), ('wo', 'wo'), ('           ', '           '), ('The', 'the'), ('graphics', 'graphic'), ('were', 'be'), ('beautiful', 'beautiful'), (' ', ' '), ('but', 'but'), ('the', 'the'), ('realism', 'realism'), ('m', 'm'), ('           ', '           '), ('I', '-PRON-'), ('do', 'do'), ('understand', 'understand'), ('the', 'the'), ('realistic', 'realistic'), ('feel', 'feel'), ('they', '-PRON-'), ('wanted', 'want'), ('                      ', '                      '), ('great', 'great'), ('movie', 'movie'), (' ', ' '), ('loved', 'love'), ('the', 'the'), ('visual', 'visual'), ('effects', 'effect'), ('         ', '         '), ('I', '-PRON-'), ('thought', 'think'), ('it', '-PRON-'), ('was', 'be'), ('fabulous', 'fabulous'), (' ', ' '), ('It', '-PRON-'), ('did', 'do'), ('a', 'a'), ('good', 'good'), ('job', 'job'), ('c', 'c'), ('           ', '           '), ('There', 'there'), ('is', 'be'), ('nothing', 'nothing'), ('different', 'different'), (' ', ' '), ('Cartoon', 'Cartoon'), ('was', 'be'), ('way', 'way'), ('be', 'be'), ('   ', '   '), ('Name', 'Name'), (' ', ' '), ('review', 'review'), (' ', ' '), ('Length', 'length'), ('       ', '       '), ('dtype', 'dtype'), (' ', ' '), ('object', 'object')]"
     ]
    },
    {
     "name": "stdout",
     "output_type": "stream",
     "text": [
      "\n"
     ]
    }
   ],
   "source": [
    "print([(w.text, w.lemma_) for w in doc]) "
   ]
  },
  {
   "cell_type": "markdown",
   "metadata": {},
   "source": [
    "### Parts of speech of tagging"
   ]
  },
  {
   "cell_type": "code",
   "execution_count": 141,
   "metadata": {},
   "outputs": [
    {
     "name": "stdout",
     "output_type": "stream",
     "text": [
      "[('                       ', 'SPACE'), ('Amazing', 'PROPN'), (' ', 'SPACE'), ('Music', 'PROPN'), ('  ', 'SPACE'), ('animals', 'NOUN'), (' ', 'SPACE'), ('scenery', 'NOUN'), ('         ', 'SPACE'), ('I', 'PRON'), ('don', 'VERB'), ('t', 'PRON'), ('even', 'ADV'), ('know', 'VERB'), ('why', 'ADV'), ('the', 'DET'), ('director', 'NOUN'), ('was', 'VERB'), ('needed', 'VERB'), ('            ', 'SPACE'), ('The', 'DET'), ('graphics', 'NOUN'), ('were', 'VERB'), ('amazing', 'ADJ'), (' ', 'SPACE'), ('The', 'DET'), ('story', 'NOUN'), ('was', 'VERB'), ('just', 'ADV'), ('                         ', 'SPACE'), ('A', 'PROPN'), ('beautifully', 'ADV'), ('done', 'VERB'), ('movie', 'NOUN'), ('  ', 'SPACE'), ('Loved', 'VERB'), ('it', 'PRON'), ('         ', 'SPACE'), ('Pretty', 'ADV'), ('good', 'ADJ'), (' ', 'SPACE'), ('Really', 'ADV'), ('enjoyed', 'VERB'), ('closed', 'ADJ'), ('caption', 'NOUN'), ('so', 'ADV'), ('            ', 'SPACE'), ('I', 'PRON'), ('love', 'VERB'), ('everything', 'NOUN'), (' ', 'SPACE'), ('I', 'NOUN'), ('m', 'VERB'), ('glad', 'ADJ'), ('they', 'PRON'), ('kept', 'VERB'), ('to', 'ADP'), ('the', 'DET'), ('o', 'NOUN'), ('                                        ', 'SPACE'), ('Great', 'ADJ'), ('film', 'NOUN'), ('loved', 'VERB'), ('it', 'PRON'), ('         ', 'SPACE'), ('It', 'PRON'), ('only', 'ADV'), ('gets', 'VERB'), ('two', 'NUM'), ('stars', 'NOUN'), (' ', 'SPACE'), ('rather', 'ADV'), ('than', 'ADP'), ('one', 'NUM'), (' ', 'SPACE'), ('becau', 'NOUN'), ('           ', 'SPACE'), ('Really', 'ADV'), ('enjoyed', 'VERB'), ('it', 'PRON'), (' ', 'SPACE'), ('The', 'DET'), ('songs', 'NOUN'), ('were', 'VERB'), ('amazing', 'ADJ'), ('and', 'CCONJ'), ('            ', 'SPACE'), ('Realky', 'PROPN'), ('enjoyable', 'ADJ'), (' ', 'SPACE'), ('We', 'PRON'), ('ve', 'VERB'), ('seen', 'VERB'), ('the', 'DET'), ('original', 'ADJ'), ('anim', 'NOUN'), ('                                        ', 'SPACE'), ('Beautiful', 'ADJ'), (' ', 'SPACE'), ('Loved', 'VERB'), ('it', 'PRON'), ('         ', 'SPACE'), ('Absolutely', 'ADV'), ('loved', 'VERB'), ('the', 'DET'), ('movie', 'NOUN'), (' ', 'SPACE'), ('it', 'PRON'), ('had', 'VERB'), ('my', 'DET'), ('emotions', 'NOUN'), ('                                    ', 'SPACE'), ('Tha', 'PROPN'), ('movie', 'NOUN'), ('was', 'VERB'), ('phenomenal', 'ADJ'), ('        ', 'SPACE'), ('Was', 'VERB'), ('a', 'DET'), ('complete', 'ADJ'), ('copy', 'NOUN'), ('of', 'ADP'), ('the', 'DET'), ('original', 'ADJ'), ('movie', 'NOUN'), ('  ', 'SPACE'), ('I', 'PRON'), ('            ', 'SPACE'), ('Very', 'ADV'), ('good', 'ADJ'), ('movie', 'NOUN'), ('and', 'CCONJ'), ('stayed', 'VERB'), ('with', 'ADP'), ('the', 'DET'), ('original', 'ADJ'), ('s', 'NOUN'), ('           ', 'SPACE'), ('Ahhhmazing', 'PROPN'), ('  ', 'SPACE'), ('Loved', 'VERB'), ('it', 'PRON'), ('  ', 'SPACE'), ('So', 'ADV'), ('much', 'ADJ'), ('creativity', 'NOUN'), ('and', 'CCONJ'), ('           ', 'SPACE'), ('Very', 'ADV'), ('heartwarming', 'VERB'), (' ', 'SPACE'), ('character', 'NOUN'), ('animals', 'NOUN'), ('personali', 'VERB'), ('           ', 'SPACE'), ('Amazing', 'ADJ'), ('and', 'CCONJ'), ('i', 'PRON'), ('love', 'VERB'), ('that', 'ADP'), ('they', 'PRON'), ('didn', 'VERB'), ('t', 'X'), ('change', 'VERB'), ('the', 'DET'), ('           ', 'SPACE'), ('Greatly', 'ADV'), ('enjoyed', 'VERB'), ('it', 'PRON'), ('  ', 'SPACE'), ('No', 'INTJ'), ('need', 'NOUN'), ('to', 'PART'), ('compare', 'VERB'), ('to', 'PART'), ('ori', 'VERB'), ('             ', 'SPACE'), ('Every', 'DET'), ('dog', 'NOUN'), ('lover', 'NOUN'), ('will', 'VERB'), ('absolutely', 'ADV'), ('love', 'VERB'), ('this', 'DET'), ('movie', 'NOUN'), ('                 ', 'SPACE'), ('Nothing', 'NOUN'), ('like', 'ADP'), ('the', 'DET'), ('original', 'ADJ'), ('but', 'CCONJ'), ('still', 'ADV'), ('good', 'ADJ'), ('        ', 'SPACE'), ('Pretty', 'ADV'), ('much', 'ADV'), ('a', 'DET'), ('faithful', 'ADJ'), ('retelling', 'NOUN'), ('on', 'ADP'), ('the', 'DET'), ('animat', 'NOUN'), ('           ', 'SPACE'), ('The', 'DET'), ('original', 'ADJ'), ('story', 'NOUN'), ('line', 'NOUN'), ('was', 'VERB'), ('there', 'ADV'), ('and', 'CCONJ'), ('the', 'DET'), ('movi', 'NOUN'), ('           ', 'SPACE'), ('there', 'ADV'), ('is', 'VERB'), ('nothing', 'NOUN'), ('bad', 'ADJ'), ('about', 'ADP'), ('the', 'DET'), ('movie', 'NOUN'), (' ', 'SPACE'), ('I', 'PRON'), ('just', 'ADV'), ('f', 'X'), ('           ', 'SPACE'), ('did', 'VERB'), ('a', 'DET'), ('great', 'ADJ'), ('job', 'NOUN'), ('on', 'ADP'), ('the', 'DET'), ('animation', 'NOUN'), ('and', 'CCONJ'), ('following', 'VERB'), ('           ', 'SPACE'), ('Soulless', 'PROPN'), ('and', 'CCONJ'), ('uninspired', 'ADJ'), (' ', 'SPACE'), ('I', 'PRON'), ('expected', 'VERB'), ('at', 'ADP'), ('least', 'ADJ'), ('a', 'DET'), ('           ', 'SPACE'), ('Grandma', 'PROPN'), ('and', 'CCONJ'), ('I', 'PRON'), ('took', 'VERB'), ('  ', 'SPACE'), ('grandkids', 'NOUN'), ('age', 'NOUN'), ('   ', 'SPACE'), ('to', 'PART'), ('                                   ', 'SPACE'), ('I', 'PRON'), ('loved', 'VERB'), ('it', 'PRON'), (' ', 'SPACE'), ('great', 'ADJ'), ('family', 'NOUN'), ('movie', 'NOUN'), ('         ', 'SPACE'), ('It', 'PRON'), ('was', 'VERB'), ('just', 'ADV'), ('okay', 'ADJ'), (' ', 'SPACE'), ('Had', 'VERB'), ('to', 'PART'), ('leave', 'VERB'), ('   ', 'SPACE'), ('year', 'NOUN'), ('old', 'ADJ'), ('cou', 'NOUN'), ('           ', 'SPACE'), ('movie', 'NOUN'), ('did', 'VERB'), ('nt', 'ADV'), ('flow', 'VERB'), ('well', 'ADV'), (' ', 'SPACE'), ('could', 'VERB'), ('have', 'VERB'), ('been', 'VERB'), ('more', 'ADV'), ('di', 'ADJ'), ('                                                                                          ', 'SPACE'), ('I', 'PRON'), ('love', 'VERB'), ('the', 'DET'), ('music', 'NOUN'), ('and', 'CCONJ'), ('Pumba', 'PROPN'), ('          ', 'SPACE'), ('My', 'DET'), ('kids', 'NOUN'), ('are', 'VERB'), ('avid', 'ADJ'), ('Lion', 'PROPN'), ('King', 'PROPN'), ('watchers', 'NOUN'), ('and', 'CCONJ'), ('they', 'PRON'), ('L', 'PROPN'), ('                            ', 'SPACE'), ('wonderful', 'ADJ'), ('job', 'NOUN'), ('on', 'ADP'), ('being', 'VERB'), ('life', 'NOUN'), ('like', 'ADP'), ('        ', 'SPACE'), ('As', 'ADP'), ('a', 'DET'), ('kid', 'NOUN'), ('from', 'ADP'), ('the', 'DET'), ('  ', 'SPACE'), ('s', 'VERB'), ('its', 'DET'), ('so', 'ADV'), ('exciting', 'ADJ'), ('to', 'ADP'), ('final', 'ADJ'), ('           ', 'SPACE'), ('Unique', 'PROPN'), ('  ', 'SPACE'), ('Awesome', 'ADJ'), ('  ', 'SPACE'), ('How', 'ADV'), ('was', 'VERB'), ('it', 'PRON'), ('created', 'VERB'), (' ', 'SPACE'), ('A', 'DET'), ('new', 'ADJ'), ('c', 'NOUN'), ('                                    ', 'SPACE'), ('Love', 'VERB'), ('it', 'PRON'), ('super', 'ADV'), ('cool', 'ADJ'), ('Movie', 'PROPN'), ('        ', 'SPACE'), ('It', 'PRON'), ('was', 'VERB'), ('exactly', 'ADV'), ('the', 'DET'), ('story', 'NOUN'), ('line', 'NOUN'), ('  ', 'SPACE'), ('I', 'PRON'), ('didn', 'VERB'), ('t', 'NOUN'), ('think', 'VERB'), ('                      ', 'SPACE'), ('great', 'ADJ'), ('movie', 'NOUN'), (' ', 'SPACE'), ('worth', 'ADJ'), ('the', 'DET'), ('IMAX', 'ADJ'), ('experience', 'NOUN'), ('        ', 'SPACE'), ('I', 'PRON'), ('loved', 'VERB'), ('the', 'DET'), ('animals', 'NOUN'), ('in', 'ADP'), ('true', 'ADJ'), ('form', 'NOUN'), ('instead', 'ADV'), ('of', 'ADP'), ('ca', 'VERB'), ('           ', 'SPACE'), ('it', 'PRON'), ('was', 'VERB'), ('alright', 'ADJ'), ('it', 'PRON'), ('is', 'VERB'), ('more', 'ADV'), ('boring', 'ADJ'), ('then', 'ADV'), ('i', 'PRON'), ('rememb', 'VERB'), ('                                        ', 'SPACE'), ('movie', 'NOUN'), ('was', 'VERB'), ('excellent', 'ADJ'), ('         ', 'SPACE'), ('It', 'PRON'), ('was', 'VERB'), ('great', 'ADJ'), (' ', 'SPACE'), ('but', 'CCONJ'), ('not', 'ADV'), ('so', 'ADV'), ('sure', 'ADJ'), ('it', 'PRON'), ('is', 'VERB'), ('OK', 'ADJ'), ('for', 'ADP'), ('you', 'PRON'), ('               ', 'SPACE'), ('It', 'PRON'), ('lacked', 'VERB'), ('the', 'DET'), ('magic', 'NOUN'), ('of', 'ADP'), ('the', 'DET'), ('original', 'ADJ'), ('lion', 'NOUN'), ('king', 'NOUN'), ('        ', 'SPACE'), ('Loved', 'VERB'), ('it', 'PRON'), ('  ', 'SPACE'), ('The', 'DET'), ('special', 'ADJ'), ('effects', 'NOUN'), (' ', 'SPACE'), ('characters', 'NOUN'), ('  ', 'SPACE'), ('s', 'VERB'), ('           ', 'SPACE'), ('We', 'PRON'), ('didn', 'VERB'), ('t', 'X'), ('like', 'INTJ'), ('that', 'ADP'), ('it', 'PRON'), ('was', 'VERB'), ('the', 'DET'), ('same', 'ADJ'), ('movie', 'NOUN'), ('as', 'ADP'), ('t', 'NOUN'), ('           ', 'SPACE'), ('its', 'DET'), ('a', 'DET'), ('lot', 'NOUN'), ('to', 'PART'), ('live', 'VERB'), ('up', 'PART'), ('to', 'ADP'), ('the', 'DET'), ('animated', 'VERB'), ('classic', 'ADJ'), ('o', 'NOUN'), ('           ', 'SPACE'), ('This', 'DET'), ('movie', 'NOUN'), ('was', 'VERB'), ('so', 'ADV'), ('NOT', 'ADV'), ('visually', 'ADV'), ('appealing', 'ADJ'), (' ', 'SPACE'), ('I', 'PRON'), ('wa', 'VERB'), ('           ', 'SPACE'), ('Was', 'VERB'), ('good', 'ADJ'), ('but', 'CCONJ'), ('I', 'PRON'), ('find', 'VERB'), ('the', 'DET'), ('animated', 'VERB'), ('characters', 'NOUN'), ('fo', 'VERB'), ('           ', 'SPACE'), ('The', 'DET'), ('hard', 'ADJ'), ('part', 'NOUN'), ('about', 'ADP'), ('seeing', 'VERB'), ('a', 'DET'), ('remake', 'NOUN'), ('is', 'VERB'), ('that', 'ADP'), ('th', 'DET'), ('           ', 'SPACE'), ('Mixed', 'ADJ'), ('feelings', 'NOUN'), ('about', 'ADP'), ('this', 'DET'), ('one', 'NUM'), (' ', 'SPACE'), ('Applause', 'NOUN'), ('to', 'ADP'), ('Dis', 'PROPN'), ('           ', 'SPACE'), ('My', 'DET'), ('Grand', 'PROPN'), ('daughter', 'NOUN'), ('  ', 'SPACE'), ('I', 'PRON'), ('loved', 'VERB'), ('the', 'DET'), ('movie', 'NOUN'), ('   ', 'SPACE'), ('Every', 'DET'), ('           ', 'SPACE'), ('It', 'PRON'), ('didn', 'VERB'), ('t', 'X'), ('have', 'VERB'), ('every', 'DET'), ('scene', 'NOUN'), ('from', 'ADP'), ('the', 'DET'), ('original', 'ADJ'), ('m', 'NOUN'), ('                 ', 'SPACE'), ('I', 'PRON'), ('totally', 'ADV'), ('enjoyed', 'VERB'), ('the', 'DET'), ('entire', 'ADJ'), ('movie', 'NOUN'), ('  ', 'SPACE'), ('stars', 'NOUN'), ('         ', 'SPACE'), ('The', 'DET'), ('storyline', 'NOUN'), ('we', 'PRON'), ('knew', 'VERB'), ('already', 'ADV'), ('so', 'ADP'), ('I', 'PRON'), ('guess', 'VERB'), ('maybe', 'ADV'), ('           ', 'SPACE'), ('The', 'DET'), ('voice', 'NOUN'), ('acting', 'NOUN'), ('was', 'VERB'), ('HORRIBLE', 'PROPN'), ('  ', 'SPACE'), ('I', 'PRON'), ('wish', 'VERB'), ('they', 'PRON'), ('wo', 'VERB'), ('           ', 'SPACE'), ('The', 'DET'), ('graphics', 'NOUN'), ('were', 'VERB'), ('beautiful', 'ADJ'), (' ', 'SPACE'), ('but', 'CCONJ'), ('the', 'DET'), ('realism', 'NOUN'), ('m', 'DET'), ('           ', 'SPACE'), ('I', 'PRON'), ('do', 'VERB'), ('understand', 'VERB'), ('the', 'DET'), ('realistic', 'ADJ'), ('feel', 'NOUN'), ('they', 'PRON'), ('wanted', 'VERB'), ('                      ', 'SPACE'), ('great', 'ADJ'), ('movie', 'NOUN'), (' ', 'SPACE'), ('loved', 'VERB'), ('the', 'DET'), ('visual', 'ADJ'), ('effects', 'NOUN'), ('         ', 'SPACE'), ('I', 'PRON'), ('thought', 'VERB'), ('it', 'PRON'), ('was', 'VERB'), ('fabulous', 'ADJ'), (' ', 'SPACE'), ('It', 'PRON'), ('did', 'VERB'), ('a', 'DET'), ('good', 'ADJ'), ('job', 'NOUN'), ('c', 'DET'), ('           ', 'SPACE'), ('There', 'ADV'), ('is', 'VERB'), ('nothing', 'NOUN'), ('different', 'ADJ'), (' ', 'SPACE'), ('Cartoon', 'PROPN'), ('was', 'VERB'), ('way', 'NOUN'), ('be', 'VERB'), ('   ', 'SPACE'), ('Name', 'PROPN'), (' ', 'SPACE'), ('review', 'NOUN'), (' ', 'SPACE'), ('Length', 'ADJ'), ('       ', 'SPACE'), ('dtype', 'NOUN'), (' ', 'SPACE'), ('object', 'NOUN')]"
     ]
    },
    {
     "name": "stdout",
     "output_type": "stream",
     "text": [
      "\n"
     ]
    }
   ],
   "source": [
    "print([(w.text, w.pos_) for w in doc])"
   ]
  },
  {
   "cell_type": "markdown",
   "metadata": {},
   "source": [
    "### Bi-Grams"
   ]
  },
  {
   "cell_type": "code",
   "execution_count": 142,
   "metadata": {},
   "outputs": [
    {
     "name": "stdout",
     "output_type": "stream",
     "text": [
      "('Amazing', 'Music')\n",
      "('Music', 'animals')\n",
      "('animals', 'scenery')\n",
      "('scenery', 'I')\n",
      "('I', 'don')\n",
      "('don', 't')\n",
      "('t', 'even')\n",
      "('even', 'know')\n",
      "('know', 'why')\n",
      "('why', 'the')\n",
      "('the', 'director')\n",
      "('director', 'was')\n",
      "('was', 'needed')\n",
      "('needed', 'The')\n",
      "('The', 'graphics')\n",
      "('graphics', 'were')\n",
      "('were', 'amazing')\n",
      "('amazing', 'The')\n",
      "('The', 'story')\n",
      "('story', 'was')\n",
      "('was', 'just')\n",
      "('just', 'A')\n",
      "('A', 'beautifully')\n",
      "('beautifully', 'done')\n",
      "('done', 'movie')\n",
      "('movie', 'Loved')\n",
      "('Loved', 'it')\n",
      "('it', 'Pretty')\n",
      "('Pretty', 'good')\n",
      "('good', 'Really')\n",
      "('Really', 'enjoyed')\n",
      "('enjoyed', 'closed')\n",
      "('closed', 'caption')\n",
      "('caption', 'so')\n",
      "('so', 'I')\n",
      "('I', 'love')\n",
      "('love', 'everything')\n",
      "('everything', 'I')\n",
      "('I', 'm')\n",
      "('m', 'glad')\n",
      "('glad', 'they')\n",
      "('they', 'kept')\n",
      "('kept', 'to')\n",
      "('to', 'the')\n",
      "('the', 'o')\n",
      "('o', 'Great')\n",
      "('Great', 'film')\n",
      "('film', 'loved')\n",
      "('loved', 'it')\n",
      "('it', 'It')\n",
      "('It', 'only')\n",
      "('only', 'gets')\n",
      "('gets', 'two')\n",
      "('two', 'stars')\n",
      "('stars', 'rather')\n",
      "('rather', 'than')\n",
      "('than', 'one')\n",
      "('one', 'becau')\n",
      "('becau', 'Really')\n",
      "('Really', 'enjoyed')\n",
      "('enjoyed', 'it')\n",
      "('it', 'The')\n",
      "('The', 'songs')\n",
      "('songs', 'were')\n",
      "('were', 'amazing')\n",
      "('amazing', 'and')\n",
      "('and', 'Realky')\n",
      "('Realky', 'enjoyable')\n",
      "('enjoyable', 'We')\n",
      "('We', 've')\n",
      "('ve', 'seen')\n",
      "('seen', 'the')\n",
      "('the', 'original')\n",
      "('original', 'anim')\n",
      "('anim', 'Beautiful')\n",
      "('Beautiful', 'Loved')\n",
      "('Loved', 'it')\n",
      "('it', 'Absolutely')\n",
      "('Absolutely', 'loved')\n",
      "('loved', 'the')\n",
      "('the', 'movie')\n",
      "('movie', 'it')\n",
      "('it', 'had')\n",
      "('had', 'my')\n",
      "('my', 'emotions')\n",
      "('emotions', 'Tha')\n",
      "('Tha', 'movie')\n",
      "('movie', 'was')\n",
      "('was', 'phenomenal')\n",
      "('phenomenal', 'Was')\n",
      "('Was', 'a')\n",
      "('a', 'complete')\n",
      "('complete', 'copy')\n",
      "('copy', 'of')\n",
      "('of', 'the')\n",
      "('the', 'original')\n",
      "('original', 'movie')\n",
      "('movie', 'I')\n",
      "('I', 'Very')\n",
      "('Very', 'good')\n",
      "('good', 'movie')\n",
      "('movie', 'and')\n",
      "('and', 'stayed')\n",
      "('stayed', 'with')\n",
      "('with', 'the')\n",
      "('the', 'original')\n",
      "('original', 's')\n",
      "('s', 'Ahhhmazing')\n",
      "('Ahhhmazing', 'Loved')\n",
      "('Loved', 'it')\n",
      "('it', 'So')\n",
      "('So', 'much')\n",
      "('much', 'creativity')\n",
      "('creativity', 'and')\n",
      "('and', 'Very')\n",
      "('Very', 'heartwarming')\n",
      "('heartwarming', 'character')\n",
      "('character', 'animals')\n",
      "('animals', 'personali')\n",
      "('personali', 'Amazing')\n",
      "('Amazing', 'and')\n",
      "('and', 'i')\n",
      "('i', 'love')\n",
      "('love', 'that')\n",
      "('that', 'they')\n",
      "('they', 'didn')\n",
      "('didn', 't')\n",
      "('t', 'change')\n",
      "('change', 'the')\n",
      "('the', 'Greatly')\n",
      "('Greatly', 'enjoyed')\n",
      "('enjoyed', 'it')\n",
      "('it', 'No')\n",
      "('No', 'need')\n",
      "('need', 'to')\n",
      "('to', 'compare')\n",
      "('compare', 'to')\n",
      "('to', 'ori')\n",
      "('ori', 'Every')\n",
      "('Every', 'dog')\n",
      "('dog', 'lover')\n",
      "('lover', 'will')\n",
      "('will', 'absolutely')\n",
      "('absolutely', 'love')\n",
      "('love', 'this')\n",
      "('this', 'movie')\n",
      "('movie', 'Nothing')\n",
      "('Nothing', 'like')\n",
      "('like', 'the')\n",
      "('the', 'original')\n",
      "('original', 'but')\n",
      "('but', 'still')\n",
      "('still', 'good')\n",
      "('good', 'Pretty')\n",
      "('Pretty', 'much')\n",
      "('much', 'a')\n",
      "('a', 'faithful')\n",
      "('faithful', 'retelling')\n",
      "('retelling', 'on')\n",
      "('on', 'the')\n",
      "('the', 'animat')\n",
      "('animat', 'The')\n",
      "('The', 'original')\n",
      "('original', 'story')\n",
      "('story', 'line')\n",
      "('line', 'was')\n",
      "('was', 'there')\n",
      "('there', 'and')\n",
      "('and', 'the')\n",
      "('the', 'movi')\n",
      "('movi', 'there')\n",
      "('there', 'is')\n",
      "('is', 'nothing')\n",
      "('nothing', 'bad')\n",
      "('bad', 'about')\n",
      "('about', 'the')\n",
      "('the', 'movie')\n",
      "('movie', 'I')\n",
      "('I', 'just')\n",
      "('just', 'f')\n",
      "('f', 'did')\n",
      "('did', 'a')\n",
      "('a', 'great')\n",
      "('great', 'job')\n",
      "('job', 'on')\n",
      "('on', 'the')\n",
      "('the', 'animation')\n",
      "('animation', 'and')\n",
      "('and', 'following')\n",
      "('following', 'Soulless')\n",
      "('Soulless', 'and')\n",
      "('and', 'uninspired')\n",
      "('uninspired', 'I')\n",
      "('I', 'expected')\n",
      "('expected', 'at')\n",
      "('at', 'least')\n",
      "('least', 'a')\n",
      "('a', 'Grandma')\n",
      "('Grandma', 'and')\n",
      "('and', 'I')\n",
      "('I', 'took')\n",
      "('took', 'grandkids')\n",
      "('grandkids', 'age')\n",
      "('age', 'to')\n",
      "('to', 'I')\n",
      "('I', 'loved')\n",
      "('loved', 'it')\n",
      "('it', 'great')\n",
      "('great', 'family')\n",
      "('family', 'movie')\n",
      "('movie', 'It')\n",
      "('It', 'was')\n",
      "('was', 'just')\n",
      "('just', 'okay')\n",
      "('okay', 'Had')\n",
      "('Had', 'to')\n",
      "('to', 'leave')\n",
      "('leave', 'year')\n",
      "('year', 'old')\n",
      "('old', 'cou')\n",
      "('cou', 'movie')\n",
      "('movie', 'didnt')\n",
      "('didnt', 'flow')\n",
      "('flow', 'well')\n",
      "('well', 'could')\n",
      "('could', 'have')\n",
      "('have', 'been')\n",
      "('been', 'more')\n",
      "('more', 'di')\n",
      "('di', 'I')\n",
      "('I', 'love')\n",
      "('love', 'the')\n",
      "('the', 'music')\n",
      "('music', 'and')\n",
      "('and', 'Pumba')\n",
      "('Pumba', 'My')\n",
      "('My', 'kids')\n",
      "('kids', 'are')\n",
      "('are', 'avid')\n",
      "('avid', 'Lion')\n",
      "('Lion', 'King')\n",
      "('King', 'watchers')\n",
      "('watchers', 'and')\n",
      "('and', 'they')\n",
      "('they', 'L')\n",
      "('L', 'wonderful')\n",
      "('wonderful', 'job')\n",
      "('job', 'on')\n",
      "('on', 'being')\n",
      "('being', 'life')\n",
      "('life', 'like')\n",
      "('like', 'As')\n",
      "('As', 'a')\n",
      "('a', 'kid')\n",
      "('kid', 'from')\n",
      "('from', 'the')\n",
      "('the', 's')\n",
      "('s', 'its')\n",
      "('its', 'so')\n",
      "('so', 'exciting')\n",
      "('exciting', 'to')\n",
      "('to', 'final')\n",
      "('final', 'Unique')\n",
      "('Unique', 'Awesome')\n",
      "('Awesome', 'How')\n",
      "('How', 'was')\n",
      "('was', 'it')\n",
      "('it', 'created')\n",
      "('created', 'A')\n",
      "('A', 'new')\n",
      "('new', 'c')\n",
      "('c', 'Love')\n",
      "('Love', 'it')\n",
      "('it', 'super')\n",
      "('super', 'cool')\n",
      "('cool', 'Movie')\n",
      "('Movie', 'It')\n",
      "('It', 'was')\n",
      "('was', 'exactly')\n",
      "('exactly', 'the')\n",
      "('the', 'story')\n",
      "('story', 'line')\n",
      "('line', 'I')\n",
      "('I', 'didn')\n",
      "('didn', 't')\n",
      "('t', 'think')\n",
      "('think', 'great')\n",
      "('great', 'movie')\n",
      "('movie', 'worth')\n",
      "('worth', 'the')\n",
      "('the', 'IMAX')\n",
      "('IMAX', 'experience')\n",
      "('experience', 'I')\n",
      "('I', 'loved')\n",
      "('loved', 'the')\n",
      "('the', 'animals')\n",
      "('animals', 'in')\n",
      "('in', 'true')\n",
      "('true', 'form')\n",
      "('form', 'instead')\n",
      "('instead', 'of')\n",
      "('of', 'ca')\n",
      "('ca', 'it')\n",
      "('it', 'was')\n",
      "('was', 'alright')\n",
      "('alright', 'it')\n",
      "('it', 'is')\n",
      "('is', 'more')\n",
      "('more', 'boring')\n",
      "('boring', 'then')\n",
      "('then', 'i')\n",
      "('i', 'rememb')\n",
      "('rememb', 'movie')\n",
      "('movie', 'was')\n",
      "('was', 'excellent')\n",
      "('excellent', 'It')\n",
      "('It', 'was')\n",
      "('was', 'great')\n",
      "('great', 'but')\n",
      "('but', 'not')\n",
      "('not', 'so')\n",
      "('so', 'sure')\n",
      "('sure', 'it')\n",
      "('it', 'is')\n",
      "('is', 'OK')\n",
      "('OK', 'for')\n",
      "('for', 'you')\n",
      "('you', 'It')\n",
      "('It', 'lacked')\n",
      "('lacked', 'the')\n",
      "('the', 'magic')\n",
      "('magic', 'of')\n",
      "('of', 'the')\n",
      "('the', 'original')\n",
      "('original', 'lion')\n",
      "('lion', 'king')\n",
      "('king', 'Loved')\n",
      "('Loved', 'it')\n",
      "('it', 'The')\n",
      "('The', 'special')\n",
      "('special', 'effects')\n",
      "('effects', 'characters')\n",
      "('characters', 's')\n",
      "('s', 'We')\n",
      "('We', 'didn')\n",
      "('didn', 't')\n",
      "('t', 'like')\n",
      "('like', 'that')\n",
      "('that', 'it')\n",
      "('it', 'was')\n",
      "('was', 'the')\n",
      "('the', 'same')\n",
      "('same', 'movie')\n",
      "('movie', 'as')\n",
      "('as', 't')\n",
      "('t', 'its')\n",
      "('its', 'a')\n",
      "('a', 'lot')\n",
      "('lot', 'to')\n",
      "('to', 'live')\n",
      "('live', 'up')\n",
      "('up', 'to')\n",
      "('to', 'the')\n",
      "('the', 'animated')\n",
      "('animated', 'classic')\n",
      "('classic', 'o')\n",
      "('o', 'This')\n",
      "('This', 'movie')\n",
      "('movie', 'was')\n",
      "('was', 'so')\n",
      "('so', 'NOT')\n",
      "('NOT', 'visually')\n",
      "('visually', 'appealing')\n",
      "('appealing', 'I')\n",
      "('I', 'wa')\n",
      "('wa', 'Was')\n",
      "('Was', 'good')\n",
      "('good', 'but')\n",
      "('but', 'I')\n",
      "('I', 'find')\n",
      "('find', 'the')\n",
      "('the', 'animated')\n",
      "('animated', 'characters')\n",
      "('characters', 'fo')\n",
      "('fo', 'The')\n",
      "('The', 'hard')\n",
      "('hard', 'part')\n",
      "('part', 'about')\n",
      "('about', 'seeing')\n",
      "('seeing', 'a')\n",
      "('a', 'remake')\n",
      "('remake', 'is')\n",
      "('is', 'that')\n",
      "('that', 'th')\n",
      "('th', 'Mixed')\n",
      "('Mixed', 'feelings')\n",
      "('feelings', 'about')\n",
      "('about', 'this')\n",
      "('this', 'one')\n",
      "('one', 'Applause')\n",
      "('Applause', 'to')\n",
      "('to', 'Dis')\n",
      "('Dis', 'My')\n",
      "('My', 'Grand')\n",
      "('Grand', 'daughter')\n",
      "('daughter', 'I')\n",
      "('I', 'loved')\n",
      "('loved', 'the')\n",
      "('the', 'movie')\n",
      "('movie', 'Every')\n",
      "('Every', 'It')\n",
      "('It', 'didn')\n",
      "('didn', 't')\n",
      "('t', 'have')\n",
      "('have', 'every')\n",
      "('every', 'scene')\n",
      "('scene', 'from')\n",
      "('from', 'the')\n",
      "('the', 'original')\n",
      "('original', 'm')\n",
      "('m', 'I')\n",
      "('I', 'totally')\n",
      "('totally', 'enjoyed')\n",
      "('enjoyed', 'the')\n",
      "('the', 'entire')\n",
      "('entire', 'movie')\n",
      "('movie', 'stars')\n",
      "('stars', 'The')\n",
      "('The', 'storyline')\n",
      "('storyline', 'we')\n",
      "('we', 'knew')\n",
      "('knew', 'already')\n",
      "('already', 'so')\n",
      "('so', 'I')\n",
      "('I', 'guess')\n",
      "('guess', 'maybe')\n",
      "('maybe', 'The')\n",
      "('The', 'voice')\n",
      "('voice', 'acting')\n",
      "('acting', 'was')\n",
      "('was', 'HORRIBLE')\n",
      "('HORRIBLE', 'I')\n",
      "('I', 'wish')\n",
      "('wish', 'they')\n",
      "('they', 'wo')\n",
      "('wo', 'The')\n",
      "('The', 'graphics')\n",
      "('graphics', 'were')\n",
      "('were', 'beautiful')\n",
      "('beautiful', 'but')\n",
      "('but', 'the')\n",
      "('the', 'realism')\n",
      "('realism', 'm')\n",
      "('m', 'I')\n",
      "('I', 'do')\n",
      "('do', 'understand')\n",
      "('understand', 'the')\n",
      "('the', 'realistic')\n",
      "('realistic', 'feel')\n",
      "('feel', 'they')\n",
      "('they', 'wanted')\n",
      "('wanted', 'great')\n",
      "('great', 'movie')\n",
      "('movie', 'loved')\n",
      "('loved', 'the')\n",
      "('the', 'visual')\n",
      "('visual', 'effects')\n",
      "('effects', 'I')\n",
      "('I', 'thought')\n",
      "('thought', 'it')\n",
      "('it', 'was')\n",
      "('was', 'fabulous')\n",
      "('fabulous', 'It')\n",
      "('It', 'did')\n",
      "('did', 'a')\n",
      "('a', 'good')\n",
      "('good', 'job')\n",
      "('job', 'c')\n",
      "('c', 'There')\n",
      "('There', 'is')\n",
      "('is', 'nothing')\n",
      "('nothing', 'different')\n",
      "('different', 'Cartoon')\n",
      "('Cartoon', 'was')\n",
      "('was', 'way')\n",
      "('way', 'be')\n",
      "('be', 'Name')\n",
      "('Name', 'review')\n",
      "('review', 'Length')\n",
      "('Length', 'dtype')\n",
      "('dtype', 'object')\n",
      "491\n"
     ]
    }
   ],
   "source": [
    "tmp=0\n",
    "\n",
    "for i in nltk.ngrams(tokens,2):\n",
    "    print(i,)\n",
    "    tmp += 1\n",
    "print(tmp)  "
   ]
  },
  {
   "cell_type": "code",
   "execution_count": 143,
   "metadata": {},
   "outputs": [],
   "source": [
    "%matplotlib inline"
   ]
  },
  {
   "cell_type": "markdown",
   "metadata": {},
   "source": [
    "## Plots"
   ]
  },
  {
   "cell_type": "code",
   "execution_count": 144,
   "metadata": {},
   "outputs": [
    {
     "data": {
      "image/png": "[encoded data removed]",
      "text/plain": [
       "<Figure size 864x720 with 1 Axes>"
      ]
     },
     "metadata": {
      "needs_background": "light"
     },
     "output_type": "display_data"
    }
   ],
   "source": [
    "ax = data['rating'].value_counts().plot(kind='bar', fontsize=14, figsize=(12,10))\n",
    "ax.set_title('rating Count\\n', fontsize=20)\n",
    "ax.set_xlabel('Rating', fontsize=18)\n",
    "ax.set_ylabel('Count', fontsize=18);"
   ]
  },
  {
   "cell_type": "code",
   "execution_count": 40,
   "metadata": {},
   "outputs": [
    {
     "data": {
      "image/png": "[encoded data removed]",
      "text/plain": [
       "<Figure size 864x720 with 1 Axes>"
      ]
     },
     "metadata": {
      "needs_background": "light"
     },
     "output_type": "display_data"
    }
   ],
   "source": [
    "ax = data['sentiment'].value_counts().plot(kind='bar', fontsize=14, figsize=(12,10))\n",
    "ax.set_title('sentiment\\n', fontsize=20)\n",
    "ax.set_xlabel('scores', fontsize=18)\n",
    "ax.set_ylabel('Count', fontsize=18);"
   ]
  },
  {
   "cell_type": "markdown",
   "metadata": {},
   "source": [
    "### Counting values of rating"
   ]
  },
  {
   "cell_type": "code",
   "execution_count": 145,
   "metadata": {},
   "outputs": [
    {
     "data": {
      "text/plain": [
       "STAR_5      1360\n",
       "STAR_4       435\n",
       "STAR_3       285\n",
       "STAR_3_5     197\n",
       "STAR_4_5     176\n",
       "STAR_2       172\n",
       "STAR_2_5     124\n",
       "STAR_0_5     112\n",
       "STAR_1        90\n",
       "STAR_1_5      49\n",
       "Name: rating, dtype: int64"
      ]
     },
     "execution_count": 145,
     "metadata": {},
     "output_type": "execute_result"
    }
   ],
   "source": [
    "data['rating'].value_counts()"
   ]
  },
  {
   "cell_type": "markdown",
   "metadata": {},
   "source": [
    "### To check whether each review is small or big reviews by keeping 1000 words as a threshold"
   ]
  },
  {
   "cell_type": "code",
   "execution_count": 146,
   "metadata": {},
   "outputs": [
    {
     "name": "stdout",
     "output_type": "stream",
     "text": [
      " This is a large Review\n",
      " This is a large Review\n",
      " This is a large Review\n",
      " This is a large Review\n",
      " This is a large Review\n",
      " This is a large Review\n",
      " This is a large Review\n",
      " This is a large Review\n",
      " This is a large Review\n",
      " This is a large Review\n",
      " This is a large Review\n",
      " This is a large Review\n",
      " This is a large Review\n",
      " This is a large Review\n",
      " This is a large Review\n",
      " This is a large Review\n",
      " This is a large Review\n",
      " This is a large Review\n",
      " This is a large Review\n",
      " This is a large Review\n",
      " This is a large Review\n",
      " This is a large Review\n",
      " This is a large Review\n",
      " This is a large Review\n",
      " This is a large Review\n",
      " This is a large Review\n",
      " This is a large Review\n",
      " This is a large Review\n",
      " This is a large Review\n",
      " This is a large Review\n",
      " This is a large Review\n",
      " This is a large Review\n",
      " This is a large Review\n",
      " This is a large Review\n",
      " This is a large Review\n",
      " This is a large Review\n",
      " This is a large Review\n",
      " This is a large Review\n",
      " This is a large Review\n",
      " This is a large Review\n",
      " This is a large Review\n",
      " This is a large Review\n",
      " This is a large Review\n",
      " This is a large Review\n",
      " This is a large Review\n",
      " This is a large Review\n",
      " This is a large Review\n",
      " This is a large Review\n",
      " This is a large Review\n",
      " This is a large Review\n",
      " This is a large Review\n",
      " This is a large Review\n",
      " This is a large Review\n",
      " This is a large Review\n",
      " This is a large Review\n",
      " This is a large Review\n",
      " This is a large Review\n",
      " This is a large Review\n",
      " This is a large Review\n",
      " This is a large Review\n",
      " This is a large Review\n",
      " This is a large Review\n",
      " This is a large Review\n",
      " This is a large Review\n",
      " This is a large Review\n",
      " This is a large Review\n",
      " This is a large Review\n",
      " This is a large Review\n",
      " This is a large Review\n",
      " This is a large Review\n",
      " This is a large Review\n",
      " This is a large Review\n",
      " This is a large Review\n",
      " This is a large Review\n",
      " This is a large Review\n",
      " This is a large Review\n",
      " This is a large Review\n",
      " This is a large Review\n",
      " This is a large Review\n",
      " This is a large Review\n",
      " This is a large Review\n",
      " This is a large Review\n",
      " This is a large Review\n",
      " This is a large Review\n",
      " This is a large Review\n",
      " This is a large Review\n",
      " This is a large Review\n",
      " This is a large Review\n",
      " This is a large Review\n",
      " This is a large Review\n",
      " This is a large Review\n",
      " This is a large Review\n",
      " This is a large Review\n",
      " This is a large Review\n",
      " This is a large Review\n",
      " This is a large Review\n",
      " This is a large Review\n",
      " This is a large Review\n",
      " This is a large Review\n",
      " This is a large Review\n",
      " This is a large Review\n",
      " This is a large Review\n",
      " This is a large Review\n",
      " This is a large Review\n",
      " This is a large Review\n",
      " This is a large Review\n",
      " This is a large Review\n",
      " This is a large Review\n",
      " This is a large Review\n",
      " This is a large Review\n",
      " This is a large Review\n",
      " This is a large Review\n",
      " This is a large Review\n",
      " This is a large Review\n",
      " This is a large Review\n",
      " This is a large Review\n",
      " This is a large Review\n",
      " This is a large Review\n",
      " This is a large Review\n",
      " This is a large Review\n",
      " This is a large Review\n",
      " This is a large Review\n",
      " This is a large Review\n",
      " This is a large Review\n",
      " This is a large Review\n",
      " This is a large Review\n",
      " This is a large Review\n",
      " This is a large Review\n",
      " This is a large Review\n",
      " This is a large Review\n",
      " This is a large Review\n",
      " This is a large Review\n",
      " This is a large Review\n",
      " This is a large Review\n",
      " This is a large Review\n",
      " This is a large Review\n",
      " This is a large Review\n",
      " This is a large Review\n",
      " This is a large Review\n",
      " This is a large Review\n",
      " This is a large Review\n",
      " This is a large Review\n",
      " This is a large Review\n",
      " This is a large Review\n",
      " This is a large Review\n",
      " This is a large Review\n",
      " This is a large Review\n",
      " This is a large Review\n",
      " This is a large Review\n",
      " This is a large Review\n",
      " This is a large Review\n",
      " This is a large Review\n",
      " This is a large Review\n",
      " This is a large Review\n",
      " This is a large Review\n",
      " This is a large Review\n",
      " This is a large Review\n",
      " This is a large Review\n",
      " This is a large Review\n",
      " This is a large Review\n",
      " This is a large Review\n",
      " This is a large Review\n",
      " This is a large Review\n",
      " This is a large Review\n",
      " This is a large Review\n",
      " This is a large Review\n",
      " This is a large Review\n",
      " This is a large Review\n",
      " This is a large Review\n",
      " This is a large Review\n",
      " This is a large Review\n",
      " This is a large Review\n",
      " This is a large Review\n",
      " This is a large Review\n",
      " This is a large Review\n",
      " This is a large Review\n",
      " This is a large Review\n",
      " This is a large Review\n",
      " This is a large Review\n",
      " This is a large Review\n",
      " This is a large Review\n",
      " This is a large Review\n",
      " This is a large Review\n",
      " This is a large Review\n",
      " This is a large Review\n",
      " This is a large Review\n",
      " This is a large Review\n",
      " This is a large Review\n",
      " This is a large Review\n",
      " This is a large Review\n",
      " This is a large Review\n",
      " This is a large Review\n",
      " This is a large Review\n",
      " This is a large Review\n",
      " This is a large Review\n",
      " This is a large Review\n",
      " This is a large Review\n",
      " This is a large Review\n",
      " This is a large Review\n",
      " This is a large Review\n",
      " This is a large Review\n",
      " This is a large Review\n",
      " This is a large Review\n",
      " This is a large Review\n",
      " This is a large Review\n",
      " This is a large Review\n",
      " This is a large Review\n",
      " This is a large Review\n",
      " This is a large Review\n",
      " This is a large Review\n",
      " This is a large Review\n",
      " This is a large Review\n",
      " This is a large Review\n",
      " This is a large Review\n",
      " This is a large Review\n",
      " This is a large Review\n",
      " This is a large Review\n",
      " This is a large Review\n",
      " This is a large Review\n",
      " This is a large Review\n",
      " This is a large Review\n",
      " This is a large Review\n",
      " This is a large Review\n",
      " This is a large Review\n",
      " This is a large Review\n",
      " This is a large Review\n",
      " This is a large Review\n",
      " This is a large Review\n",
      " This is a large Review\n",
      " This is a large Review\n",
      " This is a large Review\n",
      " This is a large Review\n",
      " This is a large Review\n",
      " This is a large Review\n",
      " This is a large Review\n",
      " This is a large Review\n",
      " This is a large Review\n",
      " This is a large Review\n",
      " This is a large Review\n",
      " This is a large Review\n",
      " This is a large Review\n",
      " This is a large Review\n",
      " This is a large Review\n",
      " This is a large Review\n",
      " This is a large Review\n",
      " This is a large Review\n",
      " This is a large Review\n",
      " This is a large Review\n",
      " This is a large Review\n",
      " This is a large Review\n",
      " This is a large Review\n",
      " This is a large Review\n",
      " This is a large Review\n",
      " This is a large Review\n",
      " This is a large Review\n",
      " This is a large Review\n",
      " This is a large Review\n",
      " This is a large Review\n",
      " This is a large Review\n",
      " This is a large Review\n",
      " This is a large Review\n",
      " This is a large Review\n",
      " This is a large Review\n",
      " This is a large Review\n",
      " This is a large Review\n",
      " This is a large Review\n",
      " This is a large Review\n",
      " This is a large Review\n",
      " This is a large Review\n",
      " This is a large Review\n",
      " This is a large Review\n",
      " This is a large Review\n",
      " This is a large Review\n",
      " This is a large Review\n",
      " This is a large Review\n",
      " This is a large Review\n",
      " This is a large Review\n",
      " This is a large Review\n",
      " This is a large Review\n",
      " This is a large Review\n",
      " This is a large Review\n",
      " This is a large Review\n",
      " This is a large Review\n",
      " This is a large Review\n",
      " This is a large Review\n",
      " This is a large Review\n",
      " This is a large Review\n",
      " This is a large Review\n",
      " This is a large Review\n",
      " This is a large Review\n",
      " This is a large Review\n",
      " This is a large Review\n",
      " This is a large Review\n",
      " This is a large Review\n",
      " This is a large Review\n",
      " This is a large Review\n",
      " This is a large Review\n",
      " This is a large Review\n",
      " This is a large Review\n",
      " This is a large Review\n",
      " This is a large Review\n",
      " This is a large Review\n",
      " This is a large Review\n",
      " This is a large Review\n",
      " This is a large Review\n",
      " This is a large Review\n",
      " This is a large Review\n",
      " This is a large Review\n",
      " This is a large Review\n",
      " This is a large Review\n",
      " This is a large Review\n",
      " This is a large Review\n",
      " This is a large Review\n",
      " This is a large Review\n",
      " This is a large Review\n",
      " This is a large Review\n",
      " This is a large Review\n",
      " This is a large Review\n",
      " This is a large Review\n",
      " This is a large Review\n",
      " This is a large Review\n",
      " This is a large Review\n",
      " This is a large Review\n",
      " This is a large Review\n",
      " This is a large Review\n",
      " This is a large Review\n",
      " This is a large Review\n",
      " This is a large Review\n",
      " This is a large Review\n",
      " This is a large Review\n",
      " This is a large Review\n",
      " This is a large Review\n",
      " This is a large Review\n",
      " This is a large Review\n",
      " This is a large Review\n",
      " This is a large Review\n",
      " This is a large Review\n",
      " This is a large Review\n",
      " This is a large Review\n",
      " This is a large Review\n",
      " This is a large Review\n",
      " This is a large Review\n",
      " This is a large Review\n",
      " This is a large Review\n",
      " This is a large Review\n",
      " This is a large Review\n",
      " This is a large Review\n",
      " This is a large Review\n",
      " This is a large Review\n",
      " This is a large Review\n",
      " This is a large Review\n",
      " This is a large Review\n",
      " This is a large Review\n",
      " This is a large Review\n",
      " This is a large Review\n",
      " This is a large Review\n",
      " This is a large Review\n",
      " This is a large Review\n",
      " This is a large Review\n",
      " This is a large Review\n",
      " This is a large Review\n",
      " This is a large Review\n",
      " This is a large Review\n",
      " This is a large Review\n",
      " This is a large Review\n",
      " This is a large Review\n",
      " This is a large Review\n",
      " This is a large Review\n",
      " This is a large Review\n",
      " This is a large Review\n",
      " This is a large Review\n",
      " This is a large Review\n",
      " This is a large Review\n",
      " This is a large Review\n",
      " This is a large Review\n",
      " This is a large Review\n",
      " This is a large Review\n",
      " This is a large Review\n",
      " This is a large Review\n",
      " This is a large Review\n",
      " This is a large Review\n",
      " This is a large Review\n",
      " This is a large Review\n",
      " This is a large Review\n",
      " This is a large Review\n",
      " This is a large Review\n",
      " This is a large Review\n",
      " This is a large Review\n",
      " This is a large Review\n",
      " This is a large Review\n",
      " This is a large Review\n",
      " This is a large Review\n",
      " This is a large Review\n",
      " This is a large Review\n",
      " This is a large Review\n",
      " This is a large Review\n",
      " This is a large Review\n",
      " This is a large Review\n",
      " This is a large Review\n",
      " This is a large Review\n",
      " This is a large Review\n",
      " This is a large Review\n",
      " This is a large Review\n",
      " This is a large Review\n",
      " This is a large Review\n",
      " This is a large Review\n",
      " This is a large Review\n",
      " This is a large Review\n",
      " This is a large Review\n",
      " This is a large Review\n",
      " This is a large Review\n",
      " This is a large Review\n",
      " This is a large Review\n",
      " This is a large Review\n",
      " This is a large Review\n",
      " This is a large Review\n",
      " This is a large Review\n",
      " This is a large Review\n",
      " This is a large Review\n",
      " This is a large Review\n",
      " This is a large Review\n",
      " This is a large Review\n",
      " This is a large Review\n",
      " This is a large Review\n",
      " This is a large Review\n",
      " This is a large Review\n",
      " This is a large Review\n",
      " This is a large Review\n",
      " This is a large Review\n",
      " This is a large Review\n",
      " This is a large Review\n",
      " This is a large Review\n",
      " This is a large Review\n",
      " This is a large Review\n",
      " This is a large Review\n",
      " This is a large Review\n",
      " This is a large Review\n",
      " This is a large Review\n",
      " This is a large Review\n",
      " This is a large Review\n",
      " This is a large Review\n",
      " This is a large Review\n",
      " This is a large Review\n",
      " This is a large Review\n",
      " This is a large Review\n",
      " This is a large Review\n",
      " This is a large Review\n",
      " This is a large Review\n",
      " This is a large Review\n",
      " This is a large Review\n",
      " This is a large Review\n",
      " This is a large Review\n",
      " This is a large Review\n",
      " This is a large Review\n",
      " This is a large Review\n",
      " This is a large Review\n",
      " This is a large Review\n",
      " This is a large Review\n",
      " This is a large Review\n",
      " This is a large Review\n",
      " This is a large Review\n",
      " This is a large Review\n",
      " This is a large Review\n",
      " This is a large Review\n",
      " This is a large Review\n",
      " This is a large Review\n",
      " This is a large Review\n",
      " This is a large Review\n",
      " This is a large Review\n",
      " This is a large Review\n",
      " This is a large Review\n",
      " This is a large Review\n",
      " This is a large Review\n",
      " This is a large Review\n",
      " This is a large Review\n",
      " This is a large Review\n",
      " This is a large Review\n",
      " This is a large Review\n",
      " This is a large Review\n",
      " This is a large Review\n",
      " This is a large Review\n",
      " This is a large Review\n",
      " This is a large Review\n",
      " This is a large Review\n",
      " This is a large Review\n",
      " This is a large Review\n",
      " This is a large Review\n",
      " This is a large Review\n",
      " This is a large Review\n",
      " This is a large Review\n",
      " This is a large Review\n",
      " This is a large Review\n",
      " This is a large Review\n",
      " This is a large Review\n",
      " This is a large Review\n",
      " This is a large Review\n",
      " This is a large Review\n",
      " This is a large Review\n",
      " This is a large Review\n",
      " This is a large Review\n",
      " This is a large Review\n",
      " This is a large Review\n",
      " This is a large Review\n",
      " This is a large Review\n",
      " This is a large Review\n",
      " This is a large Review\n",
      " This is a large Review\n",
      " This is a large Review\n",
      " This is a large Review\n",
      " This is a large Review\n",
      " This is a large Review\n",
      " This is a large Review\n",
      " This is a large Review\n",
      " This is a large Review\n",
      " This is a large Review\n",
      " This is a large Review\n",
      " This is a large Review\n",
      " This is a large Review\n",
      " This is a large Review\n",
      " This is a large Review\n",
      " This is a large Review\n",
      " This is a large Review\n",
      " This is a large Review\n",
      " This is a large Review\n",
      " This is a large Review\n",
      " This is a large Review\n",
      " This is a large Review\n",
      " This is a large Review\n",
      " This is a large Review\n",
      " This is a large Review\n",
      " This is a large Review\n",
      " This is a large Review\n",
      " This is a large Review\n",
      " This is a large Review\n",
      " This is a large Review\n",
      " This is a large Review\n",
      " This is a large Review\n",
      " This is a large Review\n",
      " This is a large Review\n",
      " This is a large Review\n",
      " This is a large Review\n",
      " This is a large Review\n",
      " This is a large Review\n",
      " This is a large Review\n",
      " This is a large Review\n",
      " This is a large Review\n",
      " This is a large Review\n",
      " This is a large Review\n",
      " This is a large Review\n",
      " This is a large Review\n",
      " This is a large Review\n",
      " This is a large Review\n",
      " This is a large Review\n",
      " This is a large Review\n",
      " This is a large Review\n",
      " This is a large Review\n",
      " This is a large Review\n",
      " This is a large Review\n",
      " This is a large Review\n",
      " This is a large Review\n",
      " This is a large Review\n",
      " This is a large Review\n",
      " This is a large Review\n",
      " This is a large Review\n",
      " This is a large Review\n",
      " This is a large Review\n",
      " This is a large Review\n",
      " This is a large Review\n",
      " This is a large Review\n",
      " This is a large Review\n",
      " This is a large Review\n",
      " This is a large Review\n",
      " This is a large Review\n",
      " This is a large Review\n",
      " This is a large Review\n",
      " This is a large Review\n",
      " This is a large Review\n",
      " This is a large Review\n",
      " This is a large Review\n",
      " This is a large Review\n",
      " This is a large Review\n",
      " This is a large Review\n",
      " This is a large Review\n",
      " This is a large Review\n",
      " This is a large Review\n",
      " This is a large Review\n",
      " This is a large Review\n",
      " This is a large Review\n",
      " This is a large Review\n",
      " This is a large Review\n",
      " This is a large Review\n",
      " This is a large Review\n",
      " This is a large Review\n",
      " This is a large Review\n",
      " This is a large Review\n",
      " This is a large Review\n",
      " This is a large Review\n",
      " This is a large Review\n",
      " This is a large Review\n",
      " This is a large Review\n",
      " This is a large Review\n",
      " This is a large Review\n",
      " This is a large Review\n",
      " This is a large Review\n",
      " This is a large Review\n",
      " This is a large Review\n",
      " This is a large Review\n",
      " This is a large Review\n",
      " This is a large Review\n",
      " This is a large Review\n",
      " This is a large Review\n",
      " This is a large Review\n",
      " This is a large Review\n",
      " This is a large Review\n",
      " This is a large Review\n",
      " This is a large Review\n",
      " This is a large Review\n",
      " This is a large Review\n",
      " This is a large Review\n",
      " This is a large Review\n",
      " This is a large Review\n",
      " This is a large Review\n",
      " This is a large Review\n",
      " This is a large Review\n",
      " This is a large Review\n",
      " This is a large Review\n",
      " This is a large Review\n",
      " This is a large Review\n",
      " This is a large Review\n",
      " This is a large Review\n",
      " This is a large Review\n",
      " This is a large Review\n",
      " This is a large Review\n",
      " This is a large Review\n",
      " This is a large Review\n",
      " This is a large Review\n",
      " This is a large Review\n",
      " This is a large Review\n",
      " This is a large Review\n",
      " This is a large Review\n",
      " This is a large Review\n",
      " This is a large Review\n",
      " This is a large Review\n",
      " This is a large Review\n",
      " This is a large Review\n",
      " This is a large Review\n",
      " This is a large Review\n",
      " This is a large Review\n",
      " This is a large Review\n",
      " This is a large Review\n",
      " This is a large Review\n",
      " This is a large Review\n",
      " This is a large Review\n",
      " This is a large Review\n",
      " This is a large Review\n",
      " This is a large Review\n",
      " This is a large Review\n",
      " This is a large Review\n",
      " This is a large Review\n",
      " This is a large Review\n",
      " This is a large Review\n",
      " This is a large Review\n",
      " This is a large Review\n",
      " This is a large Review\n",
      " This is a large Review\n",
      " This is a large Review\n",
      " This is a large Review\n",
      " This is a large Review\n",
      " This is a large Review\n",
      " This is a large Review\n",
      " This is a large Review\n",
      " This is a large Review\n",
      " This is a large Review\n",
      " This is a large Review\n",
      " This is a large Review\n",
      " This is a large Review\n",
      " This is a large Review\n",
      " This is a large Review\n",
      " This is a large Review\n",
      " This is a large Review\n",
      " This is a large Review\n",
      " This is a large Review\n"
     ]
    },
    {
     "name": "stdout",
     "output_type": "stream",
     "text": [
      " This is a large Review\n",
      " This is a large Review\n",
      " This is a large Review\n",
      " This is a large Review\n",
      " This is a large Review\n",
      " This is a large Review\n",
      " This is a large Review\n",
      " This is a large Review\n",
      " This is a large Review\n",
      " This is a large Review\n",
      " This is a large Review\n",
      " This is a large Review\n",
      " This is a large Review\n",
      " This is a large Review\n",
      " This is a large Review\n",
      " This is a large Review\n",
      " This is a large Review\n",
      " This is a large Review\n",
      " This is a large Review\n",
      " This is a large Review\n",
      " This is a large Review\n",
      " This is a large Review\n",
      " This is a large Review\n",
      " This is a large Review\n",
      " This is a large Review\n",
      " This is a large Review\n",
      " This is a large Review\n",
      " This is a large Review\n",
      " This is a large Review\n",
      " This is a large Review\n",
      " This is a large Review\n",
      " This is a large Review\n",
      " This is a large Review\n",
      " This is a large Review\n",
      " This is a large Review\n",
      " This is a large Review\n",
      " This is a large Review\n",
      " This is a large Review\n",
      " This is a large Review\n",
      " This is a large Review\n",
      " This is a large Review\n",
      " This is a large Review\n",
      " This is a large Review\n",
      " This is a large Review\n",
      " This is a large Review\n",
      " This is a large Review\n",
      " This is a large Review\n",
      " This is a large Review\n",
      " This is a large Review\n",
      " This is a large Review\n",
      " This is a large Review\n",
      " This is a large Review\n",
      " This is a large Review\n",
      " This is a large Review\n",
      " This is a large Review\n",
      " This is a large Review\n",
      " This is a large Review\n",
      " This is a large Review\n",
      " This is a large Review\n",
      " This is a large Review\n",
      " This is a large Review\n",
      " This is a large Review\n",
      " This is a large Review\n",
      " This is a large Review\n",
      " This is a large Review\n",
      " This is a large Review\n",
      " This is a large Review\n",
      " This is a large Review\n",
      " This is a large Review\n",
      " This is a large Review\n",
      " This is a large Review\n",
      " This is a large Review\n",
      " This is a large Review\n",
      " This is a large Review\n",
      " This is a large Review\n",
      " This is a large Review\n",
      " This is a large Review\n",
      " This is a large Review\n",
      " This is a large Review\n",
      " This is a large Review\n",
      " This is a large Review\n",
      " This is a large Review\n",
      " This is a large Review\n",
      " This is a large Review\n",
      " This is a large Review\n",
      " This is a large Review\n",
      " This is a large Review\n",
      " This is a large Review\n",
      " This is a large Review\n",
      " This is a large Review\n",
      " This is a large Review\n",
      " This is a large Review\n",
      " This is a large Review\n",
      " This is a large Review\n",
      " This is a large Review\n",
      " This is a large Review\n",
      " This is a large Review\n",
      " This is a large Review\n",
      " This is a large Review\n",
      " This is a large Review\n",
      " This is a large Review\n",
      " This is a large Review\n",
      " This is a large Review\n",
      " This is a large Review\n",
      " This is a large Review\n",
      " This is a large Review\n",
      " This is a large Review\n",
      " This is a large Review\n",
      " This is a large Review\n",
      " This is a large Review\n",
      " This is a large Review\n",
      " This is a large Review\n",
      " This is a large Review\n",
      " This is a large Review\n",
      " This is a large Review\n",
      " This is a large Review\n",
      " This is a large Review\n",
      " This is a large Review\n",
      " This is a large Review\n",
      " This is a large Review\n",
      " This is a large Review\n",
      " This is a large Review\n",
      " This is a large Review\n",
      " This is a large Review\n",
      " This is a large Review\n",
      " This is a large Review\n",
      " This is a large Review\n",
      " This is a large Review\n",
      " This is a large Review\n",
      " This is a large Review\n",
      " This is a large Review\n",
      " This is a large Review\n",
      " This is a large Review\n",
      " This is a large Review\n",
      " This is a large Review\n",
      " This is a large Review\n",
      " This is a large Review\n",
      " This is a large Review\n",
      " This is a large Review\n",
      " This is a large Review\n",
      " This is a large Review\n",
      " This is a large Review\n",
      " This is a large Review\n",
      " This is a large Review\n",
      " This is a large Review\n",
      " This is a large Review\n",
      " This is a large Review\n",
      " This is a large Review\n",
      " This is a large Review\n",
      " This is a large Review\n",
      " This is a large Review\n",
      " This is a large Review\n",
      " This is a large Review\n",
      " This is a large Review\n",
      " This is a large Review\n",
      " This is a large Review\n",
      " This is a large Review\n",
      " This is a large Review\n",
      " This is a large Review\n",
      " This is a large Review\n",
      " This is a large Review\n",
      " This is a large Review\n",
      " This is a large Review\n",
      " This is a large Review\n",
      " This is a large Review\n",
      " This is a large Review\n",
      " This is a large Review\n",
      " This is a large Review\n",
      " This is a large Review\n",
      " This is a large Review\n",
      " This is a large Review\n",
      " This is a large Review\n",
      " This is a large Review\n",
      " This is a large Review\n",
      " This is a large Review\n",
      " This is a large Review\n",
      " This is a large Review\n",
      " This is a large Review\n",
      " This is a large Review\n",
      " This is a large Review\n",
      " This is a large Review\n",
      " This is a large Review\n",
      " This is a large Review\n",
      " This is a large Review\n",
      " This is a large Review\n",
      " This is a large Review\n",
      " This is a large Review\n",
      " This is a large Review\n",
      " This is a large Review\n",
      " This is a large Review\n",
      " This is a large Review\n",
      " This is a large Review\n",
      " This is a large Review\n",
      " This is a large Review\n",
      " This is a large Review\n",
      " This is a large Review\n",
      " This is a large Review\n",
      " This is a large Review\n",
      " This is a large Review\n",
      " This is a large Review\n",
      " This is a large Review\n",
      " This is a large Review\n",
      " This is a large Review\n",
      " This is a large Review\n",
      " This is a large Review\n",
      " This is a large Review\n",
      " This is a large Review\n",
      " This is a large Review\n",
      " This is a large Review\n",
      " This is a large Review\n",
      " This is a large Review\n",
      " This is a large Review\n",
      " This is a large Review\n",
      " This is a large Review\n",
      " This is a large Review\n",
      " This is a large Review\n",
      " This is a large Review\n",
      " This is a large Review\n",
      " This is a large Review\n",
      " This is a large Review\n",
      " This is a large Review\n",
      " This is a large Review\n",
      " This is a large Review\n",
      " This is a large Review\n",
      " This is a large Review\n",
      " This is a large Review\n",
      " This is a large Review\n",
      " This is a large Review\n",
      " This is a large Review\n",
      " This is a large Review\n",
      " This is a large Review\n",
      " This is a large Review\n",
      " This is a large Review\n",
      " This is a large Review\n",
      " This is a large Review\n",
      " This is a large Review\n",
      " This is a large Review\n",
      " This is a large Review\n",
      " This is a large Review\n",
      " This is a large Review\n",
      " This is a large Review\n",
      " This is a large Review\n",
      " This is a large Review\n",
      " This is a large Review\n",
      " This is a large Review\n",
      " This is a large Review\n",
      " This is a large Review\n",
      " This is a large Review\n",
      " This is a large Review\n",
      " This is a large Review\n",
      " This is a large Review\n",
      " This is a large Review\n",
      " This is a large Review\n",
      " This is a large Review\n",
      " This is a large Review\n",
      " This is a large Review\n",
      " This is a large Review\n",
      " This is a large Review\n",
      " This is a large Review\n",
      " This is a large Review\n",
      " This is a large Review\n",
      " This is a large Review\n",
      " This is a large Review\n",
      " This is a large Review\n",
      " This is a large Review\n",
      " This is a large Review\n",
      " This is a large Review\n",
      " This is a large Review\n",
      " This is a large Review\n",
      " This is a large Review\n",
      " This is a large Review\n",
      " This is a large Review\n",
      " This is a large Review\n",
      " This is a large Review\n",
      " This is a large Review\n",
      " This is a large Review\n",
      " This is a large Review\n",
      " This is a large Review\n",
      " This is a large Review\n",
      " This is a large Review\n",
      " This is a large Review\n",
      " This is a large Review\n",
      " This is a large Review\n",
      " This is a large Review\n",
      " This is a large Review\n",
      " This is a large Review\n",
      " This is a large Review\n",
      " This is a large Review\n",
      " This is a large Review\n",
      " This is a large Review\n",
      " This is a large Review\n",
      " This is a large Review\n",
      " This is a large Review\n",
      " This is a large Review\n",
      " This is a large Review\n",
      " This is a large Review\n",
      " This is a large Review\n",
      " This is a large Review\n",
      " This is a large Review\n",
      " This is a large Review\n",
      " This is a large Review\n",
      " This is a large Review\n",
      " This is a large Review\n",
      " This is a large Review\n",
      " This is a large Review\n",
      " This is a large Review\n",
      " This is a large Review\n",
      " This is a large Review\n",
      " This is a large Review\n",
      " This is a large Review\n",
      " This is a large Review\n",
      " This is a large Review\n",
      " This is a large Review\n",
      " This is a large Review\n",
      " This is a large Review\n",
      " This is a large Review\n",
      " This is a large Review\n",
      " This is a large Review\n",
      " This is a large Review\n",
      " This is a large Review\n",
      " This is a large Review\n",
      " This is a large Review\n",
      " This is a large Review\n",
      " This is a large Review\n",
      " This is a large Review\n",
      " This is a large Review\n",
      " This is a large Review\n",
      " This is a large Review\n",
      " This is a large Review\n",
      " This is a large Review\n",
      " This is a large Review\n",
      " This is a large Review\n",
      " This is a large Review\n",
      " This is a large Review\n",
      " This is a large Review\n",
      " This is a large Review\n",
      " This is a large Review\n",
      " This is a large Review\n",
      " This is a large Review\n",
      " This is a large Review\n",
      " This is a large Review\n",
      " This is a large Review\n",
      " This is a large Review\n",
      " This is a large Review\n",
      " This is a large Review\n",
      " This is a large Review\n",
      " This is a large Review\n",
      " This is a large Review\n",
      " This is a large Review\n",
      " This is a large Review\n",
      " This is a large Review\n",
      " This is a large Review\n",
      " This is a large Review\n",
      " This is a large Review\n",
      " This is a large Review\n",
      " This is a large Review\n",
      " This is a large Review\n",
      " This is a large Review\n",
      " This is a large Review\n",
      " This is a large Review\n",
      " This is a large Review\n",
      " This is a large Review\n",
      " This is a large Review\n",
      " This is a large Review\n",
      " This is a large Review\n",
      " This is a large Review\n",
      " This is a large Review\n",
      " This is a large Review\n",
      " This is a large Review\n",
      " This is a large Review\n",
      " This is a large Review\n",
      " This is a large Review\n",
      " This is a large Review\n",
      " This is a large Review\n",
      " This is a large Review\n",
      " This is a large Review\n",
      " This is a large Review\n",
      " This is a large Review\n",
      " This is a large Review\n",
      " This is a large Review\n",
      " This is a large Review\n",
      " This is a large Review\n",
      " This is a large Review\n",
      " This is a large Review\n",
      " This is a large Review\n",
      " This is a large Review\n",
      " This is a large Review\n",
      " This is a large Review\n",
      " This is a large Review\n",
      " This is a large Review\n",
      " This is a large Review\n",
      " This is a large Review\n",
      " This is a large Review\n",
      " This is a large Review\n",
      " This is a large Review\n",
      " This is a large Review\n",
      " This is a large Review\n",
      " This is a large Review\n",
      " This is a large Review\n",
      " This is a large Review\n",
      " This is a large Review\n",
      " This is a large Review\n",
      " This is a large Review\n",
      " This is a large Review\n",
      " This is a large Review\n",
      " This is a large Review\n",
      " This is a large Review\n",
      " This is a large Review\n",
      " This is a large Review\n",
      " This is a large Review\n",
      " This is a large Review\n",
      " This is a large Review\n",
      " This is a large Review\n",
      " This is a large Review\n",
      " This is a large Review\n",
      " This is a large Review\n",
      " This is a large Review\n",
      " This is a large Review\n",
      " This is a large Review\n",
      " This is a large Review\n",
      " This is a large Review\n",
      " This is a large Review\n",
      " This is a large Review\n",
      " This is a large Review\n",
      " This is a large Review\n",
      " This is a large Review\n",
      " This is a large Review\n",
      " This is a large Review\n",
      " This is a large Review\n",
      " This is a large Review\n",
      " This is a large Review\n",
      " This is a large Review\n",
      " This is a large Review\n",
      " This is a large Review\n",
      " This is a large Review\n",
      " This is a large Review\n",
      " This is a large Review\n",
      " This is a large Review\n",
      " This is a large Review\n",
      " This is a large Review\n",
      " This is a large Review\n",
      " This is a large Review\n",
      " This is a large Review\n",
      " This is a large Review\n",
      " This is a large Review\n",
      " This is a large Review\n",
      " This is a large Review\n",
      " This is a large Review\n",
      " This is a large Review\n",
      " This is a large Review\n",
      " This is a large Review\n",
      " This is a large Review\n",
      " This is a large Review\n",
      " This is a large Review\n",
      " This is a large Review\n",
      " This is a large Review\n",
      " This is a large Review\n",
      " This is a large Review\n",
      " This is a large Review\n",
      " This is a large Review\n",
      " This is a large Review\n",
      " This is a large Review\n",
      " This is a large Review\n",
      " This is a large Review\n",
      " This is a large Review\n",
      " This is a large Review\n",
      " This is a large Review\n",
      " This is a large Review\n",
      " This is a large Review\n",
      " This is a large Review\n",
      " This is a large Review\n",
      " This is a large Review\n",
      " This is a large Review\n",
      " This is a large Review\n",
      " This is a large Review\n",
      " This is a large Review\n",
      " This is a large Review\n",
      " This is a large Review\n",
      " This is a large Review\n",
      " This is a large Review\n",
      " This is a large Review\n",
      " This is a large Review\n",
      " This is a large Review\n",
      " This is a large Review\n",
      " This is a large Review\n",
      " This is a large Review\n",
      " This is a large Review\n",
      " This is a large Review\n",
      " This is a large Review\n",
      " This is a large Review\n",
      " This is a large Review\n",
      " This is a large Review\n",
      " This is a large Review\n",
      " This is a large Review\n",
      " This is a large Review\n",
      " This is a large Review\n",
      " This is a large Review\n",
      " This is a large Review\n",
      " This is a large Review\n",
      " This is a large Review\n",
      " This is a large Review\n",
      " This is a large Review\n",
      " This is a large Review\n",
      " This is a large Review\n",
      " This is a large Review\n",
      " This is a large Review\n",
      " This is a large Review\n",
      " This is a large Review\n",
      " This is a large Review\n",
      " This is a large Review\n",
      " This is a large Review\n",
      " This is a large Review\n",
      " This is a large Review\n",
      " This is a large Review\n",
      " This is a large Review\n",
      " This is a large Review\n",
      " This is a large Review\n",
      " This is a large Review\n",
      " This is a large Review\n",
      " This is a large Review\n",
      " This is a large Review\n",
      " This is a large Review\n",
      " This is a large Review\n",
      " This is a large Review\n",
      " This is a large Review\n",
      " This is a large Review\n",
      " This is a large Review\n",
      " This is a large Review\n",
      " This is a large Review\n",
      " This is a large Review\n",
      " This is a large Review\n",
      " This is a large Review\n",
      " This is a large Review\n",
      " This is a large Review\n",
      " This is a large Review\n",
      " This is a large Review\n",
      " This is a large Review\n",
      " This is a large Review\n",
      " This is a large Review\n",
      " This is a large Review\n",
      " This is a large Review\n",
      " This is a large Review\n",
      " This is a large Review\n",
      " This is a large Review\n",
      " This is a large Review\n",
      " This is a large Review\n",
      " This is a large Review\n",
      " This is a large Review\n",
      " This is a large Review\n",
      " This is a large Review\n",
      " This is a large Review\n",
      " This is a large Review\n",
      " This is a large Review\n",
      " This is a large Review\n",
      " This is a large Review\n",
      " This is a large Review\n",
      " This is a large Review\n",
      " This is a large Review\n",
      " This is a large Review\n",
      " This is a large Review\n",
      " This is a large Review\n",
      " This is a large Review\n",
      " This is a large Review\n",
      " This is a large Review\n",
      " This is a large Review\n",
      " This is a large Review\n",
      " This is a large Review\n",
      " This is a large Review\n",
      " This is a large Review\n",
      " This is a large Review\n",
      " This is a large Review\n",
      " This is a large Review\n",
      " This is a large Review\n",
      " This is a large Review\n",
      " This is a large Review\n",
      " This is a large Review\n",
      " This is a large Review\n",
      " This is a large Review\n",
      " This is a large Review\n",
      " This is a large Review\n",
      " This is a large Review\n",
      " This is a large Review\n",
      " This is a large Review\n",
      " This is a large Review\n",
      " This is a large Review\n",
      " This is a large Review\n",
      " This is a large Review\n",
      " This is a large Review\n",
      " This is a large Review\n",
      " This is a large Review\n",
      " This is a large Review\n",
      " This is a large Review\n",
      " This is a large Review\n",
      " This is a large Review\n",
      " This is a large Review\n",
      " This is a large Review\n",
      " This is a large Review\n",
      " This is a large Review\n",
      " This is a large Review\n",
      " This is a large Review\n",
      " This is a large Review\n",
      " This is a large Review\n",
      " This is a large Review\n",
      " This is a large Review\n",
      " This is a large Review\n",
      " This is a large Review\n",
      " This is a large Review\n",
      " This is a large Review\n",
      " This is a large Review\n",
      " This is a large Review\n",
      " This is a large Review\n",
      " This is a large Review\n",
      " This is a large Review\n",
      " This is a large Review\n",
      " This is a large Review\n",
      " This is a large Review\n",
      " This is a large Review\n",
      " This is a large Review\n",
      " This is a large Review\n",
      " This is a large Review\n",
      " This is a large Review\n",
      " This is a large Review\n",
      " This is a large Review\n",
      " This is a large Review\n",
      " This is a large Review\n",
      " This is a large Review\n",
      " This is a large Review\n",
      " This is a large Review\n",
      " This is a large Review\n",
      " This is a large Review\n",
      " This is a large Review\n",
      " This is a large Review\n",
      " This is a large Review\n",
      " This is a large Review\n",
      " This is a large Review\n",
      " This is a large Review\n",
      " This is a large Review\n",
      " This is a large Review\n",
      " This is a large Review\n",
      " This is a large Review\n",
      " This is a large Review\n",
      " This is a large Review\n",
      " This is a large Review\n",
      " This is a large Review\n",
      " This is a large Review\n",
      " This is a large Review\n",
      " This is a large Review\n",
      " This is a large Review\n",
      " This is a large Review\n",
      " This is a large Review\n",
      " This is a large Review\n",
      " This is a large Review\n",
      " This is a large Review\n",
      " This is a large Review\n",
      " This is a large Review\n",
      " This is a large Review\n",
      " This is a large Review\n",
      " This is a large Review\n",
      " This is a large Review\n",
      " This is a large Review\n",
      " This is a large Review\n",
      " This is a large Review\n",
      " This is a large Review\n",
      " This is a large Review\n",
      " This is a large Review\n",
      " This is a large Review\n",
      " This is a large Review\n",
      " This is a large Review\n",
      " This is a large Review\n",
      " This is a large Review\n",
      " This is a large Review\n",
      " This is a large Review\n",
      " This is a large Review\n",
      " This is a large Review\n",
      " This is a large Review\n",
      " This is a large Review\n",
      " This is a large Review\n",
      " This is a large Review\n",
      " This is a large Review\n",
      " This is a large Review\n",
      " This is a large Review\n",
      " This is a large Review\n"
     ]
    },
    {
     "name": "stdout",
     "output_type": "stream",
     "text": [
      " This is a large Review\n",
      " This is a large Review\n",
      " This is a large Review\n",
      " This is a large Review\n",
      " This is a large Review\n",
      " This is a large Review\n",
      " This is a large Review\n",
      " This is a large Review\n",
      " This is a large Review\n",
      " This is a large Review\n",
      " This is a large Review\n",
      " This is a large Review\n",
      " This is a large Review\n",
      " This is a large Review\n",
      " This is a large Review\n",
      " This is a large Review\n",
      " This is a large Review\n",
      " This is a large Review\n",
      " This is a large Review\n",
      " This is a large Review\n",
      " This is a large Review\n",
      " This is a large Review\n",
      " This is a large Review\n",
      " This is a large Review\n",
      " This is a large Review\n",
      " This is a large Review\n",
      " This is a large Review\n",
      " This is a large Review\n",
      " This is a large Review\n",
      " This is a large Review\n",
      " This is a large Review\n",
      " This is a large Review\n",
      " This is a large Review\n",
      " This is a large Review\n",
      " This is a large Review\n",
      " This is a large Review\n",
      " This is a large Review\n",
      " This is a large Review\n",
      " This is a large Review\n",
      " This is a large Review\n",
      " This is a large Review\n",
      " This is a large Review\n",
      " This is a large Review\n",
      " This is a large Review\n",
      " This is a large Review\n",
      " This is a large Review\n",
      " This is a large Review\n",
      " This is a large Review\n",
      " This is a large Review\n",
      " This is a large Review\n",
      " This is a large Review\n",
      " This is a large Review\n",
      " This is a large Review\n",
      " This is a large Review\n",
      " This is a large Review\n",
      " This is a large Review\n",
      " This is a large Review\n",
      " This is a large Review\n",
      " This is a large Review\n",
      " This is a large Review\n",
      " This is a large Review\n",
      " This is a large Review\n",
      " This is a large Review\n",
      " This is a large Review\n",
      " This is a large Review\n",
      " This is a large Review\n",
      " This is a large Review\n",
      " This is a large Review\n",
      " This is a large Review\n",
      " This is a large Review\n",
      " This is a large Review\n",
      " This is a large Review\n",
      " This is a large Review\n",
      " This is a large Review\n",
      " This is a large Review\n",
      " This is a large Review\n",
      " This is a large Review\n",
      " This is a large Review\n",
      " This is a large Review\n",
      " This is a large Review\n",
      " This is a large Review\n",
      " This is a large Review\n",
      " This is a large Review\n",
      " This is a large Review\n",
      " This is a large Review\n",
      " This is a large Review\n",
      " This is a large Review\n",
      " This is a large Review\n",
      " This is a large Review\n",
      " This is a large Review\n",
      " This is a large Review\n",
      " This is a large Review\n",
      " This is a large Review\n",
      " This is a large Review\n",
      " This is a large Review\n",
      " This is a large Review\n",
      " This is a large Review\n",
      " This is a large Review\n",
      " This is a large Review\n",
      " This is a large Review\n",
      " This is a large Review\n",
      " This is a large Review\n",
      " This is a large Review\n",
      " This is a large Review\n",
      " This is a large Review\n",
      " This is a large Review\n",
      " This is a large Review\n",
      " This is a large Review\n",
      " This is a large Review\n",
      " This is a large Review\n",
      " This is a large Review\n",
      " This is a large Review\n",
      " This is a large Review\n",
      " This is a large Review\n",
      " This is a large Review\n",
      " This is a large Review\n",
      " This is a large Review\n",
      " This is a large Review\n",
      " This is a large Review\n",
      " This is a large Review\n",
      " This is a large Review\n",
      " This is a large Review\n",
      " This is a large Review\n",
      " This is a large Review\n",
      " This is a large Review\n",
      " This is a large Review\n",
      " This is a large Review\n",
      " This is a large Review\n",
      " This is a large Review\n",
      " This is a large Review\n",
      " This is a large Review\n",
      " This is a large Review\n",
      " This is a large Review\n",
      " This is a large Review\n",
      " This is a large Review\n",
      " This is a large Review\n",
      " This is a large Review\n",
      " This is a large Review\n",
      " This is a large Review\n",
      " This is a large Review\n",
      " This is a large Review\n",
      " This is a large Review\n",
      " This is a large Review\n",
      " This is a large Review\n",
      " This is a large Review\n",
      " This is a large Review\n",
      " This is a large Review\n",
      " This is a large Review\n",
      " This is a large Review\n",
      " This is a large Review\n",
      " This is a large Review\n",
      " This is a large Review\n",
      " This is a large Review\n",
      " This is a large Review\n",
      " This is a large Review\n",
      " This is a large Review\n",
      " This is a large Review\n",
      " This is a large Review\n",
      " This is a large Review\n",
      " This is a large Review\n",
      " This is a large Review\n",
      " This is a large Review\n",
      " This is a large Review\n",
      " This is a large Review\n",
      " This is a large Review\n",
      " This is a large Review\n",
      " This is a large Review\n",
      " This is a large Review\n",
      " This is a large Review\n",
      " This is a large Review\n",
      " This is a large Review\n",
      " This is a large Review\n",
      " This is a large Review\n",
      " This is a large Review\n",
      " This is a large Review\n",
      " This is a large Review\n",
      " This is a large Review\n",
      " This is a large Review\n",
      " This is a large Review\n",
      " This is a large Review\n",
      " This is a large Review\n",
      " This is a large Review\n",
      " This is a large Review\n",
      " This is a large Review\n",
      " This is a large Review\n",
      " This is a large Review\n",
      " This is a large Review\n",
      " This is a large Review\n",
      " This is a large Review\n",
      " This is a large Review\n",
      " This is a large Review\n",
      " This is a large Review\n",
      " This is a large Review\n",
      " This is a large Review\n",
      " This is a large Review\n",
      " This is a large Review\n",
      " This is a large Review\n",
      " This is a large Review\n",
      " This is a large Review\n",
      " This is a large Review\n",
      " This is a large Review\n",
      " This is a large Review\n",
      " This is a large Review\n",
      " This is a large Review\n",
      " This is a large Review\n",
      " This is a large Review\n",
      " This is a large Review\n",
      " This is a large Review\n",
      " This is a large Review\n",
      " This is a large Review\n",
      " This is a large Review\n",
      " This is a large Review\n",
      " This is a large Review\n",
      " This is a large Review\n",
      " This is a large Review\n",
      " This is a large Review\n",
      " This is a large Review\n",
      " This is a large Review\n",
      " This is a large Review\n",
      " This is a large Review\n",
      " This is a large Review\n",
      " This is a large Review\n",
      " This is a large Review\n",
      " This is a large Review\n",
      " This is a large Review\n",
      " This is a large Review\n",
      " This is a large Review\n",
      " This is a large Review\n",
      " This is a large Review\n",
      " This is a large Review\n",
      " This is a large Review\n",
      " This is a large Review\n",
      " This is a large Review\n",
      " This is a large Review\n",
      " This is a large Review\n",
      " This is a large Review\n",
      " This is a large Review\n",
      " This is a large Review\n",
      " This is a large Review\n",
      " This is a large Review\n",
      " This is a large Review\n",
      " This is a large Review\n",
      " This is a large Review\n",
      " This is a large Review\n",
      " This is a large Review\n",
      " This is a large Review\n",
      " This is a large Review\n",
      " This is a large Review\n",
      " This is a large Review\n",
      " This is a large Review\n",
      " This is a large Review\n",
      " This is a large Review\n",
      " This is a large Review\n",
      " This is a large Review\n",
      " This is a large Review\n",
      " This is a large Review\n",
      " This is a large Review\n",
      " This is a large Review\n",
      " This is a large Review\n",
      " This is a large Review\n",
      " This is a large Review\n",
      " This is a large Review\n",
      " This is a large Review\n",
      " This is a large Review\n",
      " This is a large Review\n",
      " This is a large Review\n",
      " This is a large Review\n",
      " This is a large Review\n",
      " This is a large Review\n",
      " This is a large Review\n",
      " This is a large Review\n",
      " This is a large Review\n",
      " This is a large Review\n",
      " This is a large Review\n",
      " This is a large Review\n",
      " This is a large Review\n",
      " This is a large Review\n",
      " This is a large Review\n",
      " This is a large Review\n",
      " This is a large Review\n",
      " This is a large Review\n",
      " This is a large Review\n",
      " This is a large Review\n",
      " This is a large Review\n",
      " This is a large Review\n",
      " This is a large Review\n",
      " This is a large Review\n",
      " This is a large Review\n",
      " This is a large Review\n",
      " This is a large Review\n",
      " This is a large Review\n",
      " This is a large Review\n",
      " This is a large Review\n",
      " This is a large Review\n",
      " This is a large Review\n",
      " This is a large Review\n",
      " This is a large Review\n",
      " This is a large Review\n",
      " This is a large Review\n",
      " This is a large Review\n",
      " This is a large Review\n",
      " This is a large Review\n",
      " This is a large Review\n",
      " This is a large Review\n",
      " This is a large Review\n",
      " This is a large Review\n",
      " This is a large Review\n",
      " This is a large Review\n",
      " This is a large Review\n",
      " This is a large Review\n",
      " This is a large Review\n",
      " This is a large Review\n",
      " This is a large Review\n",
      " This is a large Review\n",
      " This is a large Review\n",
      " This is a large Review\n",
      " This is a large Review\n",
      " This is a large Review\n",
      " This is a large Review\n",
      " This is a large Review\n",
      " This is a large Review\n",
      " This is a large Review\n",
      " This is a large Review\n",
      " This is a large Review\n",
      " This is a large Review\n",
      " This is a large Review\n",
      " This is a large Review\n",
      " This is a large Review\n",
      " This is a large Review\n",
      " This is a large Review\n",
      " This is a large Review\n",
      " This is a large Review\n",
      " This is a large Review\n",
      " This is a large Review\n",
      " This is a large Review\n",
      " This is a large Review\n",
      " This is a large Review\n",
      " This is a large Review\n",
      " This is a large Review\n",
      " This is a large Review\n",
      " This is a large Review\n",
      " This is a large Review\n",
      " This is a large Review\n",
      " This is a large Review\n",
      " This is a large Review\n",
      " This is a large Review\n",
      " This is a large Review\n",
      " This is a large Review\n",
      " This is a large Review\n",
      " This is a large Review\n",
      " This is a large Review\n",
      " This is a large Review\n",
      " This is a large Review\n",
      " This is a large Review\n",
      " This is a large Review\n",
      " This is a large Review\n",
      " This is a large Review\n",
      " This is a large Review\n",
      " This is a large Review\n",
      " This is a large Review\n",
      " This is a large Review\n",
      " This is a large Review\n",
      " This is a large Review\n",
      " This is a large Review\n",
      " This is a large Review\n",
      " This is a large Review\n",
      " This is a large Review\n",
      " This is a large Review\n",
      " This is a large Review\n",
      " This is a large Review\n",
      " This is a large Review\n",
      " This is a large Review\n",
      " This is a large Review\n",
      " This is a large Review\n",
      " This is a large Review\n",
      " This is a large Review\n",
      " This is a large Review\n",
      " This is a large Review\n",
      " This is a large Review\n",
      " This is a large Review\n",
      " This is a large Review\n",
      " This is a large Review\n",
      " This is a large Review\n",
      " This is a large Review\n",
      " This is a large Review\n",
      " This is a large Review\n",
      " This is a large Review\n",
      " This is a large Review\n",
      " This is a large Review\n",
      " This is a large Review\n",
      " This is a large Review\n",
      " This is a large Review\n",
      " This is a large Review\n",
      " This is a large Review\n",
      " This is a large Review\n",
      " This is a large Review\n",
      " This is a large Review\n",
      " This is a large Review\n",
      " This is a large Review\n",
      " This is a large Review\n",
      " This is a large Review\n",
      " This is a large Review\n",
      " This is a large Review\n",
      " This is a large Review\n",
      " This is a large Review\n",
      " This is a large Review\n",
      " This is a large Review\n",
      " This is a large Review\n",
      " This is a large Review\n",
      " This is a large Review\n",
      " This is a large Review\n",
      " This is a large Review\n",
      " This is a large Review\n",
      " This is a large Review\n",
      " This is a large Review\n",
      " This is a large Review\n",
      " This is a large Review\n",
      " This is a large Review\n",
      " This is a large Review\n",
      " This is a large Review\n",
      " This is a large Review\n",
      " This is a large Review\n",
      " This is a large Review\n",
      " This is a large Review\n",
      " This is a large Review\n",
      " This is a large Review\n",
      " This is a large Review\n",
      " This is a large Review\n",
      " This is a large Review\n",
      " This is a large Review\n",
      " This is a large Review\n",
      " This is a large Review\n",
      " This is a large Review\n",
      " This is a large Review\n",
      " This is a large Review\n",
      " This is a large Review\n",
      " This is a large Review\n",
      " This is a large Review\n",
      " This is a large Review\n",
      " This is a large Review\n",
      " This is a large Review\n",
      " This is a large Review\n",
      " This is a large Review\n",
      " This is a large Review\n",
      " This is a large Review\n",
      " This is a large Review\n",
      " This is a large Review\n",
      " This is a large Review\n",
      " This is a large Review\n",
      " This is a large Review\n",
      " This is a large Review\n",
      " This is a large Review\n",
      " This is a large Review\n",
      " This is a large Review\n",
      " This is a large Review\n",
      " This is a large Review\n",
      " This is a large Review\n",
      " This is a large Review\n",
      " This is a large Review\n",
      " This is a large Review\n",
      " This is a large Review\n",
      " This is a large Review\n",
      " This is a large Review\n",
      " This is a large Review\n",
      " This is a large Review\n",
      " This is a large Review\n",
      " This is a large Review\n",
      " This is a large Review\n",
      " This is a large Review\n",
      " This is a large Review\n",
      " This is a large Review\n",
      " This is a large Review\n",
      " This is a large Review\n",
      " This is a large Review\n",
      " This is a large Review\n",
      " This is a large Review\n",
      " This is a large Review\n",
      " This is a large Review\n",
      " This is a large Review\n",
      " This is a large Review\n",
      " This is a large Review\n",
      " This is a large Review\n",
      " This is a large Review\n",
      " This is a large Review\n",
      " This is a large Review\n",
      " This is a large Review\n",
      " This is a large Review\n",
      " This is a large Review\n",
      " This is a large Review\n",
      " This is a large Review\n",
      " This is a large Review\n",
      " This is a large Review\n",
      " This is a large Review\n",
      " This is a large Review\n",
      " This is a large Review\n",
      " This is a large Review\n",
      " This is a large Review\n",
      " This is a large Review\n",
      " This is a large Review\n",
      " This is a large Review\n",
      " This is a large Review\n",
      " This is a large Review\n",
      " This is a large Review\n",
      " This is a large Review\n",
      " This is a large Review\n",
      " This is a large Review\n",
      " This is a large Review\n",
      " This is a large Review\n",
      " This is a large Review\n",
      " This is a large Review\n",
      " This is a large Review\n",
      " This is a large Review\n",
      " This is a large Review\n",
      " This is a large Review\n",
      " This is a large Review\n",
      " This is a large Review\n",
      " This is a large Review\n",
      " This is a large Review\n",
      " This is a large Review\n",
      " This is a large Review\n",
      " This is a large Review\n",
      " This is a large Review\n",
      " This is a large Review\n",
      " This is a large Review\n",
      " This is a large Review\n",
      " This is a large Review\n",
      " This is a large Review\n",
      " This is a large Review\n",
      " This is a large Review\n",
      " This is a large Review\n",
      " This is a large Review\n",
      " This is a large Review\n",
      " This is a large Review\n",
      " This is a large Review\n",
      " This is a large Review\n",
      " This is a large Review\n",
      " This is a large Review\n",
      " This is a large Review\n",
      " This is a large Review\n",
      " This is a large Review\n",
      " This is a large Review\n",
      " This is a large Review\n",
      " This is a large Review\n",
      " This is a large Review\n",
      " This is a large Review\n",
      " This is a large Review\n",
      " This is a large Review\n",
      " This is a large Review\n",
      " This is a large Review\n",
      " This is a large Review\n",
      " This is a large Review\n",
      " This is a large Review\n",
      " This is a large Review\n",
      " This is a large Review\n",
      " This is a large Review\n",
      " This is a large Review\n",
      " This is a large Review\n",
      " This is a large Review\n",
      " This is a large Review\n",
      " This is a large Review\n",
      " This is a large Review\n",
      " This is a large Review\n",
      " This is a large Review\n",
      " This is a large Review\n",
      " This is a large Review\n",
      " This is a large Review\n",
      " This is a large Review\n",
      " This is a large Review\n",
      " This is a large Review\n",
      " This is a large Review\n",
      " This is a large Review\n",
      " This is a large Review\n",
      " This is a large Review\n",
      " This is a large Review\n",
      " This is a large Review\n",
      " This is a large Review\n",
      " This is a large Review\n",
      " This is a large Review\n",
      " This is a large Review\n",
      " This is a large Review\n",
      " This is a large Review\n",
      " This is a large Review\n",
      " This is a large Review\n",
      " This is a large Review\n",
      " This is a large Review\n",
      " This is a large Review\n",
      " This is a large Review\n",
      " This is a large Review\n",
      " This is a large Review\n",
      " This is a large Review\n",
      " This is a large Review\n",
      " This is a large Review\n",
      " This is a large Review\n",
      " This is a large Review\n",
      " This is a large Review\n",
      " This is a large Review\n",
      " This is a large Review\n",
      " This is a large Review\n",
      " This is a large Review\n",
      " This is a large Review\n",
      " This is a large Review\n",
      " This is a large Review\n",
      " This is a large Review\n",
      " This is a large Review\n",
      " This is a large Review\n",
      " This is a large Review\n",
      " This is a large Review\n",
      " This is a large Review\n",
      " This is a large Review\n",
      " This is a large Review\n",
      " This is a large Review\n",
      " This is a large Review\n",
      " This is a large Review\n",
      " This is a large Review\n",
      " This is a large Review\n",
      " This is a large Review\n",
      " This is a large Review\n",
      " This is a large Review\n",
      " This is a large Review\n",
      " This is a large Review\n",
      " This is a large Review\n",
      " This is a large Review\n",
      " This is a large Review\n",
      " This is a large Review\n",
      " This is a large Review\n",
      " This is a large Review\n",
      " This is a large Review\n",
      " This is a large Review\n",
      " This is a large Review\n",
      " This is a large Review\n",
      " This is a large Review\n",
      " This is a large Review\n",
      " This is a large Review\n",
      " This is a large Review\n",
      " This is a large Review\n",
      " This is a large Review\n",
      " This is a large Review\n",
      " This is a large Review\n",
      " This is a large Review\n",
      " This is a large Review\n",
      " This is a large Review\n",
      " This is a large Review\n",
      " This is a large Review\n",
      " This is a large Review\n",
      " This is a large Review\n",
      " This is a large Review\n",
      " This is a large Review\n",
      " This is a large Review\n",
      " This is a large Review\n",
      " This is a large Review\n",
      " This is a large Review\n",
      " This is a large Review\n",
      " This is a large Review\n",
      " This is a large Review\n",
      " This is a large Review\n",
      " This is a large Review\n",
      " This is a large Review\n",
      " This is a large Review\n",
      " This is a large Review\n",
      " This is a large Review\n",
      " This is a large Review\n",
      " This is a large Review\n",
      " This is a large Review\n",
      " This is a large Review\n",
      " This is a large Review\n",
      " This is a large Review\n",
      " This is a large Review\n",
      " This is a large Review\n",
      " This is a large Review\n",
      " This is a large Review\n",
      " This is a large Review\n",
      " This is a large Review\n",
      " This is a large Review\n",
      " This is a large Review\n",
      " This is a large Review\n",
      " This is a large Review\n",
      " This is a large Review\n",
      " This is a large Review\n",
      " This is a large Review\n",
      " This is a large Review\n",
      " This is a large Review\n",
      " This is a large Review\n"
     ]
    },
    {
     "name": "stdout",
     "output_type": "stream",
     "text": [
      " This is a large Review\n",
      " This is a large Review\n",
      " This is a large Review\n",
      " This is a large Review\n",
      " This is a large Review\n",
      " This is a large Review\n",
      " This is a large Review\n",
      " This is a large Review\n",
      " This is a large Review\n",
      " This is a large Review\n",
      " This is a large Review\n",
      " This is a large Review\n",
      " This is a large Review\n",
      " This is a large Review\n",
      " This is a large Review\n",
      " This is a large Review\n",
      " This is a large Review\n",
      " This is a large Review\n",
      " This is a large Review\n",
      " This is a large Review\n",
      " This is a large Review\n",
      " This is a large Review\n",
      " This is a large Review\n",
      " This is a large Review\n",
      " This is a large Review\n",
      " This is a large Review\n",
      " This is a large Review\n",
      " This is a large Review\n",
      " This is a large Review\n",
      " This is a large Review\n",
      " This is a large Review\n",
      " This is a large Review\n",
      " This is a large Review\n",
      " This is a large Review\n",
      " This is a large Review\n",
      " This is a large Review\n",
      " This is a large Review\n",
      " This is a large Review\n",
      " This is a large Review\n",
      " This is a large Review\n",
      " This is a large Review\n",
      " This is a large Review\n",
      " This is a large Review\n",
      " This is a large Review\n",
      " This is a large Review\n",
      " This is a large Review\n",
      " This is a large Review\n",
      " This is a large Review\n",
      " This is a large Review\n",
      " This is a large Review\n",
      " This is a large Review\n",
      " This is a large Review\n",
      " This is a large Review\n",
      " This is a large Review\n",
      " This is a large Review\n",
      " This is a large Review\n",
      " This is a large Review\n",
      " This is a large Review\n",
      " This is a large Review\n",
      " This is a large Review\n",
      " This is a large Review\n",
      " This is a large Review\n",
      " This is a large Review\n",
      " This is a large Review\n",
      " This is a large Review\n",
      " This is a large Review\n",
      " This is a large Review\n",
      " This is a large Review\n",
      " This is a large Review\n",
      " This is a large Review\n",
      " This is a large Review\n",
      " This is a large Review\n",
      " This is a large Review\n",
      " This is a large Review\n",
      " This is a large Review\n",
      " This is a large Review\n",
      " This is a large Review\n",
      " This is a large Review\n",
      " This is a large Review\n",
      " This is a large Review\n",
      " This is a large Review\n",
      " This is a large Review\n",
      " This is a large Review\n",
      " This is a large Review\n",
      " This is a large Review\n",
      " This is a large Review\n",
      " This is a large Review\n",
      " This is a large Review\n",
      " This is a large Review\n",
      " This is a large Review\n",
      " This is a large Review\n",
      " This is a large Review\n",
      " This is a large Review\n",
      " This is a large Review\n",
      " This is a large Review\n",
      " This is a large Review\n",
      " This is a large Review\n",
      " This is a large Review\n",
      " This is a large Review\n",
      " This is a large Review\n",
      " This is a large Review\n",
      " This is a large Review\n",
      " This is a large Review\n",
      " This is a large Review\n",
      " This is a large Review\n",
      " This is a large Review\n",
      " This is a large Review\n",
      " This is a large Review\n",
      " This is a large Review\n",
      " This is a large Review\n",
      " This is a large Review\n",
      " This is a large Review\n",
      " This is a large Review\n",
      " This is a large Review\n",
      " This is a large Review\n",
      " This is a large Review\n",
      " This is a large Review\n",
      " This is a large Review\n",
      " This is a large Review\n",
      " This is a large Review\n",
      " This is a large Review\n",
      " This is a large Review\n",
      " This is a large Review\n",
      " This is a large Review\n",
      " This is a large Review\n",
      " This is a large Review\n",
      " This is a large Review\n",
      " This is a large Review\n",
      " This is a large Review\n",
      " This is a large Review\n",
      " This is a large Review\n",
      " This is a large Review\n",
      " This is a large Review\n",
      " This is a large Review\n",
      " This is a large Review\n",
      " This is a large Review\n",
      " This is a large Review\n",
      " This is a large Review\n",
      " This is a large Review\n",
      " This is a large Review\n",
      " This is a large Review\n",
      " This is a large Review\n",
      " This is a large Review\n",
      " This is a large Review\n",
      " This is a large Review\n",
      " This is a large Review\n",
      " This is a large Review\n",
      " This is a large Review\n",
      " This is a large Review\n",
      " This is a large Review\n",
      " This is a large Review\n",
      " This is a large Review\n",
      " This is a large Review\n",
      " This is a large Review\n",
      " This is a large Review\n",
      " This is a large Review\n",
      " This is a large Review\n",
      " This is a large Review\n",
      " This is a large Review\n",
      " This is a large Review\n",
      " This is a large Review\n",
      " This is a large Review\n",
      " This is a large Review\n",
      " This is a large Review\n",
      " This is a large Review\n",
      " This is a large Review\n",
      " This is a large Review\n",
      " This is a large Review\n",
      " This is a large Review\n",
      " This is a large Review\n",
      " This is a large Review\n",
      " This is a large Review\n",
      " This is a large Review\n",
      " This is a large Review\n",
      " This is a large Review\n",
      " This is a large Review\n",
      " This is a large Review\n",
      " This is a large Review\n",
      " This is a large Review\n",
      " This is a large Review\n",
      " This is a large Review\n",
      " This is a large Review\n",
      " This is a large Review\n",
      " This is a large Review\n",
      " This is a large Review\n",
      " This is a large Review\n",
      " This is a large Review\n",
      " This is a large Review\n",
      " This is a large Review\n",
      " This is a large Review\n",
      " This is a large Review\n",
      " This is a large Review\n",
      " This is a large Review\n",
      " This is a large Review\n",
      " This is a large Review\n",
      " This is a large Review\n",
      " This is a large Review\n",
      " This is a large Review\n",
      " This is a large Review\n",
      " This is a large Review\n",
      " This is a large Review\n",
      " This is a large Review\n",
      " This is a large Review\n",
      " This is a large Review\n",
      " This is a large Review\n",
      " This is a large Review\n",
      " This is a large Review\n",
      " This is a large Review\n",
      " This is a large Review\n",
      " This is a large Review\n",
      " This is a large Review\n",
      " This is a large Review\n",
      " This is a large Review\n",
      " This is a large Review\n",
      " This is a large Review\n",
      " This is a large Review\n",
      " This is a large Review\n",
      " This is a large Review\n",
      " This is a large Review\n",
      " This is a large Review\n",
      " This is a large Review\n",
      " This is a large Review\n",
      " This is a large Review\n",
      " This is a large Review\n",
      " This is a large Review\n",
      " This is a large Review\n",
      " This is a large Review\n",
      " This is a large Review\n",
      " This is a large Review\n",
      " This is a large Review\n",
      " This is a large Review\n",
      " This is a large Review\n",
      " This is a large Review\n",
      " This is a large Review\n",
      " This is a large Review\n",
      " This is a large Review\n",
      " This is a large Review\n",
      " This is a large Review\n",
      " This is a large Review\n",
      " This is a large Review\n",
      " This is a large Review\n",
      " This is a large Review\n",
      " This is a large Review\n",
      " This is a large Review\n",
      " This is a large Review\n",
      " This is a large Review\n",
      " This is a large Review\n",
      " This is a large Review\n",
      " This is a large Review\n",
      " This is a large Review\n",
      " This is a large Review\n",
      " This is a large Review\n",
      " This is a large Review\n",
      " This is a large Review\n",
      " This is a large Review\n",
      " This is a large Review\n",
      " This is a large Review\n",
      " This is a large Review\n",
      " This is a large Review\n",
      " This is a large Review\n",
      " This is a large Review\n",
      " This is a large Review\n",
      " This is a large Review\n",
      " This is a large Review\n",
      " This is a large Review\n",
      " This is a large Review\n",
      " This is a large Review\n",
      " This is a large Review\n",
      " This is a large Review\n",
      " This is a large Review\n",
      " This is a large Review\n",
      " This is a large Review\n",
      " This is a large Review\n",
      " This is a large Review\n",
      " This is a large Review\n",
      " This is a large Review\n",
      " This is a large Review\n",
      " This is a large Review\n",
      " This is a large Review\n",
      " This is a large Review\n",
      " This is a large Review\n",
      " This is a large Review\n",
      " This is a large Review\n",
      " This is a large Review\n",
      " This is a large Review\n",
      " This is a large Review\n",
      " This is a large Review\n",
      " This is a large Review\n",
      " This is a large Review\n",
      " This is a large Review\n",
      " This is a large Review\n",
      " This is a large Review\n",
      " This is a large Review\n",
      " This is a large Review\n",
      " This is a large Review\n",
      " This is a large Review\n",
      " This is a large Review\n",
      " This is a large Review\n",
      " This is a large Review\n",
      " This is a large Review\n",
      " This is a large Review\n",
      " This is a large Review\n",
      " This is a large Review\n",
      " This is a large Review\n",
      " This is a large Review\n",
      " This is a large Review\n",
      " This is a large Review\n",
      " This is a large Review\n",
      " This is a large Review\n",
      " This is a large Review\n",
      " This is a large Review\n",
      " This is a large Review\n",
      " This is a large Review\n",
      " This is a large Review\n",
      " This is a large Review\n",
      " This is a large Review\n",
      " This is a large Review\n",
      " This is a large Review\n",
      " This is a large Review\n",
      " This is a large Review\n",
      " This is a large Review\n",
      " This is a large Review\n",
      " This is a large Review\n",
      " This is a large Review\n",
      " This is a large Review\n",
      " This is a large Review\n",
      " This is a large Review\n",
      " This is a large Review\n",
      " This is a large Review\n",
      " This is a large Review\n",
      " This is a large Review\n",
      " This is a large Review\n",
      " This is a large Review\n",
      " This is a large Review\n",
      " This is a large Review\n",
      " This is a large Review\n",
      " This is a large Review\n",
      " This is a large Review\n",
      " This is a large Review\n",
      " This is a large Review\n",
      " This is a large Review\n",
      " This is a large Review\n",
      " This is a large Review\n",
      " This is a large Review\n",
      " This is a large Review\n",
      " This is a large Review\n",
      " This is a large Review\n",
      " This is a large Review\n",
      " This is a large Review\n",
      " This is a large Review\n",
      " This is a large Review\n",
      " This is a large Review\n",
      " This is a large Review\n",
      " This is a large Review\n",
      " This is a large Review\n",
      " This is a large Review\n",
      " This is a large Review\n",
      " This is a large Review\n",
      " This is a large Review\n",
      " This is a large Review\n",
      " This is a large Review\n",
      " This is a large Review\n",
      " This is a large Review\n",
      " This is a large Review\n",
      " This is a large Review\n",
      " This is a large Review\n",
      " This is a large Review\n",
      " This is a large Review\n",
      " This is a large Review\n",
      " This is a large Review\n",
      " This is a large Review\n",
      " This is a large Review\n",
      " This is a large Review\n",
      " This is a large Review\n",
      " This is a large Review\n",
      " This is a large Review\n",
      " This is a large Review\n",
      " This is a large Review\n",
      " This is a large Review\n",
      " This is a large Review\n",
      " This is a large Review\n",
      " This is a large Review\n",
      " This is a large Review\n",
      " This is a large Review\n",
      " This is a large Review\n",
      " This is a large Review\n",
      " This is a large Review\n",
      " This is a large Review\n",
      " This is a large Review\n",
      " This is a large Review\n",
      " This is a large Review\n",
      " This is a large Review\n",
      " This is a large Review\n",
      " This is a large Review\n",
      " This is a large Review\n",
      " This is a large Review\n",
      " This is a large Review\n",
      " This is a large Review\n",
      " This is a large Review\n",
      " This is a large Review\n",
      " This is a large Review\n",
      " This is a large Review\n",
      " This is a large Review\n",
      " This is a large Review\n",
      " This is a large Review\n",
      " This is a large Review\n",
      " This is a large Review\n",
      " This is a large Review\n",
      " This is a large Review\n",
      " This is a large Review\n",
      " This is a large Review\n",
      " This is a large Review\n",
      " This is a large Review\n",
      " This is a large Review\n",
      " This is a large Review\n",
      " This is a large Review\n",
      " This is a large Review\n",
      " This is a large Review\n",
      " This is a large Review\n",
      " This is a large Review\n",
      " This is a large Review\n",
      " This is a large Review\n",
      " This is a large Review\n",
      " This is a large Review\n",
      " This is a large Review\n",
      " This is a large Review\n",
      " This is a large Review\n",
      " This is a large Review\n",
      " This is a large Review\n",
      " This is a large Review\n",
      " This is a large Review\n",
      " This is a large Review\n",
      " This is a large Review\n",
      " This is a large Review\n",
      " This is a large Review\n",
      " This is a large Review\n",
      " This is a large Review\n",
      " This is a large Review\n",
      " This is a large Review\n",
      " This is a large Review\n",
      " This is a large Review\n",
      " This is a large Review\n",
      " This is a large Review\n",
      " This is a large Review\n",
      " This is a large Review\n",
      " This is a large Review\n",
      " This is a large Review\n",
      " This is a large Review\n",
      " This is a large Review\n",
      " This is a large Review\n",
      " This is a large Review\n",
      " This is a large Review\n",
      " This is a large Review\n",
      " This is a large Review\n",
      " This is a large Review\n",
      " This is a large Review\n",
      " This is a large Review\n",
      " This is a large Review\n",
      " This is a large Review\n",
      " This is a large Review\n",
      " This is a large Review\n",
      " This is a large Review\n",
      " This is a large Review\n",
      " This is a large Review\n",
      " This is a large Review\n",
      " This is a large Review\n",
      " This is a large Review\n",
      " This is a large Review\n",
      " This is a large Review\n",
      " This is a large Review\n",
      " This is a large Review\n",
      " This is a large Review\n",
      " This is a large Review\n",
      " This is a large Review\n",
      " This is a large Review\n",
      " This is a large Review\n",
      " This is a large Review\n",
      " This is a large Review\n",
      " This is a large Review\n",
      " This is a large Review\n",
      " This is a large Review\n",
      " This is a large Review\n",
      " This is a large Review\n",
      " This is a large Review\n",
      " This is a large Review\n",
      " This is a large Review\n",
      " This is a large Review\n",
      " This is a large Review\n",
      " This is a large Review\n",
      " This is a large Review\n",
      " This is a large Review\n",
      " This is a large Review\n",
      " This is a large Review\n",
      " This is a large Review\n",
      " This is a large Review\n",
      " This is a large Review\n",
      " This is a large Review\n",
      " This is a large Review\n",
      " This is a large Review\n",
      " This is a large Review\n",
      " This is a large Review\n",
      " This is a large Review\n",
      " This is a large Review\n",
      " This is a large Review\n",
      " This is a large Review\n",
      " This is a large Review\n",
      " This is a large Review\n",
      " This is a large Review\n",
      " This is a large Review\n",
      " This is a large Review\n",
      " This is a large Review\n",
      " This is a large Review\n",
      " This is a large Review\n",
      " This is a large Review\n",
      " This is a large Review\n",
      " This is a large Review\n",
      " This is a large Review\n",
      " This is a large Review\n",
      " This is a large Review\n",
      " This is a large Review\n",
      " This is a large Review\n",
      " This is a large Review\n",
      " This is a large Review\n",
      " This is a large Review\n",
      " This is a large Review\n",
      " This is a large Review\n",
      " This is a large Review\n",
      " This is a large Review\n",
      " This is a large Review\n",
      " This is a large Review\n",
      " This is a large Review\n",
      " This is a large Review\n",
      " This is a large Review\n",
      " This is a large Review\n",
      " This is a large Review\n",
      " This is a large Review\n",
      " This is a large Review\n",
      " This is a large Review\n",
      " This is a large Review\n",
      " This is a large Review\n",
      " This is a large Review\n",
      " This is a large Review\n",
      " This is a large Review\n",
      " This is a large Review\n",
      " This is a large Review\n",
      " This is a large Review\n",
      " This is a large Review\n",
      " This is a large Review\n",
      " This is a large Review\n",
      " This is a large Review\n",
      " This is a large Review\n",
      " This is a large Review\n",
      " This is a large Review\n",
      " This is a large Review\n",
      " This is a large Review\n",
      " This is a large Review\n",
      " This is a large Review\n",
      " This is a large Review\n",
      " This is a large Review\n",
      " This is a large Review\n",
      " This is a large Review\n",
      " This is a large Review\n",
      " This is a large Review\n",
      " This is a large Review\n",
      " This is a large Review\n",
      " This is a large Review\n",
      " This is a large Review\n",
      " This is a large Review\n",
      " This is a large Review\n",
      " This is a large Review\n",
      " This is a large Review\n",
      " This is a large Review\n",
      " This is a large Review\n",
      " This is a large Review\n",
      " This is a large Review\n",
      " This is a large Review\n",
      " This is a large Review\n",
      " This is a large Review\n",
      " This is a large Review\n",
      " This is a large Review\n",
      " This is a large Review\n",
      " This is a large Review\n",
      " This is a large Review\n",
      " This is a large Review\n",
      " This is a large Review\n",
      " This is a large Review\n",
      " This is a large Review\n",
      " This is a large Review\n",
      " This is a large Review\n",
      " This is a large Review\n",
      " This is a large Review\n",
      " This is a large Review\n",
      " This is a large Review\n",
      " This is a large Review\n",
      " This is a large Review\n",
      " This is a large Review\n",
      " This is a large Review\n",
      " This is a large Review\n",
      " This is a large Review\n",
      " This is a large Review\n",
      " This is a large Review\n",
      " This is a large Review\n",
      " This is a large Review\n",
      " This is a large Review\n",
      " This is a large Review\n",
      " This is a large Review\n",
      " This is a large Review\n",
      " This is a large Review\n",
      " This is a large Review\n",
      " This is a large Review\n",
      " This is a large Review\n",
      " This is a large Review\n",
      " This is a large Review\n",
      " This is a large Review\n",
      " This is a large Review\n",
      " This is a large Review\n",
      " This is a large Review\n",
      " This is a large Review\n",
      " This is a large Review\n",
      " This is a large Review\n",
      " This is a large Review\n",
      " This is a large Review\n",
      " This is a large Review\n",
      " This is a large Review\n",
      " This is a large Review\n",
      " This is a large Review\n",
      " This is a large Review\n",
      " This is a large Review\n",
      " This is a large Review\n",
      " This is a large Review\n",
      " This is a large Review\n",
      " This is a large Review\n",
      " This is a large Review\n",
      " This is a large Review\n",
      " This is a large Review\n",
      " This is a large Review\n",
      " This is a large Review\n",
      " This is a large Review\n",
      " This is a large Review\n",
      " This is a large Review\n",
      " This is a large Review\n",
      " This is a large Review\n",
      " This is a large Review\n",
      " This is a large Review\n",
      " This is a large Review\n",
      " This is a large Review\n",
      " This is a large Review\n",
      " This is a large Review\n",
      " This is a large Review\n",
      " This is a large Review\n",
      " This is a large Review\n",
      " This is a large Review\n",
      " This is a large Review\n",
      " This is a large Review\n",
      " This is a large Review\n",
      " This is a large Review\n",
      " This is a large Review\n",
      " This is a large Review\n",
      " This is a large Review\n",
      " This is a large Review\n",
      " This is a large Review\n",
      " This is a large Review\n",
      " This is a large Review\n",
      " This is a large Review\n",
      " This is a large Review\n",
      " This is a large Review\n",
      " This is a large Review\n",
      " This is a large Review\n",
      " This is a large Review\n",
      " This is a large Review\n",
      " This is a large Review\n",
      " This is a large Review\n",
      " This is a large Review\n",
      " This is a large Review\n",
      " This is a large Review\n",
      " This is a large Review\n",
      " This is a large Review\n",
      " This is a large Review\n",
      " This is a large Review\n",
      " This is a large Review\n",
      " This is a large Review\n",
      " This is a large Review\n"
     ]
    },
    {
     "name": "stdout",
     "output_type": "stream",
     "text": [
      " This is a large Review\n",
      " This is a large Review\n",
      " This is a large Review\n",
      " This is a large Review\n",
      " This is a large Review\n",
      " This is a large Review\n",
      " This is a large Review\n",
      " This is a large Review\n",
      " This is a large Review\n",
      " This is a large Review\n",
      " This is a large Review\n",
      " This is a large Review\n",
      " This is a large Review\n",
      " This is a large Review\n",
      " This is a large Review\n",
      " This is a large Review\n",
      " This is a large Review\n",
      " This is a large Review\n",
      " This is a large Review\n",
      " This is a large Review\n",
      " This is a large Review\n",
      " This is a large Review\n",
      " This is a large Review\n",
      " This is a large Review\n",
      " This is a large Review\n",
      " This is a large Review\n",
      " This is a large Review\n",
      " This is a large Review\n",
      " This is a large Review\n",
      " This is a large Review\n",
      " This is a large Review\n",
      " This is a large Review\n",
      " This is a large Review\n",
      " This is a large Review\n",
      " This is a large Review\n",
      " This is a large Review\n",
      " This is a large Review\n",
      " This is a large Review\n",
      " This is a large Review\n",
      " This is a large Review\n",
      " This is a large Review\n",
      " This is a large Review\n",
      " This is a large Review\n",
      " This is a large Review\n",
      " This is a large Review\n",
      " This is a large Review\n",
      " This is a large Review\n",
      " This is a large Review\n",
      " This is a large Review\n",
      " This is a large Review\n",
      " This is a large Review\n",
      " This is a large Review\n",
      " This is a large Review\n",
      " This is a large Review\n",
      " This is a large Review\n",
      " This is a large Review\n",
      " This is a large Review\n",
      " This is a large Review\n",
      " This is a large Review\n",
      " This is a large Review\n",
      " This is a large Review\n",
      " This is a large Review\n",
      " This is a large Review\n",
      " This is a large Review\n",
      " This is a large Review\n",
      " This is a large Review\n",
      " This is a large Review\n",
      " This is a large Review\n",
      " This is a large Review\n",
      " This is a large Review\n",
      " This is a large Review\n",
      " This is a large Review\n",
      " This is a large Review\n",
      " This is a large Review\n",
      " This is a large Review\n",
      " This is a large Review\n",
      " This is a large Review\n",
      " This is a large Review\n",
      " This is a large Review\n",
      " This is a large Review\n",
      " This is a large Review\n",
      " This is a large Review\n",
      " This is a large Review\n",
      " This is a large Review\n",
      " This is a large Review\n",
      " This is a large Review\n",
      " This is a large Review\n",
      " This is a large Review\n",
      " This is a large Review\n",
      " This is a large Review\n",
      " This is a large Review\n",
      " This is a large Review\n",
      " This is a large Review\n",
      " This is a large Review\n",
      " This is a large Review\n",
      " This is a large Review\n",
      " This is a large Review\n",
      " This is a large Review\n",
      " This is a large Review\n",
      " This is a large Review\n",
      " This is a large Review\n",
      " This is a large Review\n",
      " This is a large Review\n",
      " This is a large Review\n",
      " This is a large Review\n",
      " This is a large Review\n",
      " This is a large Review\n",
      " This is a large Review\n",
      " This is a large Review\n",
      " This is a large Review\n",
      " This is a large Review\n",
      " This is a large Review\n",
      " This is a large Review\n",
      " This is a large Review\n",
      " This is a large Review\n",
      " This is a large Review\n",
      " This is a large Review\n",
      " This is a large Review\n",
      " This is a large Review\n",
      " This is a large Review\n",
      " This is a large Review\n",
      " This is a large Review\n",
      " This is a large Review\n",
      " This is a large Review\n",
      " This is a large Review\n",
      " This is a large Review\n",
      " This is a large Review\n",
      " This is a large Review\n",
      " This is a large Review\n",
      " This is a large Review\n",
      " This is a large Review\n",
      " This is a large Review\n",
      " This is a large Review\n",
      " This is a large Review\n",
      " This is a large Review\n",
      " This is a large Review\n",
      " This is a large Review\n",
      " This is a large Review\n",
      " This is a large Review\n",
      " This is a large Review\n",
      " This is a large Review\n",
      " This is a large Review\n",
      " This is a large Review\n",
      " This is a large Review\n",
      " This is a large Review\n",
      " This is a large Review\n",
      " This is a large Review\n",
      " This is a large Review\n",
      " This is a large Review\n",
      " This is a large Review\n",
      " This is a large Review\n",
      " This is a large Review\n",
      " This is a large Review\n",
      " This is a large Review\n",
      " This is a large Review\n",
      " This is a large Review\n",
      " This is a large Review\n",
      " This is a large Review\n",
      " This is a large Review\n",
      " This is a large Review\n",
      " This is a large Review\n",
      " This is a large Review\n",
      " This is a large Review\n",
      " This is a large Review\n",
      " This is a large Review\n",
      " This is a large Review\n",
      " This is a large Review\n",
      " This is a large Review\n",
      " This is a large Review\n",
      " This is a large Review\n",
      " This is a large Review\n",
      " This is a large Review\n",
      " This is a large Review\n",
      " This is a large Review\n",
      " This is a large Review\n",
      " This is a large Review\n",
      " This is a large Review\n",
      " This is a large Review\n",
      " This is a large Review\n",
      " This is a large Review\n",
      " This is a large Review\n",
      " This is a large Review\n",
      " This is a large Review\n",
      " This is a large Review\n",
      " This is a large Review\n",
      " This is a large Review\n",
      " This is a large Review\n",
      " This is a large Review\n",
      " This is a large Review\n",
      " This is a large Review\n",
      " This is a large Review\n",
      " This is a large Review\n",
      " This is a large Review\n",
      " This is a large Review\n",
      " This is a large Review\n",
      " This is a large Review\n",
      " This is a large Review\n",
      " This is a large Review\n",
      " This is a large Review\n",
      " This is a large Review\n",
      " This is a large Review\n",
      " This is a large Review\n",
      " This is a large Review\n",
      " This is a large Review\n",
      " This is a large Review\n",
      " This is a large Review\n",
      " This is a large Review\n",
      " This is a large Review\n",
      " This is a large Review\n",
      " This is a large Review\n",
      " This is a large Review\n",
      " This is a large Review\n",
      " This is a large Review\n",
      " This is a large Review\n",
      " This is a large Review\n",
      " This is a large Review\n",
      " This is a large Review\n",
      " This is a large Review\n",
      " This is a large Review\n",
      " This is a large Review\n",
      " This is a large Review\n",
      " This is a large Review\n",
      " This is a large Review\n",
      " This is a large Review\n",
      " This is a large Review\n",
      " This is a large Review\n",
      " This is a large Review\n",
      " This is a large Review\n",
      " This is a large Review\n",
      " This is a large Review\n",
      " This is a large Review\n",
      " This is a large Review\n",
      " This is a large Review\n",
      " This is a large Review\n",
      " This is a large Review\n",
      " This is a large Review\n",
      " This is a large Review\n",
      " This is a large Review\n",
      " This is a large Review\n",
      " This is a large Review\n",
      " This is a large Review\n",
      " This is a large Review\n",
      " This is a large Review\n",
      " This is a large Review\n",
      " This is a large Review\n",
      " This is a large Review\n",
      " This is a large Review\n",
      " This is a large Review\n",
      " This is a large Review\n",
      " This is a large Review\n",
      " This is a large Review\n",
      " This is a large Review\n",
      " This is a large Review\n",
      " This is a large Review\n",
      " This is a large Review\n",
      " This is a large Review\n",
      " This is a large Review\n",
      " This is a large Review\n",
      " This is a large Review\n",
      " This is a large Review\n",
      " This is a large Review\n",
      " This is a large Review\n",
      " This is a large Review\n",
      " This is a large Review\n",
      " This is a large Review\n",
      " This is a large Review\n",
      " This is a large Review\n",
      " This is a large Review\n",
      " This is a large Review\n",
      " This is a large Review\n",
      " This is a large Review\n",
      " This is a large Review\n"
     ]
    }
   ],
   "source": [
    "for i in data['review']:\n",
    "    df1=pd.DataFrame()\n",
    "    if len(data['review'])<1000 :\n",
    "        print(\"This is a  Small Review\")\n",
    "    else:\n",
    "            print(\" This is a large Review\")\n",
    "            df=pd.DataFrame(data['review'])\n",
    "            df1=df1.append(df)"
   ]
  },
  {
   "cell_type": "code",
   "execution_count": 147,
   "metadata": {},
   "outputs": [
    {
     "data": {
      "text/plain": [
       "Index(['createDate', 'hasProfanity', 'hasSpoilers', 'isSuperReviewer',\n",
       "       'isVerified', 'rating', 'review', 'score', 'timeFromCreation',\n",
       "       'updateDate', 'user', 'sentiment'],\n",
       "      dtype='object')"
      ]
     },
     "execution_count": 147,
     "metadata": {},
     "output_type": "execute_result"
    }
   ],
   "source": [
    "data.columns"
   ]
  },
  {
   "cell_type": "markdown",
   "metadata": {},
   "source": [
    "### Change the dtypes accordingly"
   ]
  },
  {
   "cell_type": "code",
   "execution_count": 148,
   "metadata": {},
   "outputs": [],
   "source": [
    "categorical=['hasProfanity','hasSpoilers','isSuperReviewer','isVerified','user','sentiment']\n",
    "string=['review']"
   ]
  },
  {
   "cell_type": "code",
   "execution_count": 149,
   "metadata": {},
   "outputs": [],
   "source": [
    "for cat in categorical:\n",
    "    data[cat] = data[cat].astype('category')"
   ]
  },
  {
   "cell_type": "code",
   "execution_count": 150,
   "metadata": {},
   "outputs": [
    {
     "data": {
      "text/html": [
       "<div>\n",
       "<style scoped>\n",
       "    .dataframe tbody tr th:only-of-type {\n",
       "        vertical-align: middle;\n",
       "    }\n",
       "\n",
       "    .dataframe tbody tr th {\n",
       "        vertical-align: top;\n",
       "    }\n",
       "\n",
       "    .dataframe thead th {\n",
       "        text-align: right;\n",
       "    }\n",
       "</style>\n",
       "<table border=\"1\" class=\"dataframe\">\n",
       "  <thead>\n",
       "    <tr style=\"text-align: right;\">\n",
       "      <th></th>\n",
       "      <th>createDate</th>\n",
       "      <th>hasProfanity</th>\n",
       "      <th>hasSpoilers</th>\n",
       "      <th>isSuperReviewer</th>\n",
       "      <th>isVerified</th>\n",
       "      <th>rating</th>\n",
       "      <th>review</th>\n",
       "      <th>score</th>\n",
       "      <th>timeFromCreation</th>\n",
       "      <th>updateDate</th>\n",
       "      <th>user</th>\n",
       "      <th>sentiment</th>\n",
       "    </tr>\n",
       "  </thead>\n",
       "  <tbody>\n",
       "    <tr>\n",
       "      <th>count</th>\n",
       "      <td>3000</td>\n",
       "      <td>3000</td>\n",
       "      <td>3000</td>\n",
       "      <td>3000</td>\n",
       "      <td>3000</td>\n",
       "      <td>3000</td>\n",
       "      <td>3000</td>\n",
       "      <td>3000.000000</td>\n",
       "      <td>3000</td>\n",
       "      <td>3000</td>\n",
       "      <td>3000</td>\n",
       "      <td>3000.0</td>\n",
       "    </tr>\n",
       "    <tr>\n",
       "      <th>unique</th>\n",
       "      <td>3000</td>\n",
       "      <td>2</td>\n",
       "      <td>2</td>\n",
       "      <td>2</td>\n",
       "      <td>2</td>\n",
       "      <td>10</td>\n",
       "      <td>2995</td>\n",
       "      <td>NaN</td>\n",
       "      <td>43</td>\n",
       "      <td>3000</td>\n",
       "      <td>3000</td>\n",
       "      <td>2.0</td>\n",
       "    </tr>\n",
       "    <tr>\n",
       "      <th>top</th>\n",
       "      <td>2019-08-03T22:29:15.725Z</td>\n",
       "      <td>False</td>\n",
       "      <td>False</td>\n",
       "      <td>False</td>\n",
       "      <td>True</td>\n",
       "      <td>STAR_5</td>\n",
       "      <td>Absolutely loved it!</td>\n",
       "      <td>NaN</td>\n",
       "      <td>Aug 05, 2019</td>\n",
       "      <td>2019-08-03T22:29:15.725Z</td>\n",
       "      <td>{'userId': 'ffebf120-9791-48c6-b105-02b9ce4355...</td>\n",
       "      <td>0.0</td>\n",
       "    </tr>\n",
       "    <tr>\n",
       "      <th>freq</th>\n",
       "      <td>1</td>\n",
       "      <td>2969</td>\n",
       "      <td>2998</td>\n",
       "      <td>2999</td>\n",
       "      <td>2160</td>\n",
       "      <td>1360</td>\n",
       "      <td>2</td>\n",
       "      <td>NaN</td>\n",
       "      <td>318</td>\n",
       "      <td>1</td>\n",
       "      <td>1</td>\n",
       "      <td>2168.0</td>\n",
       "    </tr>\n",
       "    <tr>\n",
       "      <th>mean</th>\n",
       "      <td>NaN</td>\n",
       "      <td>NaN</td>\n",
       "      <td>NaN</td>\n",
       "      <td>NaN</td>\n",
       "      <td>NaN</td>\n",
       "      <td>NaN</td>\n",
       "      <td>NaN</td>\n",
       "      <td>3.916667</td>\n",
       "      <td>NaN</td>\n",
       "      <td>NaN</td>\n",
       "      <td>NaN</td>\n",
       "      <td>NaN</td>\n",
       "    </tr>\n",
       "    <tr>\n",
       "      <th>std</th>\n",
       "      <td>NaN</td>\n",
       "      <td>NaN</td>\n",
       "      <td>NaN</td>\n",
       "      <td>NaN</td>\n",
       "      <td>NaN</td>\n",
       "      <td>NaN</td>\n",
       "      <td>NaN</td>\n",
       "      <td>1.313315</td>\n",
       "      <td>NaN</td>\n",
       "      <td>NaN</td>\n",
       "      <td>NaN</td>\n",
       "      <td>NaN</td>\n",
       "    </tr>\n",
       "    <tr>\n",
       "      <th>min</th>\n",
       "      <td>NaN</td>\n",
       "      <td>NaN</td>\n",
       "      <td>NaN</td>\n",
       "      <td>NaN</td>\n",
       "      <td>NaN</td>\n",
       "      <td>NaN</td>\n",
       "      <td>NaN</td>\n",
       "      <td>0.500000</td>\n",
       "      <td>NaN</td>\n",
       "      <td>NaN</td>\n",
       "      <td>NaN</td>\n",
       "      <td>NaN</td>\n",
       "    </tr>\n",
       "    <tr>\n",
       "      <th>25%</th>\n",
       "      <td>NaN</td>\n",
       "      <td>NaN</td>\n",
       "      <td>NaN</td>\n",
       "      <td>NaN</td>\n",
       "      <td>NaN</td>\n",
       "      <td>NaN</td>\n",
       "      <td>NaN</td>\n",
       "      <td>3.000000</td>\n",
       "      <td>NaN</td>\n",
       "      <td>NaN</td>\n",
       "      <td>NaN</td>\n",
       "      <td>NaN</td>\n",
       "    </tr>\n",
       "    <tr>\n",
       "      <th>50%</th>\n",
       "      <td>NaN</td>\n",
       "      <td>NaN</td>\n",
       "      <td>NaN</td>\n",
       "      <td>NaN</td>\n",
       "      <td>NaN</td>\n",
       "      <td>NaN</td>\n",
       "      <td>NaN</td>\n",
       "      <td>4.500000</td>\n",
       "      <td>NaN</td>\n",
       "      <td>NaN</td>\n",
       "      <td>NaN</td>\n",
       "      <td>NaN</td>\n",
       "    </tr>\n",
       "    <tr>\n",
       "      <th>75%</th>\n",
       "      <td>NaN</td>\n",
       "      <td>NaN</td>\n",
       "      <td>NaN</td>\n",
       "      <td>NaN</td>\n",
       "      <td>NaN</td>\n",
       "      <td>NaN</td>\n",
       "      <td>NaN</td>\n",
       "      <td>5.000000</td>\n",
       "      <td>NaN</td>\n",
       "      <td>NaN</td>\n",
       "      <td>NaN</td>\n",
       "      <td>NaN</td>\n",
       "    </tr>\n",
       "    <tr>\n",
       "      <th>max</th>\n",
       "      <td>NaN</td>\n",
       "      <td>NaN</td>\n",
       "      <td>NaN</td>\n",
       "      <td>NaN</td>\n",
       "      <td>NaN</td>\n",
       "      <td>NaN</td>\n",
       "      <td>NaN</td>\n",
       "      <td>5.000000</td>\n",
       "      <td>NaN</td>\n",
       "      <td>NaN</td>\n",
       "      <td>NaN</td>\n",
       "      <td>NaN</td>\n",
       "    </tr>\n",
       "  </tbody>\n",
       "</table>\n",
       "</div>"
      ],
      "text/plain": [
       "                      createDate hasProfanity hasSpoilers isSuperReviewer  \\\n",
       "count                       3000         3000        3000            3000   \n",
       "unique                      3000            2           2               2   \n",
       "top     2019-08-03T22:29:15.725Z        False       False           False   \n",
       "freq                           1         2969        2998            2999   \n",
       "mean                         NaN          NaN         NaN             NaN   \n",
       "std                          NaN          NaN         NaN             NaN   \n",
       "min                          NaN          NaN         NaN             NaN   \n",
       "25%                          NaN          NaN         NaN             NaN   \n",
       "50%                          NaN          NaN         NaN             NaN   \n",
       "75%                          NaN          NaN         NaN             NaN   \n",
       "max                          NaN          NaN         NaN             NaN   \n",
       "\n",
       "       isVerified  rating                review        score timeFromCreation  \\\n",
       "count        3000    3000                  3000  3000.000000             3000   \n",
       "unique          2      10                  2995          NaN               43   \n",
       "top          True  STAR_5  Absolutely loved it!          NaN     Aug 05, 2019   \n",
       "freq         2160    1360                     2          NaN              318   \n",
       "mean          NaN     NaN                   NaN     3.916667              NaN   \n",
       "std           NaN     NaN                   NaN     1.313315              NaN   \n",
       "min           NaN     NaN                   NaN     0.500000              NaN   \n",
       "25%           NaN     NaN                   NaN     3.000000              NaN   \n",
       "50%           NaN     NaN                   NaN     4.500000              NaN   \n",
       "75%           NaN     NaN                   NaN     5.000000              NaN   \n",
       "max           NaN     NaN                   NaN     5.000000              NaN   \n",
       "\n",
       "                      updateDate  \\\n",
       "count                       3000   \n",
       "unique                      3000   \n",
       "top     2019-08-03T22:29:15.725Z   \n",
       "freq                           1   \n",
       "mean                         NaN   \n",
       "std                          NaN   \n",
       "min                          NaN   \n",
       "25%                          NaN   \n",
       "50%                          NaN   \n",
       "75%                          NaN   \n",
       "max                          NaN   \n",
       "\n",
       "                                                     user  sentiment  \n",
       "count                                                3000     3000.0  \n",
       "unique                                               3000        2.0  \n",
       "top     {'userId': 'ffebf120-9791-48c6-b105-02b9ce4355...        0.0  \n",
       "freq                                                    1     2168.0  \n",
       "mean                                                  NaN        NaN  \n",
       "std                                                   NaN        NaN  \n",
       "min                                                   NaN        NaN  \n",
       "25%                                                   NaN        NaN  \n",
       "50%                                                   NaN        NaN  \n",
       "75%                                                   NaN        NaN  \n",
       "max                                                   NaN        NaN  "
      ]
     },
     "execution_count": 150,
     "metadata": {},
     "output_type": "execute_result"
    }
   ],
   "source": [
    "data.describe(include='all')"
   ]
  },
  {
   "cell_type": "code",
   "execution_count": 151,
   "metadata": {},
   "outputs": [
    {
     "name": "stdout",
     "output_type": "stream",
     "text": [
      "<class 'pandas.core.frame.DataFrame'>\n",
      "RangeIndex: 3000 entries, 0 to 2999\n",
      "Data columns (total 12 columns):\n",
      "createDate          3000 non-null object\n",
      "hasProfanity        3000 non-null category\n",
      "hasSpoilers         3000 non-null category\n",
      "isSuperReviewer     3000 non-null category\n",
      "isVerified          3000 non-null category\n",
      "rating              3000 non-null object\n",
      "review              3000 non-null object\n",
      "score               3000 non-null float64\n",
      "timeFromCreation    3000 non-null object\n",
      "updateDate          3000 non-null object\n",
      "user                3000 non-null category\n",
      "sentiment           3000 non-null category\n",
      "dtypes: category(6), float64(1), object(5)\n",
      "memory usage: 265.1+ KB\n"
     ]
    }
   ],
   "source": [
    "data.info()"
   ]
  },
  {
   "cell_type": "code",
   "execution_count": 152,
   "metadata": {},
   "outputs": [
    {
     "data": {
      "text/plain": [
       "createDate          0\n",
       "hasProfanity        0\n",
       "hasSpoilers         0\n",
       "isSuperReviewer     0\n",
       "isVerified          0\n",
       "rating              0\n",
       "review              0\n",
       "score               0\n",
       "timeFromCreation    0\n",
       "updateDate          0\n",
       "user                0\n",
       "sentiment           0\n",
       "dtype: int64"
      ]
     },
     "execution_count": 152,
     "metadata": {},
     "output_type": "execute_result"
    }
   ],
   "source": [
    "data.isnull().sum()"
   ]
  },
  {
   "cell_type": "code",
   "execution_count": 153,
   "metadata": {},
   "outputs": [
    {
     "data": {
      "text/plain": [
       "3000"
      ]
     },
     "execution_count": 153,
     "metadata": {},
     "output_type": "execute_result"
    }
   ],
   "source": [
    "clothing_ID_levels = np.size(np.unique(data['user'], return_counts=True)[0])## Finding unique values\n",
    "clothing_ID_levels"
   ]
  },
  {
   "cell_type": "code",
   "execution_count": 154,
   "metadata": {},
   "outputs": [],
   "source": [
    "data=data.drop('user', axis=1)## Dropping user column"
   ]
  },
  {
   "cell_type": "code",
   "execution_count": 155,
   "metadata": {},
   "outputs": [
    {
     "data": {
      "text/plain": [
       "Index(['createDate', 'hasProfanity', 'hasSpoilers', 'isSuperReviewer',\n",
       "       'isVerified', 'rating', 'review', 'score', 'timeFromCreation',\n",
       "       'updateDate', 'sentiment'],\n",
       "      dtype='object')"
      ]
     },
     "execution_count": 155,
     "metadata": {},
     "output_type": "execute_result"
    }
   ],
   "source": [
    "data.columns"
   ]
  },
  {
   "cell_type": "markdown",
   "metadata": {},
   "source": [
    "### Dropping the score and rating "
   ]
  },
  {
   "cell_type": "code",
   "execution_count": 156,
   "metadata": {},
   "outputs": [],
   "source": [
    "data=data.drop(['score','rating'], axis=1)"
   ]
  },
  {
   "cell_type": "code",
   "execution_count": 157,
   "metadata": {},
   "outputs": [
    {
     "data": {
      "text/plain": [
       "Index(['createDate', 'hasProfanity', 'hasSpoilers', 'isSuperReviewer',\n",
       "       'isVerified', 'review', 'timeFromCreation', 'updateDate', 'sentiment'],\n",
       "      dtype='object')"
      ]
     },
     "execution_count": 157,
     "metadata": {},
     "output_type": "execute_result"
    }
   ],
   "source": [
    "data.columns"
   ]
  },
  {
   "cell_type": "markdown",
   "metadata": {},
   "source": [
    "### Remove sentiment  data for further processing"
   ]
  },
  {
   "cell_type": "code",
   "execution_count": 158,
   "metadata": {},
   "outputs": [
    {
     "data": {
      "text/plain": [
       "Index(['hasProfanity', 'hasSpoilers', 'isSuperReviewer', 'isVerified'], dtype='object')"
      ]
     },
     "execution_count": 158,
     "metadata": {},
     "output_type": "execute_result"
    }
   ],
   "source": [
    "categorical_attr = data.select_dtypes('category').columns\n",
    "categorical_attr = categorical_attr.drop(['sentiment'])\n",
    "categorical_attr "
   ]
  },
  {
   "cell_type": "code",
   "execution_count": 159,
   "metadata": {},
   "outputs": [],
   "source": [
    "target_attr=['sentiment']##Target Attribute"
   ]
  },
  {
   "cell_type": "markdown",
   "metadata": {},
   "source": [
    "## Train Test Split"
   ]
  },
  {
   "cell_type": "code",
   "execution_count": 160,
   "metadata": {},
   "outputs": [],
   "source": [
    "data_categorical_train, data_categorical_test, \\\n",
    "data_string_train, data_string_test, \\\n",
    "Y_train, Y_test = train_test_split(data[categorical_attr],\n",
    "                                   data[string],\n",
    "                                    data[target_attr],\n",
    "                                   test_size=0.33, random_state=678)"
   ]
  },
  {
   "cell_type": "markdown",
   "metadata": {},
   "source": [
    "### Preprocessing of categorical variables"
   ]
  },
  {
   "cell_type": "code",
   "execution_count": 161,
   "metadata": {},
   "outputs": [],
   "source": [
    "onehotencoder = OneHotEncoder(handle_unknown='ignore') ## One Hot Encoding"
   ]
  },
  {
   "cell_type": "code",
   "execution_count": 162,
   "metadata": {},
   "outputs": [],
   "source": [
    "OneHotEncoder = onehotencoder.fit(data_categorical_train)"
   ]
  },
  {
   "cell_type": "code",
   "execution_count": 163,
   "metadata": {},
   "outputs": [],
   "source": [
    "OneHotEncoder_train = OneHotEncoder.transform(data_categorical_train).toarray()\n",
    "OneHotEncoder_test = OneHotEncoder.transform(data_categorical_test).toarray()"
   ]
  },
  {
   "cell_type": "code",
   "execution_count": 164,
   "metadata": {},
   "outputs": [
    {
     "data": {
      "text/plain": [
       "(990, 8)"
      ]
     },
     "execution_count": 164,
     "metadata": {},
     "output_type": "execute_result"
    }
   ],
   "source": [
    "OneHotEncoder_test.shape"
   ]
  },
  {
   "cell_type": "markdown",
   "metadata": {},
   "source": [
    "### Checking Unique values of sentiment"
   ]
  },
  {
   "cell_type": "code",
   "execution_count": 165,
   "metadata": {},
   "outputs": [
    {
     "data": {
      "text/plain": [
       "[0, 1]\n",
       "Categories (2, int64): [0, 1]"
      ]
     },
     "execution_count": 165,
     "metadata": {},
     "output_type": "execute_result"
    }
   ],
   "source": [
    "data['sentiment'].unique()"
   ]
  },
  {
   "cell_type": "code",
   "execution_count": 166,
   "metadata": {},
   "outputs": [],
   "source": [
    "no_of_levels=len(data['sentiment'].unique())"
   ]
  },
  {
   "cell_type": "code",
   "execution_count": 167,
   "metadata": {},
   "outputs": [
    {
     "data": {
      "text/plain": [
       "2"
      ]
     },
     "execution_count": 167,
     "metadata": {},
     "output_type": "execute_result"
    }
   ],
   "source": [
    "no_of_levels"
   ]
  },
  {
   "cell_type": "code",
   "execution_count": 168,
   "metadata": {},
   "outputs": [],
   "source": [
    "from sklearn.preprocessing import OneHotEncoder"
   ]
  },
  {
   "cell_type": "code",
   "execution_count": 169,
   "metadata": {},
   "outputs": [],
   "source": [
    "onehotencoder = OneHotEncoder(handle_unknown='ignore')"
   ]
  },
  {
   "cell_type": "code",
   "execution_count": 170,
   "metadata": {},
   "outputs": [],
   "source": [
    "OneHotEncoder = onehotencoder.fit(Y_train.values.reshape(-1, 1))"
   ]
  },
  {
   "cell_type": "code",
   "execution_count": 171,
   "metadata": {},
   "outputs": [],
   "source": [
    "OneHotEncoder_target_train = OneHotEncoder.transform(Y_train.values.reshape(-1, 1)).toarray()\n",
    "OneHotEncoder_target_test = OneHotEncoder.transform(Y_test.values.reshape(-1, 1)).toarray()"
   ]
  },
  {
   "cell_type": "code",
   "execution_count": 172,
   "metadata": {},
   "outputs": [
    {
     "data": {
      "text/plain": [
       "(990, 2)"
      ]
     },
     "execution_count": 172,
     "metadata": {},
     "output_type": "execute_result"
    }
   ],
   "source": [
    "OneHotEncoder_target_test.shape"
   ]
  },
  {
   "cell_type": "markdown",
   "metadata": {},
   "source": [
    "### Pre-Processing of Text\n",
    "\n",
    "### Preprocessing of Review"
   ]
  },
  {
   "cell_type": "code",
   "execution_count": 173,
   "metadata": {},
   "outputs": [],
   "source": [
    "unique_elements, counts_elements = np.unique(data_string_train['review'].apply(len),return_counts=True)"
   ]
  },
  {
   "cell_type": "code",
   "execution_count": 184,
   "metadata": {},
   "outputs": [
    {
     "data": {
      "text/plain": [
       "array([19, 20, 21, 22, 23, 24, 25, 26, 27], dtype=int64)"
      ]
     },
     "execution_count": 184,
     "metadata": {},
     "output_type": "execute_result"
    }
   ],
   "source": [
    "unique_elements[1:10] ## Taking unique element in review"
   ]
  },
  {
   "cell_type": "code",
   "execution_count": 185,
   "metadata": {},
   "outputs": [
    {
     "data": {
      "text/plain": [
       "array([ 1, 14, 23, 23, 19, 19, 21, 17, 23], dtype=int64)"
      ]
     },
     "execution_count": 185,
     "metadata": {},
     "output_type": "execute_result"
    }
   ],
   "source": [
    "counts_elements[1:10] ## Counting the element in review text"
   ]
  },
  {
   "cell_type": "markdown",
   "metadata": {},
   "source": [
    "#### Max length in Review Text is 44"
   ]
  },
  {
   "cell_type": "code",
   "execution_count": 176,
   "metadata": {},
   "outputs": [
    {
     "data": {
      "text/plain": [
       "44"
      ]
     },
     "execution_count": 176,
     "metadata": {},
     "output_type": "execute_result"
    }
   ],
   "source": [
    "max_text_count_length = list(counts_elements).index(max(counts_elements))\n",
    "REVIEW_TEXT_MAX_SEQUENCE_LENGTH = unique_elements[max_text_count_length]\n",
    "REVIEW_TEXT_MAX_SEQUENCE_LENGTH"
   ]
  },
  {
   "cell_type": "markdown",
   "metadata": {},
   "source": [
    "### Tokenizing the words"
   ]
  },
  {
   "cell_type": "code",
   "execution_count": 177,
   "metadata": {},
   "outputs": [
    {
     "name": "stdout",
     "output_type": "stream",
     "text": [
      "Found 4137 unique tokens.\n"
     ]
    }
   ],
   "source": [
    "tokenizer = Tokenizer(oov_token='None')\n",
    "tokenizer.fit_on_texts(data_string_train['review'])\n",
    "review_text_train = tokenizer.texts_to_sequences(data_string_train['review'])\n",
    "review_text_test = tokenizer.texts_to_sequences(data_string_test['review'])\n",
    "\n",
    "word_index_review_text = tokenizer.word_index\n",
    "print('Found %s unique tokens.' % len(word_index_review_text))\n",
    "NUM_WORDS_REVIEW_TEXT = len(word_index_review_text)+1\n",
    "\n",
    "review_text_seq_train = pad_sequences(review_text_train, maxlen=300)\n",
    "review_text_seq_test = pad_sequences(review_text_test, maxlen=300)"
   ]
  },
  {
   "cell_type": "markdown",
   "metadata": {},
   "source": [
    "### Loading the glove vector into the memory "
   ]
  },
  {
   "cell_type": "code",
   "execution_count": 178,
   "metadata": {},
   "outputs": [
    {
     "name": "stdout",
     "output_type": "stream",
     "text": [
      "Loaded 400000 word vectors.\n"
     ]
    }
   ],
   "source": [
    "embeddings_index = dict()\n",
    "f = open('glove.6B.50d.txt', encoding=\"utf8\")\n",
    "for line in f:\n",
    "    values = line.split()\n",
    "    word = values[0]\n",
    "    coefs = np.asarray(values[1:], dtype='float32')\n",
    "    embeddings_index[word] = coefs\n",
    "f.close()\n",
    "print('Loaded %s word vectors.' % len(embeddings_index))"
   ]
  },
  {
   "cell_type": "markdown",
   "metadata": {},
   "source": [
    "#### We are creating a weight matrix for words which are in traning data.and by taking unique words from tokenizer.index and locating the weight matrix from the loaded Glove embedding.\n",
    "\n",
    "#### Matrix of words will see during training.\n",
    "\n",
    "#### Count number of words not in Glove."
   ]
  },
  {
   "cell_type": "code",
   "execution_count": 179,
   "metadata": {},
   "outputs": [],
   "source": [
    "review_embedding_matrix = np.zeros((NUM_WORDS_REVIEW_TEXT,50))\n",
    "review_word_not_in_glove_count = 0\n",
    "review_word_not_in_glove =[]\n",
    "for word, i in tokenizer.word_index.items():\n",
    "    embedding_vector = embeddings_index.get(word)\n",
    "    if embedding_vector is not None:\n",
    "        review_embedding_matrix[i] = embedding_vector\n",
    "    else:\n",
    "        review_word_not_in_glove.append(word)\n",
    "        review_word_not_in_glove_count = review_word_not_in_glove_count+1"
   ]
  },
  {
   "cell_type": "code",
   "execution_count": 180,
   "metadata": {},
   "outputs": [
    {
     "name": "stdout",
     "output_type": "stream",
     "text": [
      "[[ 0.          0.          0.         ...  0.          0.\n",
      "   0.        ]\n",
      " [ 0.          0.          0.         ...  0.          0.\n",
      "   0.        ]\n",
      " [ 0.41800001  0.24968    -0.41242    ... -0.18411    -0.11514\n",
      "  -0.78580999]\n",
      " ...\n",
      " [-0.2696      0.56095999  0.24563999 ... -0.45278999  0.96208\n",
      "   0.4235    ]\n",
      " [ 0.1034      0.76203001 -0.37841001 ...  0.59477001 -0.0042276\n",
      "   0.27583   ]\n",
      " [ 0.          0.          0.         ...  0.          0.\n",
      "   0.        ]]\n"
     ]
    }
   ],
   "source": [
    "print(review_embedding_matrix)"
   ]
  },
  {
   "cell_type": "code",
   "execution_count": 187,
   "metadata": {},
   "outputs": [
    {
     "name": "stdout",
     "output_type": "stream",
     "text": [
      "[\"it's\", \"didn't\", 'pumba', \"don't\", 'didn’t', \"can't\", 'it’s', \"wasn't\", \"i'm\"]\n"
     ]
    }
   ],
   "source": [
    "print(review_word_not_in_glove[1:10])"
   ]
  },
  {
   "cell_type": "code",
   "execution_count": 182,
   "metadata": {},
   "outputs": [
    {
     "name": "stdout",
     "output_type": "stream",
     "text": [
      "393\n"
     ]
    }
   ],
   "source": [
    "print(review_word_not_in_glove_count)"
   ]
  },
  {
   "cell_type": "markdown",
   "metadata": {},
   "source": [
    "#### Embedding Layer for Review"
   ]
  },
  {
   "cell_type": "code",
   "execution_count": 188,
   "metadata": {},
   "outputs": [
    {
     "name": "stderr",
     "output_type": "stream",
     "text": [
      "WARNING: Logging before flag parsing goes to stderr.\n",
      "W0830 07:36:27.972366 13588 deprecation_wrapper.py:119] From D:\\Anaconda\\lib\\site-packages\\keras\\backend\\tensorflow_backend.py:517: The name tf.placeholder is deprecated. Please use tf.compat.v1.placeholder instead.\n",
      "\n",
      "W0830 07:36:28.854873 13588 deprecation_wrapper.py:119] From D:\\Anaconda\\lib\\site-packages\\keras\\backend\\tensorflow_backend.py:74: The name tf.get_default_graph is deprecated. Please use tf.compat.v1.get_default_graph instead.\n",
      "\n",
      "W0830 07:36:28.859516 13588 deprecation_wrapper.py:119] From D:\\Anaconda\\lib\\site-packages\\keras\\backend\\tensorflow_backend.py:4138: The name tf.random_uniform is deprecated. Please use tf.random.uniform instead.\n",
      "\n",
      "W0830 07:36:28.940144 13588 deprecation_wrapper.py:119] From D:\\Anaconda\\lib\\site-packages\\keras\\backend\\tensorflow_backend.py:174: The name tf.get_default_session is deprecated. Please use tf.compat.v1.get_default_session instead.\n",
      "\n",
      "W0830 07:36:28.944332 13588 deprecation_wrapper.py:119] From D:\\Anaconda\\lib\\site-packages\\keras\\backend\\tensorflow_backend.py:181: The name tf.ConfigProto is deprecated. Please use tf.compat.v1.ConfigProto instead.\n",
      "\n"
     ]
    }
   ],
   "source": [
    "review_text_input= Input(shape=(300,),name='review_text_input')\n",
    "if (review_word_not_in_glove_count<=1):\n",
    "    text_embed = Embedding(input_dim=NUM_WORDS_REVIEW_TEXT,output_dim=50,weights=[review_embedding_matrix],trainable=False)(review_text_input)\n",
    "else:\n",
    "    text_embed = Embedding(input_dim=NUM_WORDS_REVIEW_TEXT,output_dim=50,weights=[review_embedding_matrix],trainable=True)(review_text_input)\n",
    "review_out_text = Flatten()(text_embed)\n",
    "X = Dense(8, activation='relu')(review_out_text)\n",
    "X=Dense(1, activation='relu')(X)\n",
    "final_out = Dense(no_of_levels, activation='softmax')(X)"
   ]
  },
  {
   "cell_type": "code",
   "execution_count": 189,
   "metadata": {},
   "outputs": [],
   "source": [
    "model = Model(inputs=[review_text_input], outputs=final_out) #Model Building"
   ]
  },
  {
   "cell_type": "code",
   "execution_count": 190,
   "metadata": {},
   "outputs": [
    {
     "name": "stdout",
     "output_type": "stream",
     "text": [
      "_________________________________________________________________\n",
      "Layer (type)                 Output Shape              Param #   \n",
      "=================================================================\n",
      "review_text_input (InputLaye (None, 300)               0         \n",
      "_________________________________________________________________\n",
      "embedding_1 (Embedding)      (None, 300, 50)           206900    \n",
      "_________________________________________________________________\n",
      "flatten_1 (Flatten)          (None, 15000)             0         \n",
      "_________________________________________________________________\n",
      "dense_1 (Dense)              (None, 8)                 120008    \n",
      "_________________________________________________________________\n",
      "dense_2 (Dense)              (None, 1)                 9         \n",
      "_________________________________________________________________\n",
      "dense_3 (Dense)              (None, 2)                 4         \n",
      "=================================================================\n",
      "Total params: 326,921\n",
      "Trainable params: 326,921\n",
      "Non-trainable params: 0\n",
      "_________________________________________________________________\n"
     ]
    }
   ],
   "source": [
    "model.summary() #Checking how many weights are taken by each layer"
   ]
  },
  {
   "cell_type": "markdown",
   "metadata": {},
   "source": [
    "### Back Propagation Phase"
   ]
  },
  {
   "cell_type": "code",
   "execution_count": 191,
   "metadata": {},
   "outputs": [
    {
     "name": "stderr",
     "output_type": "stream",
     "text": [
      "W0830 07:36:40.367577 13588 deprecation_wrapper.py:119] From D:\\Anaconda\\lib\\site-packages\\keras\\optimizers.py:790: The name tf.train.Optimizer is deprecated. Please use tf.compat.v1.train.Optimizer instead.\n",
      "\n",
      "W0830 07:36:40.383107 13588 deprecation.py:323] From D:\\Anaconda\\lib\\site-packages\\tensorflow\\python\\ops\\nn_impl.py:180: add_dispatch_support.<locals>.wrapper (from tensorflow.python.ops.array_ops) is deprecated and will be removed in a future version.\n",
      "Instructions for updating:\n",
      "Use tf.where in 2.0, which has the same broadcast rule as np.where\n"
     ]
    }
   ],
   "source": [
    "model.compile(loss='binary_crossentropy', optimizer='sgd', metrics=['accuracy'])"
   ]
  },
  {
   "cell_type": "code",
   "execution_count": 192,
   "metadata": {},
   "outputs": [
    {
     "name": "stdout",
     "output_type": "stream",
     "text": [
      "Train on 1407 samples, validate on 603 samples\n",
      "Epoch 1/50\n",
      "1407/1407 [==============================] - ETA: 49s - loss: 0.7090 - acc: 0.31 - ETA: 9s - loss: 0.6954 - acc: 0.5375 - ETA: 2s - loss: 0.6892 - acc: 0.656 - ETA: 1s - loss: 0.6848 - acc: 0.678 - ETA: 0s - loss: 0.6811 - acc: 0.694 - ETA: 0s - loss: 0.6749 - acc: 0.714 - 2s 1ms/step - loss: 0.6751 - acc: 0.7029 - val_loss: 0.6600 - val_acc: 0.7148\n",
      "Epoch 2/50\n",
      "1407/1407 [==============================] - ETA: 0s - loss: 0.6593 - acc: 0.718 - ETA: 0s - loss: 0.6540 - acc: 0.734 - ETA: 0s - loss: 0.6491 - acc: 0.743 - ETA: 0s - loss: 0.6470 - acc: 0.738 - ETA: 0s - loss: 0.6469 - acc: 0.730 - ETA: 0s - loss: 0.6454 - acc: 0.728 - 0s 222us/step - loss: 0.6451 - acc: 0.7292 - val_loss: 0.6387 - val_acc: 0.7131\n",
      "Epoch 3/50\n",
      "1407/1407 [==============================] - ETA: 0s - loss: 0.6349 - acc: 0.718 - ETA: 0s - loss: 0.6442 - acc: 0.684 - ETA: 0s - loss: 0.6376 - acc: 0.703 - ETA: 0s - loss: 0.6321 - acc: 0.713 - ETA: 0s - loss: 0.6238 - acc: 0.732 - 0s 221us/step - loss: 0.6243 - acc: 0.7299 - val_loss: 0.6242 - val_acc: 0.7098\n",
      "Epoch 4/50\n",
      "1407/1407 [==============================] - ETA: 0s - loss: 0.6089 - acc: 0.750 - ETA: 0s - loss: 0.6137 - acc: 0.718 - ETA: 0s - loss: 0.6230 - acc: 0.702 - ETA: 0s - loss: 0.6130 - acc: 0.725 - ETA: 0s - loss: 0.6144 - acc: 0.722 - ETA: 0s - loss: 0.6091 - acc: 0.731 - 0s 225us/step - loss: 0.6089 - acc: 0.7321 - val_loss: 0.6130 - val_acc: 0.7098\n",
      "Epoch 5/50\n",
      "1407/1407 [==============================] - ETA: 0s - loss: 0.5913 - acc: 0.750 - ETA: 0s - loss: 0.6084 - acc: 0.722 - ETA: 0s - loss: 0.6013 - acc: 0.731 - ETA: 0s - loss: 0.6015 - acc: 0.727 - ETA: 0s - loss: 0.6001 - acc: 0.728 - 0s 208us/step - loss: 0.5961 - acc: 0.7328 - val_loss: 0.6043 - val_acc: 0.7065\n",
      "Epoch 6/50\n",
      "1407/1407 [==============================] - ETA: 0s - loss: 0.5498 - acc: 0.812 - ETA: 0s - loss: 0.5919 - acc: 0.733 - ETA: 0s - loss: 0.5831 - acc: 0.750 - ETA: 0s - loss: 0.5875 - acc: 0.738 - ETA: 0s - loss: 0.5847 - acc: 0.740 - 0s 215us/step - loss: 0.5848 - acc: 0.7406 - val_loss: 0.5974 - val_acc: 0.7098\n",
      "Epoch 7/50\n",
      "1407/1407 [==============================] - ETA: 0s - loss: 0.5565 - acc: 0.781 - ETA: 0s - loss: 0.5805 - acc: 0.739 - ETA: 0s - loss: 0.5837 - acc: 0.737 - ETA: 0s - loss: 0.5803 - acc: 0.736 - ETA: 0s - loss: 0.5735 - acc: 0.745 - ETA: 0s - loss: 0.5743 - acc: 0.743 - 0s 222us/step - loss: 0.5756 - acc: 0.7413 - val_loss: 0.5921 - val_acc: 0.7015\n",
      "Epoch 8/50\n",
      "1407/1407 [==============================] - ETA: 0s - loss: 0.5811 - acc: 0.750 - ETA: 0s - loss: 0.5582 - acc: 0.768 - ETA: 0s - loss: 0.5671 - acc: 0.754 - ETA: 0s - loss: 0.5637 - acc: 0.755 - ETA: 0s - loss: 0.5601 - acc: 0.759 - ETA: 0s - loss: 0.5643 - acc: 0.750 - 0s 227us/step - loss: 0.5662 - acc: 0.7470 - val_loss: 0.5885 - val_acc: 0.7032\n",
      "Epoch 9/50\n",
      "1407/1407 [==============================] - ETA: 0s - loss: 0.5313 - acc: 0.750 - ETA: 0s - loss: 0.5310 - acc: 0.777 - ETA: 0s - loss: 0.5320 - acc: 0.786 - ETA: 0s - loss: 0.5475 - acc: 0.768 - ETA: 0s - loss: 0.5485 - acc: 0.767 - ETA: 0s - loss: 0.5540 - acc: 0.760 - 0s 225us/step - loss: 0.5555 - acc: 0.7584 - val_loss: 0.5853 - val_acc: 0.7032\n",
      "Epoch 10/50\n",
      "1407/1407 [==============================] - ETA: 0s - loss: 0.5107 - acc: 0.781 - ETA: 0s - loss: 0.5294 - acc: 0.775 - ETA: 0s - loss: 0.5543 - acc: 0.750 - ETA: 0s - loss: 0.5521 - acc: 0.752 - ETA: 0s - loss: 0.5403 - acc: 0.768 - 0s 210us/step - loss: 0.5468 - acc: 0.7612 - val_loss: 0.5871 - val_acc: 0.7181\n",
      "Epoch 11/50\n",
      "1407/1407 [==============================] - ETA: 0s - loss: 0.6680 - acc: 0.687 - ETA: 0s - loss: 0.5349 - acc: 0.792 - ETA: 0s - loss: 0.5409 - acc: 0.774 - ETA: 0s - loss: 0.5370 - acc: 0.775 - ETA: 0s - loss: 0.5354 - acc: 0.777 - 0s 211us/step - loss: 0.5368 - acc: 0.7726 - val_loss: 0.5796 - val_acc: 0.7065\n",
      "Epoch 12/50\n",
      "1407/1407 [==============================] - ETA: 0s - loss: 0.4631 - acc: 0.843 - ETA: 0s - loss: 0.5283 - acc: 0.775 - ETA: 0s - loss: 0.5323 - acc: 0.772 - ETA: 0s - loss: 0.5360 - acc: 0.763 - ETA: 0s - loss: 0.5362 - acc: 0.765 - ETA: 0s - loss: 0.5277 - acc: 0.775 - 0s 238us/step - loss: 0.5267 - acc: 0.7783 - val_loss: 0.5798 - val_acc: 0.7065\n",
      "Epoch 13/50\n",
      "1407/1407 [==============================] - ETA: 0s - loss: 0.4879 - acc: 0.812 - ETA: 0s - loss: 0.4965 - acc: 0.802 - ETA: 0s - loss: 0.4888 - acc: 0.808 - ETA: 0s - loss: 0.4922 - acc: 0.802 - ETA: 0s - loss: 0.5174 - acc: 0.778 - ETA: 0s - loss: 0.5125 - acc: 0.783 - 0s 252us/step - loss: 0.5129 - acc: 0.7854 - val_loss: 0.5772 - val_acc: 0.7098\n",
      "Epoch 14/50\n",
      "1407/1407 [==============================] - ETA: 0s - loss: 0.5078 - acc: 0.812 - ETA: 0s - loss: 0.5214 - acc: 0.785 - ETA: 0s - loss: 0.5246 - acc: 0.770 - ETA: 0s - loss: 0.5143 - acc: 0.784 - ETA: 0s - loss: 0.5051 - acc: 0.793 - ETA: 0s - loss: 0.5060 - acc: 0.789 - 0s 242us/step - loss: 0.4994 - acc: 0.7974 - val_loss: 0.5786 - val_acc: 0.7181\n",
      "Epoch 15/50\n",
      "1407/1407 [==============================] - ETA: 0s - loss: 0.4615 - acc: 0.843 - ETA: 0s - loss: 0.4966 - acc: 0.815 - ETA: 0s - loss: 0.4952 - acc: 0.802 - ETA: 0s - loss: 0.4911 - acc: 0.805 - ETA: 0s - loss: 0.4933 - acc: 0.803 - 0s 224us/step - loss: 0.4887 - acc: 0.8081 - val_loss: 0.5762 - val_acc: 0.7114\n",
      "Epoch 16/50\n",
      "1407/1407 [==============================] - ETA: 0s - loss: 0.6121 - acc: 0.656 - ETA: 0s - loss: 0.5006 - acc: 0.788 - ETA: 0s - loss: 0.4821 - acc: 0.819 - ETA: 0s - loss: 0.4874 - acc: 0.810 - ETA: 0s - loss: 0.4815 - acc: 0.812 - ETA: 0s - loss: 0.4773 - acc: 0.816 - 0s 240us/step - loss: 0.4748 - acc: 0.8166 - val_loss: 0.5909 - val_acc: 0.7098\n",
      "Epoch 17/50\n",
      "1407/1407 [==============================] - ETA: 0s - loss: 0.4757 - acc: 0.812 - ETA: 0s - loss: 0.4463 - acc: 0.843 - ETA: 0s - loss: 0.4406 - acc: 0.845 - ETA: 0s - loss: 0.4598 - acc: 0.826 - ETA: 0s - loss: 0.4546 - acc: 0.833 - ETA: 0s - loss: 0.4602 - acc: 0.825 - 0s 237us/step - loss: 0.4630 - acc: 0.8223 - val_loss: 0.5739 - val_acc: 0.7131\n",
      "Epoch 18/50\n",
      "1407/1407 [==============================] - ETA: 0s - loss: 0.4947 - acc: 0.812 - ETA: 0s - loss: 0.4392 - acc: 0.843 - ETA: 0s - loss: 0.4483 - acc: 0.832 - ETA: 0s - loss: 0.4409 - acc: 0.840 - ETA: 0s - loss: 0.4462 - acc: 0.832 - ETA: 0s - loss: 0.4477 - acc: 0.827 - 0s 252us/step - loss: 0.4470 - acc: 0.8280 - val_loss: 0.5783 - val_acc: 0.7114\n",
      "Epoch 19/50\n",
      "1407/1407 [==============================] - ETA: 0s - loss: 0.4199 - acc: 0.843 - ETA: 0s - loss: 0.4147 - acc: 0.863 - ETA: 0s - loss: 0.4292 - acc: 0.852 - ETA: 0s - loss: 0.4312 - acc: 0.846 - ETA: 0s - loss: 0.4295 - acc: 0.842 - ETA: 0s - loss: 0.4347 - acc: 0.833 - ETA: 0s - loss: 0.4313 - acc: 0.839 - 0s 278us/step - loss: 0.4348 - acc: 0.8337 - val_loss: 0.5804 - val_acc: 0.7148\n",
      "Epoch 20/50\n",
      "1407/1407 [==============================] - ETA: 0s - loss: 0.4116 - acc: 0.843 - ETA: 0s - loss: 0.4362 - acc: 0.851 - ETA: 0s - loss: 0.4276 - acc: 0.847 - ETA: 0s - loss: 0.4307 - acc: 0.848 - ETA: 0s - loss: 0.4240 - acc: 0.854 - ETA: 0s - loss: 0.4288 - acc: 0.849 - ETA: 0s - loss: 0.4217 - acc: 0.850 - 0s 283us/step - loss: 0.4198 - acc: 0.8536 - val_loss: 0.5748 - val_acc: 0.7114\n",
      "Epoch 21/50\n",
      "1407/1407 [==============================] - ETA: 0s - loss: 0.4443 - acc: 0.843 - ETA: 0s - loss: 0.4218 - acc: 0.857 - ETA: 0s - loss: 0.4038 - acc: 0.870 - ETA: 0s - loss: 0.3965 - acc: 0.872 - ETA: 0s - loss: 0.4100 - acc: 0.850 - ETA: 0s - loss: 0.4086 - acc: 0.854 - ETA: 0s - loss: 0.4071 - acc: 0.855 - 0s 277us/step - loss: 0.4062 - acc: 0.8550 - val_loss: 0.5753 - val_acc: 0.7081\n",
      "Epoch 22/50\n",
      "1407/1407 [==============================] - ETA: 0s - loss: 0.3031 - acc: 0.906 - ETA: 0s - loss: 0.3753 - acc: 0.888 - ETA: 0s - loss: 0.3806 - acc: 0.878 - ETA: 0s - loss: 0.3845 - acc: 0.872 - ETA: 0s - loss: 0.3893 - acc: 0.867 - ETA: 0s - loss: 0.3918 - acc: 0.863 - 0s 246us/step - loss: 0.3888 - acc: 0.8657 - val_loss: 0.5762 - val_acc: 0.7081\n",
      "Epoch 23/50\n",
      "1407/1407 [==============================] - ETA: 0s - loss: 0.3911 - acc: 0.843 - ETA: 0s - loss: 0.3630 - acc: 0.892 - ETA: 0s - loss: 0.3693 - acc: 0.880 - ETA: 0s - loss: 0.3725 - acc: 0.876 - ETA: 0s - loss: 0.3726 - acc: 0.875 - ETA: 0s - loss: 0.3761 - acc: 0.873 - 0s 240us/step - loss: 0.3799 - acc: 0.8692 - val_loss: 0.5848 - val_acc: 0.6998\n",
      "Epoch 24/50\n",
      "1407/1407 [==============================] - ETA: 0s - loss: 0.2990 - acc: 0.937 - ETA: 0s - loss: 0.3660 - acc: 0.892 - ETA: 0s - loss: 0.3611 - acc: 0.893 - ETA: 0s - loss: 0.3561 - acc: 0.893 - ETA: 0s - loss: 0.3670 - acc: 0.876 - ETA: 0s - loss: 0.3676 - acc: 0.873 - ETA: 0s - loss: 0.3641 - acc: 0.878 - ETA: 0s - loss: 0.3600 - acc: 0.879 - 0s 323us/step - loss: 0.3674 - acc: 0.8749 - val_loss: 0.6167 - val_acc: 0.6816\n",
      "Epoch 25/50\n",
      "1407/1407 [==============================] - ETA: 0s - loss: 0.3776 - acc: 0.843 - ETA: 0s - loss: 0.3369 - acc: 0.886 - ETA: 0s - loss: 0.3290 - acc: 0.896 - ETA: 0s - loss: 0.3346 - acc: 0.890 - ETA: 0s - loss: 0.3410 - acc: 0.887 - ETA: 0s - loss: 0.3488 - acc: 0.878 - 0s 246us/step - loss: 0.3532 - acc: 0.8756 - val_loss: 0.5895 - val_acc: 0.7098\n",
      "Epoch 26/50\n",
      "1407/1407 [==============================] - ETA: 0s - loss: 0.3991 - acc: 0.812 - ETA: 0s - loss: 0.3533 - acc: 0.875 - ETA: 0s - loss: 0.3486 - acc: 0.881 - ETA: 0s - loss: 0.3416 - acc: 0.890 - ETA: 0s - loss: 0.3416 - acc: 0.893 - ETA: 0s - loss: 0.3412 - acc: 0.888 - 0s 240us/step - loss: 0.3407 - acc: 0.8891 - val_loss: 0.6036 - val_acc: 0.7065\n",
      "Epoch 27/50\n",
      "1407/1407 [==============================] - ETA: 0s - loss: 0.3325 - acc: 0.875 - ETA: 0s - loss: 0.3382 - acc: 0.888 - ETA: 0s - loss: 0.3430 - acc: 0.882 - ETA: 0s - loss: 0.3405 - acc: 0.887 - ETA: 0s - loss: 0.3379 - acc: 0.887 - ETA: 0s - loss: 0.3360 - acc: 0.887 - 0s 244us/step - loss: 0.3355 - acc: 0.8863 - val_loss: 0.5877 - val_acc: 0.7131\n",
      "Epoch 28/50\n",
      "1407/1407 [==============================] - ETA: 0s - loss: 0.2645 - acc: 0.906 - ETA: 0s - loss: 0.3011 - acc: 0.909 - ETA: 0s - loss: 0.3193 - acc: 0.891 - ETA: 0s - loss: 0.3201 - acc: 0.888 - ETA: 0s - loss: 0.3153 - acc: 0.895 - ETA: 0s - loss: 0.3137 - acc: 0.896 - 0s 258us/step - loss: 0.3171 - acc: 0.8920 - val_loss: 0.6590 - val_acc: 0.6700\n",
      "Epoch 29/50\n",
      "1407/1407 [==============================] - ETA: 0s - loss: 0.2565 - acc: 0.968 - ETA: 0s - loss: 0.3125 - acc: 0.902 - ETA: 0s - loss: 0.3185 - acc: 0.898 - ETA: 0s - loss: 0.3227 - acc: 0.901 - ETA: 0s - loss: 0.3190 - acc: 0.902 - ETA: 0s - loss: 0.3147 - acc: 0.903 - 0s 240us/step - loss: 0.3114 - acc: 0.9062 - val_loss: 0.5957 - val_acc: 0.7048\n",
      "Epoch 30/50\n",
      "1407/1407 [==============================] - ETA: 0s - loss: 0.2477 - acc: 0.937 - ETA: 0s - loss: 0.3262 - acc: 0.882 - ETA: 0s - loss: 0.3037 - acc: 0.902 - ETA: 0s - loss: 0.2956 - acc: 0.911 - ETA: 0s - loss: 0.3069 - acc: 0.900 - ETA: 0s - loss: 0.3025 - acc: 0.901 - ETA: 0s - loss: 0.3028 - acc: 0.901 - 0s 264us/step - loss: 0.3032 - acc: 0.9005 - val_loss: 0.6031 - val_acc: 0.7197\n",
      "Epoch 31/50\n",
      "1407/1407 [==============================] - ETA: 0s - loss: 0.2610 - acc: 0.937 - ETA: 0s - loss: 0.3014 - acc: 0.910 - ETA: 0s - loss: 0.2873 - acc: 0.914 - ETA: 0s - loss: 0.2797 - acc: 0.912 - ETA: 0s - loss: 0.2799 - acc: 0.911 - ETA: 0s - loss: 0.2804 - acc: 0.913 - 0s 249us/step - loss: 0.2829 - acc: 0.9112 - val_loss: 0.6024 - val_acc: 0.7197\n",
      "Epoch 32/50\n",
      "1407/1407 [==============================] - ETA: 0s - loss: 0.3441 - acc: 0.875 - ETA: 0s - loss: 0.2488 - acc: 0.949 - ETA: 0s - loss: 0.2799 - acc: 0.918 - ETA: 0s - loss: 0.2880 - acc: 0.910 - ETA: 0s - loss: 0.2858 - acc: 0.913 - ETA: 0s - loss: 0.2842 - acc: 0.912 - 0s 252us/step - loss: 0.2831 - acc: 0.9168 - val_loss: 0.6561 - val_acc: 0.6816\n",
      "Epoch 33/50\n",
      "1407/1407 [==============================] - ETA: 0s - loss: 0.2738 - acc: 0.906 - ETA: 0s - loss: 0.2760 - acc: 0.913 - ETA: 0s - loss: 0.2550 - acc: 0.932 - ETA: 0s - loss: 0.2685 - acc: 0.920 - ETA: 0s - loss: 0.2701 - acc: 0.925 - ETA: 0s - loss: 0.2687 - acc: 0.925 - 0s 249us/step - loss: 0.2782 - acc: 0.9176 - val_loss: 0.6095 - val_acc: 0.7197\n",
      "Epoch 34/50\n",
      "1407/1407 [==============================] - ETA: 0s - loss: 0.2485 - acc: 0.937 - ETA: 0s - loss: 0.2733 - acc: 0.920 - ETA: 0s - loss: 0.2589 - acc: 0.927 - ETA: 0s - loss: 0.2558 - acc: 0.929 - ETA: 0s - loss: 0.2652 - acc: 0.923 - ETA: 0s - loss: 0.2634 - acc: 0.926 - 0s 253us/step - loss: 0.2674 - acc: 0.9225 - val_loss: 0.6172 - val_acc: 0.7148\n",
      "Epoch 35/50\n",
      "1407/1407 [==============================] - ETA: 0s - loss: 0.2268 - acc: 0.937 - ETA: 0s - loss: 0.2350 - acc: 0.933 - ETA: 0s - loss: 0.2488 - acc: 0.931 - ETA: 0s - loss: 0.2584 - acc: 0.925 - ETA: 0s - loss: 0.2629 - acc: 0.922 - ETA: 0s - loss: 0.2582 - acc: 0.925 - 0s 259us/step - loss: 0.2541 - acc: 0.9261 - val_loss: 0.6364 - val_acc: 0.7148\n",
      "Epoch 36/50\n",
      "1407/1407 [==============================] - ETA: 0s - loss: 0.2199 - acc: 0.968 - ETA: 0s - loss: 0.2441 - acc: 0.941 - ETA: 0s - loss: 0.2412 - acc: 0.937 - ETA: 0s - loss: 0.2510 - acc: 0.930 - ETA: 0s - loss: 0.2490 - acc: 0.931 - ETA: 0s - loss: 0.2558 - acc: 0.924 - 0s 223us/step - loss: 0.2529 - acc: 0.9254 - val_loss: 0.6407 - val_acc: 0.7015\n",
      "Epoch 37/50\n",
      "1407/1407 [==============================] - ETA: 0s - loss: 0.2496 - acc: 0.906 - ETA: 0s - loss: 0.2468 - acc: 0.931 - ETA: 0s - loss: 0.2431 - acc: 0.932 - ETA: 0s - loss: 0.2567 - acc: 0.920 - ETA: 0s - loss: 0.2499 - acc: 0.922 - 0s 207us/step - loss: 0.2488 - acc: 0.9247 - val_loss: 0.6230 - val_acc: 0.7247\n",
      "Epoch 38/50\n",
      "1407/1407 [==============================] - ETA: 0s - loss: 0.1370 - acc: 1.000 - ETA: 0s - loss: 0.2276 - acc: 0.937 - ETA: 0s - loss: 0.2363 - acc: 0.934 - ETA: 0s - loss: 0.2434 - acc: 0.934 - ETA: 0s - loss: 0.2328 - acc: 0.939 - 0s 204us/step - loss: 0.2297 - acc: 0.9382 - val_loss: 0.6475 - val_acc: 0.7148\n",
      "Epoch 39/50\n",
      "1407/1407 [==============================] - ETA: 0s - loss: 0.2298 - acc: 0.937 - ETA: 0s - loss: 0.2068 - acc: 0.951 - ETA: 0s - loss: 0.2258 - acc: 0.942 - ETA: 0s - loss: 0.2354 - acc: 0.935 - ETA: 0s - loss: 0.2349 - acc: 0.935 - 0s 200us/step - loss: 0.2309 - acc: 0.9360 - val_loss: 0.6970 - val_acc: 0.6949\n",
      "Epoch 40/50\n",
      "1407/1407 [==============================] - ETA: 0s - loss: 0.1560 - acc: 1.000 - ETA: 0s - loss: 0.2481 - acc: 0.921 - ETA: 0s - loss: 0.2477 - acc: 0.922 - ETA: 0s - loss: 0.2357 - acc: 0.932 - ETA: 0s - loss: 0.2329 - acc: 0.932 - 0s 199us/step - loss: 0.2364 - acc: 0.9289 - val_loss: 0.6385 - val_acc: 0.7247\n",
      "Epoch 41/50\n",
      "1407/1407 [==============================] - ETA: 0s - loss: 0.1912 - acc: 0.968 - ETA: 0s - loss: 0.1908 - acc: 0.958 - ETA: 0s - loss: 0.2043 - acc: 0.950 - ETA: 0s - loss: 0.2034 - acc: 0.951 - ETA: 0s - loss: 0.2176 - acc: 0.942 - 0s 204us/step - loss: 0.2212 - acc: 0.9431 - val_loss: 0.6923 - val_acc: 0.6932\n",
      "Epoch 42/50\n",
      "1407/1407 [==============================] - ETA: 0s - loss: 0.2472 - acc: 0.937 - ETA: 0s - loss: 0.2004 - acc: 0.965 - ETA: 0s - loss: 0.2063 - acc: 0.957 - ETA: 0s - loss: 0.2114 - acc: 0.949 - ETA: 0s - loss: 0.2137 - acc: 0.947 - 0s 198us/step - loss: 0.2211 - acc: 0.9417 - val_loss: 0.6675 - val_acc: 0.7297\n",
      "Epoch 43/50\n",
      "1407/1407 [==============================] - ETA: 0s - loss: 0.3906 - acc: 0.843 - ETA: 0s - loss: 0.2284 - acc: 0.934 - ETA: 0s - loss: 0.2262 - acc: 0.929 - ETA: 0s - loss: 0.2162 - acc: 0.937 - ETA: 0s - loss: 0.2150 - acc: 0.935 - 0s 196us/step - loss: 0.2159 - acc: 0.9360 - val_loss: 0.6684 - val_acc: 0.7247\n",
      "Epoch 44/50\n",
      "1407/1407 [==============================] - ETA: 0s - loss: 0.2097 - acc: 0.937 - ETA: 0s - loss: 0.2022 - acc: 0.940 - ETA: 0s - loss: 0.2008 - acc: 0.946 - ETA: 0s - loss: 0.2039 - acc: 0.944 - ETA: 0s - loss: 0.1963 - acc: 0.950 - 0s 202us/step - loss: 0.1995 - acc: 0.9488 - val_loss: 0.7131 - val_acc: 0.6833\n",
      "Epoch 45/50\n",
      "1407/1407 [==============================] - ETA: 0s - loss: 0.2264 - acc: 0.968 - ETA: 0s - loss: 0.2014 - acc: 0.948 - ETA: 0s - loss: 0.1893 - acc: 0.950 - ETA: 0s - loss: 0.1986 - acc: 0.950 - ETA: 0s - loss: 0.1976 - acc: 0.950 - 0s 199us/step - loss: 0.2107 - acc: 0.9417 - val_loss: 0.6665 - val_acc: 0.7264\n",
      "Epoch 46/50\n"
     ]
    },
    {
     "name": "stdout",
     "output_type": "stream",
     "text": [
      "1407/1407 [==============================] - ETA: 0s - loss: 0.1466 - acc: 0.968 - ETA: 0s - loss: 0.1786 - acc: 0.950 - ETA: 0s - loss: 0.1778 - acc: 0.951 - ETA: 0s - loss: 0.1876 - acc: 0.947 - ETA: 0s - loss: 0.1887 - acc: 0.947 - 0s 199us/step - loss: 0.1927 - acc: 0.9453 - val_loss: 0.8226 - val_acc: 0.6716\n",
      "Epoch 47/50\n",
      "1407/1407 [==============================] - ETA: 0s - loss: 0.2020 - acc: 0.968 - ETA: 0s - loss: 0.1802 - acc: 0.960 - ETA: 0s - loss: 0.1742 - acc: 0.960 - ETA: 0s - loss: 0.1831 - acc: 0.957 - ETA: 0s - loss: 0.1991 - acc: 0.946 - 0s 201us/step - loss: 0.1990 - acc: 0.9460 - val_loss: 0.7156 - val_acc: 0.7081\n",
      "Epoch 48/50\n",
      "1407/1407 [==============================] - ETA: 0s - loss: 0.1443 - acc: 0.937 - ETA: 0s - loss: 0.1679 - acc: 0.954 - ETA: 0s - loss: 0.1815 - acc: 0.951 - ETA: 0s - loss: 0.1851 - acc: 0.953 - ETA: 0s - loss: 0.1950 - acc: 0.946 - ETA: 0s - loss: 0.2026 - acc: 0.941 - 0s 216us/step - loss: 0.1989 - acc: 0.9431 - val_loss: 0.7475 - val_acc: 0.7181\n",
      "Epoch 49/50\n",
      "1407/1407 [==============================] - ETA: 0s - loss: 0.1046 - acc: 0.968 - ETA: 0s - loss: 0.1580 - acc: 0.960 - ETA: 0s - loss: 0.1718 - acc: 0.953 - ETA: 0s - loss: 0.2028 - acc: 0.933 - ETA: 0s - loss: 0.2019 - acc: 0.935 - 0s 206us/step - loss: 0.2013 - acc: 0.9353 - val_loss: 0.7177 - val_acc: 0.7181\n",
      "Epoch 50/50\n",
      "1407/1407 [==============================] - ETA: 0s - loss: 0.1274 - acc: 1.000 - ETA: 0s - loss: 0.1852 - acc: 0.954 - ETA: 0s - loss: 0.1584 - acc: 0.963 - ETA: 0s - loss: 0.1641 - acc: 0.962 - ETA: 0s - loss: 0.1630 - acc: 0.964 - 0s 195us/step - loss: 0.1783 - acc: 0.9545 - val_loss: 0.7041 - val_acc: 0.7313\n"
     ]
    },
    {
     "data": {
      "text/plain": [
       "<keras.callbacks.History at 0x26fa3993a20>"
      ]
     },
     "execution_count": 192,
     "metadata": {},
     "output_type": "execute_result"
    }
   ],
   "source": [
    "model.fit([review_text_seq_train],y=OneHotEncoder_target_train,epochs=50,batch_size=32, validation_split=0.3)"
   ]
  },
  {
   "cell_type": "markdown",
   "metadata": {},
   "source": [
    "### Checking Loss and Accuracy"
   ]
  },
  {
   "cell_type": "code",
   "execution_count": 193,
   "metadata": {},
   "outputs": [
    {
     "name": "stdout",
     "output_type": "stream",
     "text": [
      "2010/2010 [==============================] - ETA:  - ETA:  - ETA:  - 0s 59us/step\n"
     ]
    },
    {
     "data": {
      "text/plain": [
       "[0.3253842004496067, 0.8910447762973273]"
      ]
     },
     "execution_count": 193,
     "metadata": {},
     "output_type": "execute_result"
    }
   ],
   "source": [
    "model.evaluate([review_text_seq_train,], y=OneHotEncoder_target_train)"
   ]
  },
  {
   "cell_type": "markdown",
   "metadata": {},
   "source": [
    "### Predicting on Train-Data"
   ]
  },
  {
   "cell_type": "code",
   "execution_count": 194,
   "metadata": {},
   "outputs": [],
   "source": [
    "pred=model.predict([review_text_seq_train])"
   ]
  },
  {
   "cell_type": "code",
   "execution_count": 195,
   "metadata": {},
   "outputs": [
    {
     "data": {
      "text/plain": [
       "array([[0.04782518, 0.95217484],\n",
       "       [0.5831308 , 0.41686922],\n",
       "       [0.9212415 , 0.07875841],\n",
       "       ...,\n",
       "       [0.9212415 , 0.07875841],\n",
       "       [0.92124164, 0.07875841],\n",
       "       [0.9125791 , 0.08742085]], dtype=float32)"
      ]
     },
     "execution_count": 195,
     "metadata": {},
     "output_type": "execute_result"
    }
   ],
   "source": [
    "pred"
   ]
  },
  {
   "cell_type": "code",
   "execution_count": 196,
   "metadata": {},
   "outputs": [
    {
     "data": {
      "text/plain": [
       "(2010, 2)"
      ]
     },
     "execution_count": 196,
     "metadata": {},
     "output_type": "execute_result"
    }
   ],
   "source": [
    "pred.shape"
   ]
  },
  {
   "cell_type": "code",
   "execution_count": 197,
   "metadata": {},
   "outputs": [
    {
     "name": "stdout",
     "output_type": "stream",
     "text": [
      "990/990 [==============================] - ETA:  - 0s 43us/step\n"
     ]
    },
    {
     "data": {
      "text/plain": [
       "[0.6937550234072136, 0.7212121216937749]"
      ]
     },
     "execution_count": 197,
     "metadata": {},
     "output_type": "execute_result"
    }
   ],
   "source": [
    "model.evaluate([review_text_seq_test],y=OneHotEncoder_target_test)"
   ]
  },
  {
   "cell_type": "markdown",
   "metadata": {},
   "source": [
    "### Predicting on Test-Data"
   ]
  },
  {
   "cell_type": "code",
   "execution_count": 198,
   "metadata": {},
   "outputs": [],
   "source": [
    "pred_test=model.predict(review_text_seq_test)"
   ]
  },
  {
   "cell_type": "code",
   "execution_count": 199,
   "metadata": {},
   "outputs": [
    {
     "data": {
      "text/plain": [
       "array([[0.9212415 , 0.07875841],\n",
       "       [0.9212415 , 0.07875841],\n",
       "       [0.9212415 , 0.07875841],\n",
       "       ...,\n",
       "       [0.9212415 , 0.07875841],\n",
       "       [0.8460576 , 0.15394238],\n",
       "       [0.92124164, 0.07875841]], dtype=float32)"
      ]
     },
     "execution_count": 199,
     "metadata": {},
     "output_type": "execute_result"
    }
   ],
   "source": [
    "pred_test"
   ]
  },
  {
   "cell_type": "markdown",
   "metadata": {},
   "source": [
    "### Basically returning the index of the maximum value in the array"
   ]
  },
  {
   "cell_type": "code",
   "execution_count": 200,
   "metadata": {},
   "outputs": [
    {
     "data": {
      "text/plain": [
       "array([1, 0, 0, ..., 0, 0, 0], dtype=int64)"
      ]
     },
     "execution_count": 200,
     "metadata": {},
     "output_type": "execute_result"
    }
   ],
   "source": [
    "y_classes=pred.argmax(axis=-1)\n",
    "y_classes"
   ]
  },
  {
   "cell_type": "code",
   "execution_count": 201,
   "metadata": {},
   "outputs": [],
   "source": [
    "y_classes_test=pred_test.argmax(axis=-1)"
   ]
  },
  {
   "cell_type": "markdown",
   "metadata": {},
   "source": [
    "### Confusion Matrix"
   ]
  },
  {
   "cell_type": "code",
   "execution_count": 202,
   "metadata": {},
   "outputs": [
    {
     "data": {
      "text/plain": [
       "array([[1380,   55],\n",
       "       [ 164,  411]], dtype=int64)"
      ]
     },
     "execution_count": 202,
     "metadata": {},
     "output_type": "execute_result"
    }
   ],
   "source": [
    "confusion_matrix(Y_train,y_classes)"
   ]
  },
  {
   "cell_type": "markdown",
   "metadata": {},
   "source": [
    "### F1_score"
   ]
  },
  {
   "cell_type": "code",
   "execution_count": 203,
   "metadata": {},
   "outputs": [
    {
     "data": {
      "text/plain": [
       "0.7896253602305475"
      ]
     },
     "execution_count": 203,
     "metadata": {},
     "output_type": "execute_result"
    }
   ],
   "source": [
    "f1_score(Y_train,y_classes)"
   ]
  },
  {
   "cell_type": "code",
   "execution_count": 204,
   "metadata": {},
   "outputs": [
    {
     "data": {
      "text/plain": [
       "0.3811659192825112"
      ]
     },
     "execution_count": 204,
     "metadata": {},
     "output_type": "execute_result"
    }
   ],
   "source": [
    "f1_score(Y_test,y_classes_test)"
   ]
  },
  {
   "cell_type": "markdown",
   "metadata": {},
   "source": [
    "### Test-Data"
   ]
  },
  {
   "cell_type": "code",
   "execution_count": 205,
   "metadata": {},
   "outputs": [],
   "source": [
    "import pandas as pd\n",
    "import numpy as np"
   ]
  },
  {
   "cell_type": "code",
   "execution_count": 206,
   "metadata": {},
   "outputs": [],
   "source": [
    "test_data=pd.read_csv(\"test-1566619745327.csv\", header=0, sep=',', ) #importing test data"
   ]
  },
  {
   "cell_type": "code",
   "execution_count": 207,
   "metadata": {},
   "outputs": [
    {
     "data": {
      "text/html": [
       "<div>\n",
       "<style scoped>\n",
       "    .dataframe tbody tr th:only-of-type {\n",
       "        vertical-align: middle;\n",
       "    }\n",
       "\n",
       "    .dataframe tbody tr th {\n",
       "        vertical-align: top;\n",
       "    }\n",
       "\n",
       "    .dataframe thead th {\n",
       "        text-align: right;\n",
       "    }\n",
       "</style>\n",
       "<table border=\"1\" class=\"dataframe\">\n",
       "  <thead>\n",
       "    <tr style=\"text-align: right;\">\n",
       "      <th></th>\n",
       "      <th>ReviewID</th>\n",
       "      <th>review</th>\n",
       "    </tr>\n",
       "  </thead>\n",
       "  <tbody>\n",
       "    <tr>\n",
       "      <th>0</th>\n",
       "      <td>92876</td>\n",
       "      <td>Was good. Nothing like the original but I beli...</td>\n",
       "    </tr>\n",
       "    <tr>\n",
       "      <th>1</th>\n",
       "      <td>92877</td>\n",
       "      <td>I absolutely loved it! A wonderful rendition o...</td>\n",
       "    </tr>\n",
       "    <tr>\n",
       "      <th>2</th>\n",
       "      <td>92878</td>\n",
       "      <td>I love the movie! Good job director! \\nI appre...</td>\n",
       "    </tr>\n",
       "    <tr>\n",
       "      <th>3</th>\n",
       "      <td>92879</td>\n",
       "      <td>GREAT MOVIE!!  Same as the original, but the c...</td>\n",
       "    </tr>\n",
       "    <tr>\n",
       "      <th>4</th>\n",
       "      <td>92880</td>\n",
       "      <td>Realistic.   Fantastic special effects</td>\n",
       "    </tr>\n",
       "  </tbody>\n",
       "</table>\n",
       "</div>"
      ],
      "text/plain": [
       "   ReviewID                                             review\n",
       "0     92876  Was good. Nothing like the original but I beli...\n",
       "1     92877  I absolutely loved it! A wonderful rendition o...\n",
       "2     92878  I love the movie! Good job director! \\nI appre...\n",
       "3     92879  GREAT MOVIE!!  Same as the original, but the c...\n",
       "4     92880             Realistic.   Fantastic special effects"
      ]
     },
     "execution_count": 207,
     "metadata": {},
     "output_type": "execute_result"
    }
   ],
   "source": [
    "test_data.head()"
   ]
  },
  {
   "cell_type": "code",
   "execution_count": 207,
   "metadata": {},
   "outputs": [],
   "source": [
    "test_data.drop(\"ReviewID\", axis=1, inplace=True)#drop review id"
   ]
  },
  {
   "cell_type": "code",
   "execution_count": 208,
   "metadata": {},
   "outputs": [
    {
     "data": {
      "text/plain": [
       "Index(['ReviewID', 'review'], dtype='object')"
      ]
     },
     "execution_count": 208,
     "metadata": {},
     "output_type": "execute_result"
    }
   ],
   "source": [
    "test_data.columns"
   ]
  },
  {
   "cell_type": "code",
   "execution_count": 209,
   "metadata": {},
   "outputs": [
    {
     "data": {
      "text/plain": [
       "ReviewID    0\n",
       "review      0\n",
       "dtype: int64"
      ]
     },
     "execution_count": 209,
     "metadata": {},
     "output_type": "execute_result"
    }
   ],
   "source": [
    "test_data.isnull().sum()"
   ]
  },
  {
   "cell_type": "code",
   "execution_count": 210,
   "metadata": {},
   "outputs": [],
   "source": [
    "unique_elements, counts_elements = np.unique(test_data['review'].apply(len),return_counts=True)#finding unique and count elements"
   ]
  },
  {
   "cell_type": "code",
   "execution_count": 212,
   "metadata": {},
   "outputs": [
    {
     "data": {
      "text/plain": [
       "array([21, 22, 23, 24, 25, 26, 27, 28, 29], dtype=int64)"
      ]
     },
     "execution_count": 212,
     "metadata": {},
     "output_type": "execute_result"
    }
   ],
   "source": [
    "unique_elements[1:10]"
   ]
  },
  {
   "cell_type": "code",
   "execution_count": 213,
   "metadata": {},
   "outputs": [
    {
     "data": {
      "text/plain": [
       "array([19,  5, 15, 12, 16, 15, 19,  8, 11], dtype=int64)"
      ]
     },
     "execution_count": 213,
     "metadata": {},
     "output_type": "execute_result"
    }
   ],
   "source": [
    "counts_elements[1:10]"
   ]
  },
  {
   "cell_type": "code",
   "execution_count": 214,
   "metadata": {},
   "outputs": [
    {
     "data": {
      "text/plain": [
       "45"
      ]
     },
     "execution_count": 214,
     "metadata": {},
     "output_type": "execute_result"
    }
   ],
   "source": [
    "max_text_count_length = list(counts_elements).index(max(counts_elements))\n",
    "REVIEW_TEXT_MAX_SEQUENCE_LENGTH = unique_elements[max_text_count_length]\n",
    "REVIEW_TEXT_MAX_SEQUENCE_LENGTH# finding the length of the text in each sentences"
   ]
  },
  {
   "cell_type": "code",
   "execution_count": 215,
   "metadata": {},
   "outputs": [
    {
     "name": "stdout",
     "output_type": "stream",
     "text": [
      "Found 3162 unique tokens.\n"
     ]
    }
   ],
   "source": [
    "tokenizer = Tokenizer(oov_token='None')\n",
    "tokenizer.fit_on_texts(test_data['review'])\n",
    "review_text_train = tokenizer.texts_to_sequences(test_data['review'])\n",
    "review_text_test = tokenizer.texts_to_sequences(test_data['review'])\n",
    "\n",
    "word_index_review_text = tokenizer.word_index\n",
    "print('Found %s unique tokens.' % len(word_index_review_text))\n",
    "NUM_WORDS_REVIEW_TEXT = len(word_index_review_text)+1\n",
    "\n",
    "review_text_seq_train = pad_sequences(review_text_train, maxlen=300)\n",
    "review_text_seq_test = pad_sequences(review_text_test, maxlen=300)#Padding the words to be in uniform shape"
   ]
  },
  {
   "cell_type": "code",
   "execution_count": 216,
   "metadata": {},
   "outputs": [],
   "source": [
    "test_data_predict_train=model.predict(review_text_seq_train) #predict on test data"
   ]
  },
  {
   "cell_type": "code",
   "execution_count": 217,
   "metadata": {},
   "outputs": [
    {
     "data": {
      "text/plain": [
       "array([1, 0, 0, ..., 0, 0, 0], dtype=int64)"
      ]
     },
     "execution_count": 217,
     "metadata": {},
     "output_type": "execute_result"
    }
   ],
   "source": [
    "y_classes_train=test_data_predict_train.argmax(axis=-1)\n",
    "y_classes_train #combining all into 1"
   ]
  },
  {
   "cell_type": "code",
   "execution_count": 219,
   "metadata": {},
   "outputs": [],
   "source": [
    "test_data_predict_test=model.predict(review_text_seq_test) # preicting on test data"
   ]
  },
  {
   "cell_type": "code",
   "execution_count": 220,
   "metadata": {},
   "outputs": [
    {
     "data": {
      "text/plain": [
       "array([[0.25397953, 0.7460205 ],\n",
       "       [0.89995825, 0.10004181],\n",
       "       [0.89995825, 0.10004181],\n",
       "       ...,\n",
       "       [0.8957758 , 0.10422416],\n",
       "       [0.8222694 , 0.17773065],\n",
       "       [0.26748428, 0.73251575]], dtype=float32)"
      ]
     },
     "execution_count": 220,
     "metadata": {},
     "output_type": "execute_result"
    }
   ],
   "source": [
    "test_data_predict_test"
   ]
  },
  {
   "cell_type": "code",
   "execution_count": 221,
   "metadata": {},
   "outputs": [
    {
     "data": {
      "text/plain": [
       "array([1, 0, 0, ..., 0, 0, 1], dtype=int64)"
      ]
     },
     "execution_count": 221,
     "metadata": {},
     "output_type": "execute_result"
    }
   ],
   "source": [
    "y_classes=test_data_predict_test.argmax(axis=-1)\n",
    "y_classes #combining all into 1"
   ]
  },
  {
   "cell_type": "code",
   "execution_count": 222,
   "metadata": {},
   "outputs": [
    {
     "data": {
      "text/plain": [
       "array([1, 0, 0, ..., 0, 0, 1], dtype=int64)"
      ]
     },
     "execution_count": 222,
     "metadata": {},
     "output_type": "execute_result"
    }
   ],
   "source": [
    "y_classes_train=test_data_predict_train.argmax(axis=-1)\n",
    "y_classes_train"
   ]
  },
  {
   "cell_type": "code",
   "execution_count": 229,
   "metadata": {},
   "outputs": [],
   "source": [
    "test_data['sentiment']=y_classes # Puttinig sentiment into test data"
   ]
  },
  {
   "cell_type": "code",
   "execution_count": 230,
   "metadata": {},
   "outputs": [
    {
     "data": {
      "text/html": [
       "<div>\n",
       "<style scoped>\n",
       "    .dataframe tbody tr th:only-of-type {\n",
       "        vertical-align: middle;\n",
       "    }\n",
       "\n",
       "    .dataframe tbody tr th {\n",
       "        vertical-align: top;\n",
       "    }\n",
       "\n",
       "    .dataframe thead th {\n",
       "        text-align: right;\n",
       "    }\n",
       "</style>\n",
       "<table border=\"1\" class=\"dataframe\">\n",
       "  <thead>\n",
       "    <tr style=\"text-align: right;\">\n",
       "      <th></th>\n",
       "      <th>ReviewID</th>\n",
       "      <th>review</th>\n",
       "      <th>sentiment</th>\n",
       "    </tr>\n",
       "  </thead>\n",
       "  <tbody>\n",
       "    <tr>\n",
       "      <th>0</th>\n",
       "      <td>92876</td>\n",
       "      <td>Was good. Nothing like the original but I beli...</td>\n",
       "      <td>1</td>\n",
       "    </tr>\n",
       "    <tr>\n",
       "      <th>1</th>\n",
       "      <td>92877</td>\n",
       "      <td>I absolutely loved it! A wonderful rendition o...</td>\n",
       "      <td>0</td>\n",
       "    </tr>\n",
       "    <tr>\n",
       "      <th>2</th>\n",
       "      <td>92878</td>\n",
       "      <td>I love the movie! Good job director! \\nI appre...</td>\n",
       "      <td>0</td>\n",
       "    </tr>\n",
       "    <tr>\n",
       "      <th>3</th>\n",
       "      <td>92879</td>\n",
       "      <td>GREAT MOVIE!!  Same as the original, but the c...</td>\n",
       "      <td>0</td>\n",
       "    </tr>\n",
       "    <tr>\n",
       "      <th>4</th>\n",
       "      <td>92880</td>\n",
       "      <td>Realistic.   Fantastic special effects</td>\n",
       "      <td>0</td>\n",
       "    </tr>\n",
       "  </tbody>\n",
       "</table>\n",
       "</div>"
      ],
      "text/plain": [
       "   ReviewID                                             review  sentiment\n",
       "0     92876  Was good. Nothing like the original but I beli...          1\n",
       "1     92877  I absolutely loved it! A wonderful rendition o...          0\n",
       "2     92878  I love the movie! Good job director! \\nI appre...          0\n",
       "3     92879  GREAT MOVIE!!  Same as the original, but the c...          0\n",
       "4     92880             Realistic.   Fantastic special effects          0"
      ]
     },
     "execution_count": 230,
     "metadata": {},
     "output_type": "execute_result"
    }
   ],
   "source": [
    "test_data.head()"
   ]
  },
  {
   "cell_type": "code",
   "execution_count": 231,
   "metadata": {},
   "outputs": [],
   "source": [
    "one=test_data.drop(\"review\", axis=1, inplace=True)# dropping review column for further processing"
   ]
  },
  {
   "cell_type": "code",
   "execution_count": 232,
   "metadata": {},
   "outputs": [
    {
     "data": {
      "text/html": [
       "<div>\n",
       "<style scoped>\n",
       "    .dataframe tbody tr th:only-of-type {\n",
       "        vertical-align: middle;\n",
       "    }\n",
       "\n",
       "    .dataframe tbody tr th {\n",
       "        vertical-align: top;\n",
       "    }\n",
       "\n",
       "    .dataframe thead th {\n",
       "        text-align: right;\n",
       "    }\n",
       "</style>\n",
       "<table border=\"1\" class=\"dataframe\">\n",
       "  <thead>\n",
       "    <tr style=\"text-align: right;\">\n",
       "      <th></th>\n",
       "      <th>ReviewID</th>\n",
       "      <th>sentiment</th>\n",
       "    </tr>\n",
       "  </thead>\n",
       "  <tbody>\n",
       "    <tr>\n",
       "      <th>0</th>\n",
       "      <td>92876</td>\n",
       "      <td>1</td>\n",
       "    </tr>\n",
       "    <tr>\n",
       "      <th>1</th>\n",
       "      <td>92877</td>\n",
       "      <td>0</td>\n",
       "    </tr>\n",
       "    <tr>\n",
       "      <th>2</th>\n",
       "      <td>92878</td>\n",
       "      <td>0</td>\n",
       "    </tr>\n",
       "    <tr>\n",
       "      <th>3</th>\n",
       "      <td>92879</td>\n",
       "      <td>0</td>\n",
       "    </tr>\n",
       "    <tr>\n",
       "      <th>4</th>\n",
       "      <td>92880</td>\n",
       "      <td>0</td>\n",
       "    </tr>\n",
       "  </tbody>\n",
       "</table>\n",
       "</div>"
      ],
      "text/plain": [
       "   ReviewID  sentiment\n",
       "0     92876          1\n",
       "1     92877          0\n",
       "2     92878          0\n",
       "3     92879          0\n",
       "4     92880          0"
      ]
     },
     "execution_count": 232,
     "metadata": {},
     "output_type": "execute_result"
    }
   ],
   "source": [
    "test_data.head()"
   ]
  },
  {
   "cell_type": "code",
   "execution_count": 164,
   "metadata": {},
   "outputs": [],
   "source": [
    "two=pd.DataFrame(test_data).to_csv(\"three-submission.csv\", index=False)"
   ]
  },
  {
   "cell_type": "code",
   "execution_count": 233,
   "metadata": {},
   "outputs": [],
   "source": [
    "last=pd.DataFrame(test_data).to_csv(\"last-submission.csv\", index=False)"
   ]
  },
  {
   "cell_type": "markdown",
   "metadata": {},
   "source": [
    "# 2nd model"
   ]
  },
  {
   "cell_type": "markdown",
   "metadata": {},
   "source": [
    "## Importing Libraries"
   ]
  },
  {
   "cell_type": "code",
   "execution_count": 218,
   "metadata": {},
   "outputs": [],
   "source": [
    "import numpy as np # linear algebra\n",
    "import pandas as pd # data processing, CSV file I/O (e.g. pd.read_csv)\n",
    "import matplotlib.pyplot as plt # Plotting labelled data\n",
    "from nltk.corpus import stopwords # dealing with stop words\n",
    "from textblob import TextBlob # dealing with spelling correction\n",
    "from textblob import Word # dealing with lemmatization\n",
    "from sklearn.feature_extraction.text import TfidfVectorizer # leading with term frequency\n",
    "\n",
    "from sklearn.linear_model import LogisticRegression\n",
    "from sklearn.svm import LinearSVC\n",
    "from sklearn.model_selection import train_test_split\n",
    "from sklearn.preprocessing import LabelEncoder\n",
    "from sklearn.metrics import f1_score"
   ]
  },
  {
   "cell_type": "code",
   "execution_count": 219,
   "metadata": {},
   "outputs": [],
   "source": [
    "train=pd.read_csv(\"Text.csv\", header=0, sep=',')"
   ]
  },
  {
   "cell_type": "code",
   "execution_count": 220,
   "metadata": {},
   "outputs": [],
   "source": [
    "test=pd.read_csv(\"test-1566619745327.csv\", header=0, sep=',')"
   ]
  },
  {
   "cell_type": "code",
   "execution_count": 221,
   "metadata": {},
   "outputs": [
    {
     "data": {
      "text/plain": [
       "Index(['Unnamed: 0', 'createDate', 'displayImageUrl', 'displayName',\n",
       "       'hasProfanity', 'hasSpoilers', 'isSuperReviewer', 'isVerified',\n",
       "       'rating', 'review', 'score', 'timeFromCreation', 'updateDate', 'user'],\n",
       "      dtype='object')"
      ]
     },
     "execution_count": 221,
     "metadata": {},
     "output_type": "execute_result"
    }
   ],
   "source": [
    "train.columns"
   ]
  },
  {
   "cell_type": "code",
   "execution_count": 49,
   "metadata": {},
   "outputs": [],
   "source": [
    "train.drop([\"Unnamed: 0\",'displayImageUrl','hasProfanity','hasSpoilers','isSuperReviewer','isVerified','rating','timeFromCreation','updateDate'], axis=1, inplace=True)"
   ]
  },
  {
   "cell_type": "code",
   "execution_count": 50,
   "metadata": {},
   "outputs": [
    {
     "data": {
      "text/html": [
       "<div>\n",
       "<style scoped>\n",
       "    .dataframe tbody tr th:only-of-type {\n",
       "        vertical-align: middle;\n",
       "    }\n",
       "\n",
       "    .dataframe tbody tr th {\n",
       "        vertical-align: top;\n",
       "    }\n",
       "\n",
       "    .dataframe thead th {\n",
       "        text-align: right;\n",
       "    }\n",
       "</style>\n",
       "<table border=\"1\" class=\"dataframe\">\n",
       "  <thead>\n",
       "    <tr style=\"text-align: right;\">\n",
       "      <th></th>\n",
       "      <th>createDate</th>\n",
       "      <th>displayName</th>\n",
       "      <th>review</th>\n",
       "      <th>score</th>\n",
       "      <th>user</th>\n",
       "    </tr>\n",
       "  </thead>\n",
       "  <tbody>\n",
       "    <tr>\n",
       "      <th>0</th>\n",
       "      <td>2019-08-19T09:35:03.174Z</td>\n",
       "      <td>kara</td>\n",
       "      <td>Amazing! Music , animals, scenery!</td>\n",
       "      <td>5.0</td>\n",
       "      <td>{'userId': '04c1f858-a9b2-4ceb-befb-8a32d168af...</td>\n",
       "    </tr>\n",
       "    <tr>\n",
       "      <th>1</th>\n",
       "      <td>2019-08-19T09:32:29.179Z</td>\n",
       "      <td>Octa Z</td>\n",
       "      <td>I don't even know why the director was needed ...</td>\n",
       "      <td>1.5</td>\n",
       "      <td>{'userId': '978204858', 'realm': 'RT', 'displa...</td>\n",
       "    </tr>\n",
       "    <tr>\n",
       "      <th>2</th>\n",
       "      <td>2019-08-19T09:11:38.339Z</td>\n",
       "      <td>Nancy B</td>\n",
       "      <td>The graphics were amazing. The story was just ...</td>\n",
       "      <td>5.0</td>\n",
       "      <td>{'userId': '747297bd-5ef5-4b05-8a70-ebdb6e8209...</td>\n",
       "    </tr>\n",
       "    <tr>\n",
       "      <th>3</th>\n",
       "      <td>2019-08-19T08:44:42.582Z</td>\n",
       "      <td>Rose S</td>\n",
       "      <td>A beautifully done movie!  Loved it!</td>\n",
       "      <td>5.0</td>\n",
       "      <td>{'userId': '96F00C05-83F7-43D1-B2A0-C7F5C8361C...</td>\n",
       "    </tr>\n",
       "    <tr>\n",
       "      <th>4</th>\n",
       "      <td>2019-08-19T08:04:27.267Z</td>\n",
       "      <td>mom</td>\n",
       "      <td>Pretty good. Really enjoyed closed caption so ...</td>\n",
       "      <td>5.0</td>\n",
       "      <td>{'userId': 'A2A39790-5E98-421B-8B12-BD23517085...</td>\n",
       "    </tr>\n",
       "  </tbody>\n",
       "</table>\n",
       "</div>"
      ],
      "text/plain": [
       "                 createDate displayName  \\\n",
       "0  2019-08-19T09:35:03.174Z        kara   \n",
       "1  2019-08-19T09:32:29.179Z      Octa Z   \n",
       "2  2019-08-19T09:11:38.339Z     Nancy B   \n",
       "3  2019-08-19T08:44:42.582Z      Rose S   \n",
       "4  2019-08-19T08:04:27.267Z         mom   \n",
       "\n",
       "                                              review  score  \\\n",
       "0                 Amazing! Music , animals, scenery!    5.0   \n",
       "1  I don't even know why the director was needed ...    1.5   \n",
       "2  The graphics were amazing. The story was just ...    5.0   \n",
       "3               A beautifully done movie!  Loved it!    5.0   \n",
       "4  Pretty good. Really enjoyed closed caption so ...    5.0   \n",
       "\n",
       "                                                user  \n",
       "0  {'userId': '04c1f858-a9b2-4ceb-befb-8a32d168af...  \n",
       "1  {'userId': '978204858', 'realm': 'RT', 'displa...  \n",
       "2  {'userId': '747297bd-5ef5-4b05-8a70-ebdb6e8209...  \n",
       "3  {'userId': '96F00C05-83F7-43D1-B2A0-C7F5C8361C...  \n",
       "4  {'userId': 'A2A39790-5E98-421B-8B12-BD23517085...  "
      ]
     },
     "execution_count": 50,
     "metadata": {},
     "output_type": "execute_result"
    }
   ],
   "source": [
    "train.head()"
   ]
  },
  {
   "cell_type": "code",
   "execution_count": 51,
   "metadata": {},
   "outputs": [],
   "source": [
    "train.drop([\"createDate\",\"displayName\",\"user\"], axis=1, inplace=True) #droping these columns"
   ]
  },
  {
   "cell_type": "code",
   "execution_count": 52,
   "metadata": {},
   "outputs": [],
   "source": [
    "train['review']=train['review'].apply(lambda x: \" \".join( x.lower() for x in x.split())) # lowering all the words "
   ]
  },
  {
   "cell_type": "code",
   "execution_count": 53,
   "metadata": {},
   "outputs": [],
   "source": [
    "train['review']=train['review'].str.replace(\"[^\\W\\S]\",\" \") #regular Expression"
   ]
  },
  {
   "cell_type": "code",
   "execution_count": 54,
   "metadata": {},
   "outputs": [],
   "source": [
    "stop = stopwords.words('english')\n",
    "train['review'] = train['review'].apply(lambda x: \" \".join(x for x in x.split() if x not in stop)) # stopwords"
   ]
  },
  {
   "cell_type": "code",
   "execution_count": 55,
   "metadata": {},
   "outputs": [
    {
     "data": {
      "text/plain": [
       "WordList(['I', 'absolutely', 'loved', 'it', 'A', 'wonderful', 'rendition', 'of', 'the', 'original', 'Just', 'dont', 'compare', 'to', 'the', 'cartoon', 'version', 'Let', 'this', 'movie', 'be', 'its', 'own', 'and', 'you', 'will', 'like', 'it'])"
      ]
     },
     "execution_count": 55,
     "metadata": {},
     "output_type": "execute_result"
    }
   ],
   "source": [
    "TextBlob(train['review'][1]).words\n",
    "TextBlob(test['review'][1]).words # Tokenization"
   ]
  },
  {
   "cell_type": "code",
   "execution_count": 61,
   "metadata": {},
   "outputs": [],
   "source": [
    "tfidf = TfidfVectorizer(ngram_range=(1,2))\n",
    "train_vect = tfidf.fit_transform(train['review'])\n",
    "test_vect = tfidf.transform(test['review']) #applying Tfidf to reviews"
   ]
  },
  {
   "cell_type": "code",
   "execution_count": 56,
   "metadata": {},
   "outputs": [],
   "source": [
    "def scores(score):\n",
    "    if score>3.0:\n",
    "        return 0\n",
    "    else:\n",
    "        return 1"
   ]
  },
  {
   "cell_type": "code",
   "execution_count": 57,
   "metadata": {},
   "outputs": [],
   "source": [
    "train['sentiment']=train.loc[:,'score'].apply(scores) #sentiment"
   ]
  },
  {
   "cell_type": "code",
   "execution_count": 58,
   "metadata": {},
   "outputs": [],
   "source": [
    "train.drop(\"score\", axis=1, inplace=True)# dropping score"
   ]
  },
  {
   "cell_type": "code",
   "execution_count": 59,
   "metadata": {},
   "outputs": [],
   "source": [
    "le=LabelEncoder()\n",
    "y=le.fit_transform(train['sentiment'].values) #applying Label Encoder for sentiment"
   ]
  },
  {
   "cell_type": "code",
   "execution_count": 62,
   "metadata": {},
   "outputs": [],
   "source": [
    "X_train, X_test, y_train, y_test=train_test_split(train_vect, y, train_size=0.75)# train-Test-split"
   ]
  },
  {
   "cell_type": "markdown",
   "metadata": {},
   "source": [
    "## Logistic Regression"
   ]
  },
  {
   "cell_type": "code",
   "execution_count": 63,
   "metadata": {},
   "outputs": [],
   "source": [
    "lr = LogisticRegression(random_state=0)"
   ]
  },
  {
   "cell_type": "code",
   "execution_count": 64,
   "metadata": {},
   "outputs": [
    {
     "name": "stderr",
     "output_type": "stream",
     "text": [
      "D:\\Anaconda\\lib\\site-packages\\sklearn\\linear_model\\logistic.py:432: FutureWarning: Default solver will be changed to 'lbfgs' in 0.22. Specify a solver to silence this warning.\n",
      "  FutureWarning)\n"
     ]
    }
   ],
   "source": [
    "lr.fit(X_train, y_train)#Train-Data\n",
    "predictions_lr = lr.predict(X_test) # Validation-Data"
   ]
  },
  {
   "cell_type": "code",
   "execution_count": 65,
   "metadata": {},
   "outputs": [
    {
     "data": {
      "text/plain": [
       "0.2578125"
      ]
     },
     "execution_count": 65,
     "metadata": {},
     "output_type": "execute_result"
    }
   ],
   "source": [
    "f1_score(y_test,predictions_lr)"
   ]
  },
  {
   "cell_type": "code",
   "execution_count": 66,
   "metadata": {},
   "outputs": [],
   "source": [
    "pred_test=lr.predict(test_vect)#Test-Data"
   ]
  },
  {
   "cell_type": "markdown",
   "metadata": {},
   "source": [
    "## Linear Support Vector Classifier"
   ]
  },
  {
   "cell_type": "code",
   "execution_count": 67,
   "metadata": {},
   "outputs": [],
   "source": [
    "lsv = LinearSVC()"
   ]
  },
  {
   "cell_type": "code",
   "execution_count": 68,
   "metadata": {},
   "outputs": [
    {
     "data": {
      "text/plain": [
       "LinearSVC(C=1.0, class_weight=None, dual=True, fit_intercept=True,\n",
       "          intercept_scaling=1, loss='squared_hinge', max_iter=1000,\n",
       "          multi_class='ovr', penalty='l2', random_state=None, tol=0.0001,\n",
       "          verbose=0)"
      ]
     },
     "execution_count": 68,
     "metadata": {},
     "output_type": "execute_result"
    }
   ],
   "source": [
    "lsv.fit(X_train, y_train)#Train-Data"
   ]
  },
  {
   "cell_type": "code",
   "execution_count": 69,
   "metadata": {},
   "outputs": [],
   "source": [
    "predictions_lr = lsv.predict(X_test)#Validation-Data"
   ]
  },
  {
   "cell_type": "code",
   "execution_count": 70,
   "metadata": {},
   "outputs": [
    {
     "data": {
      "text/plain": [
       "0.6480446927374302"
      ]
     },
     "execution_count": 70,
     "metadata": {},
     "output_type": "execute_result"
    }
   ],
   "source": [
    "f1_score(y_test,predictions_lr)"
   ]
  },
  {
   "cell_type": "code",
   "execution_count": 71,
   "metadata": {},
   "outputs": [],
   "source": [
    "pred_test=lsv.predict(test_vect)# Test-Data"
   ]
  },
  {
   "cell_type": "markdown",
   "metadata": {},
   "source": [
    "## Decision Tree"
   ]
  },
  {
   "cell_type": "code",
   "execution_count": 222,
   "metadata": {},
   "outputs": [],
   "source": [
    "train=pd.read_csv(\"Text.csv\", header=0, sep=',')"
   ]
  },
  {
   "cell_type": "code",
   "execution_count": 77,
   "metadata": {},
   "outputs": [],
   "source": [
    "train.drop([\"Unnamed: 0\",'displayImageUrl','rating','timeFromCreation','updateDate',], axis=1, inplace=True)#dropping these columns"
   ]
  },
  {
   "cell_type": "code",
   "execution_count": 78,
   "metadata": {},
   "outputs": [],
   "source": [
    "train.drop(['createDate','displayName','user'], axis=1, inplace=True)"
   ]
  },
  {
   "cell_type": "code",
   "execution_count": 79,
   "metadata": {},
   "outputs": [
    {
     "data": {
      "text/html": [
       "<div>\n",
       "<style scoped>\n",
       "    .dataframe tbody tr th:only-of-type {\n",
       "        vertical-align: middle;\n",
       "    }\n",
       "\n",
       "    .dataframe tbody tr th {\n",
       "        vertical-align: top;\n",
       "    }\n",
       "\n",
       "    .dataframe thead th {\n",
       "        text-align: right;\n",
       "    }\n",
       "</style>\n",
       "<table border=\"1\" class=\"dataframe\">\n",
       "  <thead>\n",
       "    <tr style=\"text-align: right;\">\n",
       "      <th></th>\n",
       "      <th>hasProfanity</th>\n",
       "      <th>hasSpoilers</th>\n",
       "      <th>isSuperReviewer</th>\n",
       "      <th>isVerified</th>\n",
       "      <th>review</th>\n",
       "      <th>score</th>\n",
       "    </tr>\n",
       "  </thead>\n",
       "  <tbody>\n",
       "    <tr>\n",
       "      <th>0</th>\n",
       "      <td>False</td>\n",
       "      <td>False</td>\n",
       "      <td>False</td>\n",
       "      <td>True</td>\n",
       "      <td>Amazing! Music , animals, scenery!</td>\n",
       "      <td>5.0</td>\n",
       "    </tr>\n",
       "    <tr>\n",
       "      <th>1</th>\n",
       "      <td>False</td>\n",
       "      <td>False</td>\n",
       "      <td>False</td>\n",
       "      <td>False</td>\n",
       "      <td>I don't even know why the director was needed ...</td>\n",
       "      <td>1.5</td>\n",
       "    </tr>\n",
       "    <tr>\n",
       "      <th>2</th>\n",
       "      <td>False</td>\n",
       "      <td>False</td>\n",
       "      <td>False</td>\n",
       "      <td>True</td>\n",
       "      <td>The graphics were amazing. The story was just ...</td>\n",
       "      <td>5.0</td>\n",
       "    </tr>\n",
       "    <tr>\n",
       "      <th>3</th>\n",
       "      <td>False</td>\n",
       "      <td>False</td>\n",
       "      <td>False</td>\n",
       "      <td>True</td>\n",
       "      <td>A beautifully done movie!  Loved it!</td>\n",
       "      <td>5.0</td>\n",
       "    </tr>\n",
       "    <tr>\n",
       "      <th>4</th>\n",
       "      <td>False</td>\n",
       "      <td>False</td>\n",
       "      <td>False</td>\n",
       "      <td>True</td>\n",
       "      <td>Pretty good. Really enjoyed closed caption so ...</td>\n",
       "      <td>5.0</td>\n",
       "    </tr>\n",
       "  </tbody>\n",
       "</table>\n",
       "</div>"
      ],
      "text/plain": [
       "   hasProfanity  hasSpoilers  isSuperReviewer  isVerified  \\\n",
       "0         False        False            False        True   \n",
       "1         False        False            False       False   \n",
       "2         False        False            False        True   \n",
       "3         False        False            False        True   \n",
       "4         False        False            False        True   \n",
       "\n",
       "                                              review  score  \n",
       "0                 Amazing! Music , animals, scenery!    5.0  \n",
       "1  I don't even know why the director was needed ...    1.5  \n",
       "2  The graphics were amazing. The story was just ...    5.0  \n",
       "3               A beautifully done movie!  Loved it!    5.0  \n",
       "4  Pretty good. Really enjoyed closed caption so ...    5.0  "
      ]
     },
     "execution_count": 79,
     "metadata": {},
     "output_type": "execute_result"
    }
   ],
   "source": [
    "train.head()"
   ]
  },
  {
   "cell_type": "code",
   "execution_count": 80,
   "metadata": {},
   "outputs": [],
   "source": [
    "for col in [\"hasProfanity\",'hasSpoilers','isSuperReviewer','isVerified']:\n",
    "    train[col]:train[col].astype(\"category\") # converting cat columns into there respective dtypes"
   ]
  },
  {
   "cell_type": "code",
   "execution_count": 81,
   "metadata": {},
   "outputs": [],
   "source": [
    "categorical_Attributes = train.select_dtypes(include=['category']).columns"
   ]
  },
  {
   "cell_type": "code",
   "execution_count": 82,
   "metadata": {},
   "outputs": [],
   "source": [
    "train['review']=train['review'].apply(lambda x: \" \".join( x.lower() for x in x.split())) #converting words into lower case"
   ]
  },
  {
   "cell_type": "code",
   "execution_count": 83,
   "metadata": {},
   "outputs": [],
   "source": [
    "train['review']=train['review'].str.replace(\"[^\\W\\S]\",\" \")# regular Expression"
   ]
  },
  {
   "cell_type": "code",
   "execution_count": 84,
   "metadata": {},
   "outputs": [],
   "source": [
    "stop = stopwords.words('english')\n",
    "train['review'] = train['review'].apply(lambda x: \" \".join(x for x in x.split() if x not in stop)) # stopwords"
   ]
  },
  {
   "cell_type": "code",
   "execution_count": 85,
   "metadata": {},
   "outputs": [
    {
     "data": {
      "text/plain": [
       "WordList(['even', 'know', 'director', 'needed', 'here', 'characters', 'express', 'emotions', 'all', 'scene', 'copied', 'ruined', 'everything', 'disgrace'])"
      ]
     },
     "execution_count": 85,
     "metadata": {},
     "output_type": "execute_result"
    }
   ],
   "source": [
    "TextBlob(train['review'][1]).words"
   ]
  },
  {
   "cell_type": "code",
   "execution_count": 86,
   "metadata": {},
   "outputs": [],
   "source": [
    "tfidf = TfidfVectorizer(ngram_range=(1,2))\n",
    "train_vect = tfidf.fit_transform(train['review'])#Tfidf"
   ]
  },
  {
   "cell_type": "code",
   "execution_count": 87,
   "metadata": {},
   "outputs": [],
   "source": [
    "def scores(score):\n",
    "    if score>3.0:\n",
    "        return 0\n",
    "    else:\n",
    "        return 1"
   ]
  },
  {
   "cell_type": "code",
   "execution_count": 88,
   "metadata": {},
   "outputs": [],
   "source": [
    "train['sentiment']=train.loc[:,'score'].apply(scores)#Sentiment"
   ]
  },
  {
   "cell_type": "code",
   "execution_count": 89,
   "metadata": {},
   "outputs": [],
   "source": [
    "train.drop(\"score\", axis=1, inplace=True)"
   ]
  },
  {
   "cell_type": "code",
   "execution_count": 90,
   "metadata": {},
   "outputs": [],
   "source": [
    "le=LabelEncoder()\n",
    "y=le.fit_transform(train['sentiment'].values) #Label Encoder for sentiment"
   ]
  },
  {
   "cell_type": "code",
   "execution_count": 91,
   "metadata": {},
   "outputs": [],
   "source": [
    "X_train, X_test, y_train, y_test=train_test_split(train_vect, y, train_size=0.6) #Train-Test-split"
   ]
  },
  {
   "cell_type": "code",
   "execution_count": 93,
   "metadata": {},
   "outputs": [],
   "source": [
    "clf= tree.DecisionTreeClassifier(max_depth=4)\n",
    "clf= clf.fit(X_train, y_train) #Decision tree Classifer  with tree depth=4"
   ]
  },
  {
   "cell_type": "code",
   "execution_count": 94,
   "metadata": {},
   "outputs": [],
   "source": [
    "pred_train_tree=clf.predict(X_train)# Train-Data"
   ]
  },
  {
   "cell_type": "code",
   "execution_count": 95,
   "metadata": {},
   "outputs": [],
   "source": [
    "pred_test_tree=clf.predict(X_test)#Validation-Data"
   ]
  },
  {
   "cell_type": "code",
   "execution_count": 98,
   "metadata": {},
   "outputs": [
    {
     "data": {
      "text/plain": [
       "0.19892473118279572"
      ]
     },
     "execution_count": 98,
     "metadata": {},
     "output_type": "execute_result"
    }
   ],
   "source": [
    "f1_score(y_test, pred_test_tree)"
   ]
  },
  {
   "cell_type": "code",
   "execution_count": 97,
   "metadata": {},
   "outputs": [],
   "source": [
    "test=pd.read_csv(\"test-1566619745327.csv\", header=0, sep=',')#test-Data"
   ]
  },
  {
   "cell_type": "code",
   "execution_count": 99,
   "metadata": {},
   "outputs": [
    {
     "data": {
      "text/plain": [
       "WordList(['I', 'absolutely', 'loved', 'it', 'A', 'wonderful', 'rendition', 'of', 'the', 'original', 'Just', 'dont', 'compare', 'to', 'the', 'cartoon', 'version', 'Let', 'this', 'movie', 'be', 'its', 'own', 'and', 'you', 'will', 'like', 'it'])"
      ]
     },
     "execution_count": 99,
     "metadata": {},
     "output_type": "execute_result"
    }
   ],
   "source": [
    "TextBlob(test['review'][1]).words"
   ]
  },
  {
   "cell_type": "code",
   "execution_count": 100,
   "metadata": {},
   "outputs": [],
   "source": [
    "test['review'] = test['review'].apply(lambda x: \" \".join([Word(word).lemmatize() for word in x.split()]))# Lammatization"
   ]
  },
  {
   "cell_type": "code",
   "execution_count": 101,
   "metadata": {},
   "outputs": [],
   "source": [
    "test_tree=clf.predict(test_vect)"
   ]
  },
  {
   "cell_type": "markdown",
   "metadata": {},
   "source": [
    "## Random Forest"
   ]
  },
  {
   "cell_type": "code",
   "execution_count": 103,
   "metadata": {},
   "outputs": [],
   "source": [
    "rfc = RandomForestClassifier(n_estimators=30,verbose=1)#Random Forest"
   ]
  },
  {
   "cell_type": "code",
   "execution_count": 104,
   "metadata": {},
   "outputs": [
    {
     "name": "stderr",
     "output_type": "stream",
     "text": [
      "[Parallel(n_jobs=1)]: Using backend SequentialBackend with 1 concurrent workers.\n",
      "[Parallel(n_jobs=1)]: Done  30 out of  30 | elapsed:    1.2s finished\n"
     ]
    },
    {
     "data": {
      "text/plain": [
       "RandomForestClassifier(bootstrap=True, class_weight=None, criterion='gini',\n",
       "                       max_depth=None, max_features='auto', max_leaf_nodes=None,\n",
       "                       min_impurity_decrease=0.0, min_impurity_split=None,\n",
       "                       min_samples_leaf=1, min_samples_split=2,\n",
       "                       min_weight_fraction_leaf=0.0, n_estimators=30,\n",
       "                       n_jobs=None, oob_score=False, random_state=None,\n",
       "                       verbose=1, warm_start=False)"
      ]
     },
     "execution_count": 104,
     "metadata": {},
     "output_type": "execute_result"
    }
   ],
   "source": [
    "rfc.fit(X_train, y_train)"
   ]
  },
  {
   "cell_type": "code",
   "execution_count": 105,
   "metadata": {},
   "outputs": [
    {
     "name": "stderr",
     "output_type": "stream",
     "text": [
      "[Parallel(n_jobs=1)]: Using backend SequentialBackend with 1 concurrent workers.\n",
      "[Parallel(n_jobs=1)]: Done  30 out of  30 | elapsed:    0.0s finished\n"
     ]
    }
   ],
   "source": [
    "pred_test_tree=rfc.predict(X_test)# Applying on Validation data"
   ]
  },
  {
   "cell_type": "code",
   "execution_count": 106,
   "metadata": {},
   "outputs": [
    {
     "data": {
      "text/plain": [
       "0.3291139240506329"
      ]
     },
     "execution_count": 106,
     "metadata": {},
     "output_type": "execute_result"
    }
   ],
   "source": [
    "f1_score(y_test,pred_test_tree)"
   ]
  },
  {
   "cell_type": "code",
   "execution_count": 107,
   "metadata": {},
   "outputs": [
    {
     "name": "stderr",
     "output_type": "stream",
     "text": [
      "[Parallel(n_jobs=1)]: Using backend SequentialBackend with 1 concurrent workers.\n",
      "[Parallel(n_jobs=1)]: Done  30 out of  30 | elapsed:    0.0s finished\n"
     ]
    }
   ],
   "source": [
    "random_forest_test=rfc.predict(test_vect)# Test-Data"
   ]
  },
  {
   "cell_type": "markdown",
   "metadata": {},
   "source": [
    "## Clustering"
   ]
  },
  {
   "cell_type": "code",
   "execution_count": 109,
   "metadata": {},
   "outputs": [],
   "source": [
    "k=range(1,9)\n",
    "for k in k:\n",
    "    model=KNeighborsClassifier(n_neighbors=k,weights='uniform',p=2)\n",
    "    model.fit(X_train, y_train) #Selecting the best nearest neighbors"
   ]
  },
  {
   "cell_type": "code",
   "execution_count": 110,
   "metadata": {},
   "outputs": [],
   "source": [
    "clustering_train=model.predict(X_train) #Applying on train data"
   ]
  },
  {
   "cell_type": "code",
   "execution_count": 111,
   "metadata": {},
   "outputs": [],
   "source": [
    "clustering_test=model.predict(X_test)# Applying on Validation data"
   ]
  },
  {
   "cell_type": "code",
   "execution_count": 112,
   "metadata": {},
   "outputs": [
    {
     "data": {
      "text/plain": [
       "0.3543123543123543"
      ]
     },
     "execution_count": 112,
     "metadata": {},
     "output_type": "execute_result"
    }
   ],
   "source": [
    "f1_score(y_test, clustering_test)"
   ]
  },
  {
   "cell_type": "code",
   "execution_count": 113,
   "metadata": {},
   "outputs": [],
   "source": [
    "model.test=model.predict(test_vect)# Test-Data"
   ]
  },
  {
   "cell_type": "markdown",
   "metadata": {},
   "source": [
    "## F1-Scores of all the models"
   ]
  },
  {
   "cell_type": "markdown",
   "metadata": {},
   "source": [
    "\n",
    "### Model Building                                                                                          F1-Score\n",
    "#### Neural Network with Embedding layer                                                                          -- 0.38\n",
    "#### Logistic Regression                                                                                                        -- 0.25\n",
    "#### Linear support Vector Classifier                                                                                    -- 0.64\n",
    "#### Decision Tree Classifier                                                                                                  -- 0.19\n",
    "#### Random Forest                                                                                                                 -- 0.32\n",
    "#### Clustering                                                                                                                         -- 0.35"
   ]
  }
 ],
 "metadata": {
  "kernelspec": {
   "display_name": "Python 3",
   "language": "python",
   "name": "python3"
  },
  "language_info": {
   "codemirror_mode": {
    "name": "ipython",
    "version": 3
   },
   "file_extension": ".py",
   "mimetype": "text/x-python",
   "name": "python",
   "nbconvert_exporter": "python",
   "pygments_lexer": "ipython3",
   "version": "3.7.3"
  }
 },
 "nbformat": 4,
 "nbformat_minor": 2
}
